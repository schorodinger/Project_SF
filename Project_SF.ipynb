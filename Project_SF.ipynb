{
 "nbformat": 4,
 "nbformat_minor": 0,
 "metadata": {
  "colab": {
   "name": "fsq-project-data-collection-api.ipynb",
   "provenance": [],
   "collapsed_sections": [
    "J95lW96yStB3",
    "Jn0O3ckx7-Gb",
    "YlR3-U2sTiyU",
    "OApCdJtajBuA",
    "mWz974dJpWvp"
   ]
  },
  "kernelspec": {
   "name": "python3",
   "display_name": "Python 3"
  },
  "language_info": {
   "name": "python"
  }
 },
 "cells": [
  {
   "cell_type": "code",
   "execution_count": 1,
   "metadata": {
    "id": "Ek07FrSS60CK"
   },
   "outputs": [
    {
     "name": "stderr",
     "output_type": "stream",
     "text": [
      "C:\\Users\\eliel\\miniconda3\\lib\\site-packages\\fuzzywuzzy\\fuzz.py:11: UserWarning: Using slow pure-python SequenceMatcher. Install python-Levenshtein to remove this warning\n",
      "  warnings.warn('Using slow pure-python SequenceMatcher. Install python-Levenshtein to remove this warning')\n"
     ]
    }
   ],
   "source": [
    "import numpy as np\n",
    "import pandas as pd\n",
    "import seaborn as sns\n",
    "import requests\n",
    "import folium\n",
    "import os\n",
    "import json\n",
    "import glob\n",
    "from bs4 import BeautifulSoup\n",
    "from geopy.geocoders import Nominatim\n",
    "from sklearn.cluster import KMeans\n",
    "from uszipcode import SearchEngine\n",
    "import matplotlib.pyplot as plt\n",
    "import matplotlib.cm as cm\n",
    "import matplotlib.colors as colors"
   ]
  },
  {
   "cell_type": "markdown",
   "source": [
    "### Web Scraping para os bairros de San Francisco."
   ],
   "metadata": {
    "id": "J95lW96yStB3"
   }
  },
  {
   "cell_type": "code",
   "execution_count": 2,
   "outputs": [],
   "source": [
    "response = requests.get(\"http://www.healthysf.org/bdi/outcomes/zipmap.htm\")"
   ],
   "metadata": {
    "collapsed": false,
    "pycharm": {
     "name": "#%%\n"
    }
   }
  },
  {
   "cell_type": "code",
   "execution_count": 3,
   "outputs": [],
   "source": [
    "soup = BeautifulSoup(response.text, \"lxml\")"
   ],
   "metadata": {
    "collapsed": false,
    "pycharm": {
     "name": "#%%\n"
    }
   }
  },
  {
   "cell_type": "code",
   "execution_count": 4,
   "outputs": [],
   "source": [
    "table = soup.find_all(\"table\")"
   ],
   "metadata": {
    "collapsed": false,
    "pycharm": {
     "name": "#%%\n"
    }
   }
  },
  {
   "cell_type": "code",
   "execution_count": 5,
   "outputs": [],
   "source": [
    "df = pd.read_html(str(table))\n",
    "df = pd.DataFrame(df[4])"
   ],
   "metadata": {
    "collapsed": false,
    "pycharm": {
     "name": "#%%\n"
    }
   }
  },
  {
   "cell_type": "code",
   "execution_count": 6,
   "outputs": [],
   "source": [
    "df.columns = df.iloc[0]"
   ],
   "metadata": {
    "collapsed": false,
    "pycharm": {
     "name": "#%%\n"
    }
   }
  },
  {
   "cell_type": "code",
   "execution_count": 7,
   "outputs": [],
   "source": [
    "df_sf=df.drop('Population (Census 2000)',axis=1)"
   ],
   "metadata": {
    "collapsed": false,
    "pycharm": {
     "name": "#%%\n"
    }
   }
  },
  {
   "cell_type": "code",
   "execution_count": 8,
   "outputs": [],
   "source": [
    "df_sf = df_sf.iloc[1:-1]"
   ],
   "metadata": {
    "collapsed": false,
    "pycharm": {
     "name": "#%%\n"
    }
   }
  },
  {
   "cell_type": "code",
   "execution_count": 9,
   "outputs": [],
   "source": [
    "search = SearchEngine()\n",
    "\n",
    "latitude = []\n",
    "longitude = []\n",
    "\n",
    "for index, row in df_sf.iterrows():\n",
    "    zipcode = search.by_zipcode(row[\"Zip Code\"]).to_dict()\n",
    "    latitude.append(zipcode.get(\"lat\"))\n",
    "    longitude.append(zipcode.get(\"lng\"))\n",
    "\n",
    "df_sf[\"Latitude\"] = latitude\n",
    "df_sf[\"Longitude\"] = longitude\n"
   ],
   "metadata": {
    "collapsed": false,
    "pycharm": {
     "name": "#%%\n"
    }
   }
  },
  {
   "cell_type": "code",
   "execution_count": 10,
   "outputs": [
    {
     "name": "stdout",
     "output_type": "stream",
     "text": [
      "37.7790262 -122.419906\n"
     ]
    }
   ],
   "source": [
    "address = \"San Francisco\"\n",
    "\n",
    "geolocator = Nominatim(user_agent=\"ny_explorer\")\n",
    "location = geolocator.geocode(address)\n",
    "latitude = location.latitude\n",
    "longitude = location.longitude\n",
    "print(latitude,longitude)"
   ],
   "metadata": {
    "collapsed": false,
    "pycharm": {
     "name": "#%%\n"
    }
   }
  },
  {
   "cell_type": "code",
   "execution_count": 11,
   "outputs": [
    {
     "data": {
      "text/plain": "<folium.folium.Map at 0x117da22f1f0>",
      "text/html": "<div style=\"width:100%;\"><div style=\"position:relative;width:100%;height:0;padding-bottom:60%;\"><span style=\"color:#565656\">Make this Notebook Trusted to load map: File -> Trust Notebook</span><iframe src=\"about:blank\" style=\"position:absolute;width:100%;height:100%;left:0;top:0;border:none !important;\" data-html=%3C%21DOCTYPE%20html%3E%0A%3Chead%3E%20%20%20%20%0A%20%20%20%20%3Cmeta%20http-equiv%3D%22content-type%22%20content%3D%22text/html%3B%20charset%3DUTF-8%22%20/%3E%0A%20%20%20%20%0A%20%20%20%20%20%20%20%20%3Cscript%3E%0A%20%20%20%20%20%20%20%20%20%20%20%20L_NO_TOUCH%20%3D%20false%3B%0A%20%20%20%20%20%20%20%20%20%20%20%20L_DISABLE_3D%20%3D%20false%3B%0A%20%20%20%20%20%20%20%20%3C/script%3E%0A%20%20%20%20%0A%20%20%20%20%3Cstyle%3Ehtml%2C%20body%20%7Bwidth%3A%20100%25%3Bheight%3A%20100%25%3Bmargin%3A%200%3Bpadding%3A%200%3B%7D%3C/style%3E%0A%20%20%20%20%3Cstyle%3E%23map%20%7Bposition%3Aabsolute%3Btop%3A0%3Bbottom%3A0%3Bright%3A0%3Bleft%3A0%3B%7D%3C/style%3E%0A%20%20%20%20%3Cscript%20src%3D%22https%3A//cdn.jsdelivr.net/npm/leaflet%401.6.0/dist/leaflet.js%22%3E%3C/script%3E%0A%20%20%20%20%3Cscript%20src%3D%22https%3A//code.jquery.com/jquery-1.12.4.min.js%22%3E%3C/script%3E%0A%20%20%20%20%3Cscript%20src%3D%22https%3A//maxcdn.bootstrapcdn.com/bootstrap/3.2.0/js/bootstrap.min.js%22%3E%3C/script%3E%0A%20%20%20%20%3Cscript%20src%3D%22https%3A//cdnjs.cloudflare.com/ajax/libs/Leaflet.awesome-markers/2.0.2/leaflet.awesome-markers.js%22%3E%3C/script%3E%0A%20%20%20%20%3Clink%20rel%3D%22stylesheet%22%20href%3D%22https%3A//cdn.jsdelivr.net/npm/leaflet%401.6.0/dist/leaflet.css%22/%3E%0A%20%20%20%20%3Clink%20rel%3D%22stylesheet%22%20href%3D%22https%3A//maxcdn.bootstrapcdn.com/bootstrap/3.2.0/css/bootstrap.min.css%22/%3E%0A%20%20%20%20%3Clink%20rel%3D%22stylesheet%22%20href%3D%22https%3A//maxcdn.bootstrapcdn.com/bootstrap/3.2.0/css/bootstrap-theme.min.css%22/%3E%0A%20%20%20%20%3Clink%20rel%3D%22stylesheet%22%20href%3D%22https%3A//maxcdn.bootstrapcdn.com/font-awesome/4.6.3/css/font-awesome.min.css%22/%3E%0A%20%20%20%20%3Clink%20rel%3D%22stylesheet%22%20href%3D%22https%3A//cdnjs.cloudflare.com/ajax/libs/Leaflet.awesome-markers/2.0.2/leaflet.awesome-markers.css%22/%3E%0A%20%20%20%20%3Clink%20rel%3D%22stylesheet%22%20href%3D%22https%3A//cdn.jsdelivr.net/gh/python-visualization/folium/folium/templates/leaflet.awesome.rotate.min.css%22/%3E%0A%20%20%20%20%0A%20%20%20%20%20%20%20%20%20%20%20%20%3Cmeta%20name%3D%22viewport%22%20content%3D%22width%3Ddevice-width%2C%0A%20%20%20%20%20%20%20%20%20%20%20%20%20%20%20%20initial-scale%3D1.0%2C%20maximum-scale%3D1.0%2C%20user-scalable%3Dno%22%20/%3E%0A%20%20%20%20%20%20%20%20%20%20%20%20%3Cstyle%3E%0A%20%20%20%20%20%20%20%20%20%20%20%20%20%20%20%20%23map_b815b85e3d4a4571ab23f81cca15ba8d%20%7B%0A%20%20%20%20%20%20%20%20%20%20%20%20%20%20%20%20%20%20%20%20position%3A%20relative%3B%0A%20%20%20%20%20%20%20%20%20%20%20%20%20%20%20%20%20%20%20%20width%3A%20100.0%25%3B%0A%20%20%20%20%20%20%20%20%20%20%20%20%20%20%20%20%20%20%20%20height%3A%20100.0%25%3B%0A%20%20%20%20%20%20%20%20%20%20%20%20%20%20%20%20%20%20%20%20left%3A%200.0%25%3B%0A%20%20%20%20%20%20%20%20%20%20%20%20%20%20%20%20%20%20%20%20top%3A%200.0%25%3B%0A%20%20%20%20%20%20%20%20%20%20%20%20%20%20%20%20%7D%0A%20%20%20%20%20%20%20%20%20%20%20%20%3C/style%3E%0A%20%20%20%20%20%20%20%20%0A%3C/head%3E%0A%3Cbody%3E%20%20%20%20%0A%20%20%20%20%0A%20%20%20%20%20%20%20%20%20%20%20%20%3Cdiv%20class%3D%22folium-map%22%20id%3D%22map_b815b85e3d4a4571ab23f81cca15ba8d%22%20%3E%3C/div%3E%0A%20%20%20%20%20%20%20%20%0A%3C/body%3E%0A%3Cscript%3E%20%20%20%20%0A%20%20%20%20%0A%20%20%20%20%20%20%20%20%20%20%20%20var%20map_b815b85e3d4a4571ab23f81cca15ba8d%20%3D%20L.map%28%0A%20%20%20%20%20%20%20%20%20%20%20%20%20%20%20%20%22map_b815b85e3d4a4571ab23f81cca15ba8d%22%2C%0A%20%20%20%20%20%20%20%20%20%20%20%20%20%20%20%20%7B%0A%20%20%20%20%20%20%20%20%20%20%20%20%20%20%20%20%20%20%20%20center%3A%20%5B37.7790262%2C%20-122.419906%5D%2C%0A%20%20%20%20%20%20%20%20%20%20%20%20%20%20%20%20%20%20%20%20crs%3A%20L.CRS.EPSG3857%2C%0A%20%20%20%20%20%20%20%20%20%20%20%20%20%20%20%20%20%20%20%20zoom%3A%2010%2C%0A%20%20%20%20%20%20%20%20%20%20%20%20%20%20%20%20%20%20%20%20zoomControl%3A%20true%2C%0A%20%20%20%20%20%20%20%20%20%20%20%20%20%20%20%20%20%20%20%20preferCanvas%3A%20false%2C%0A%20%20%20%20%20%20%20%20%20%20%20%20%20%20%20%20%7D%0A%20%20%20%20%20%20%20%20%20%20%20%20%29%3B%0A%0A%20%20%20%20%20%20%20%20%20%20%20%20%0A%0A%20%20%20%20%20%20%20%20%0A%20%20%20%20%0A%20%20%20%20%20%20%20%20%20%20%20%20var%20tile_layer_064fb7c59c2c4e379b11d67942bb9584%20%3D%20L.tileLayer%28%0A%20%20%20%20%20%20%20%20%20%20%20%20%20%20%20%20%22https%3A//%7Bs%7D.tile.openstreetmap.org/%7Bz%7D/%7Bx%7D/%7By%7D.png%22%2C%0A%20%20%20%20%20%20%20%20%20%20%20%20%20%20%20%20%7B%22attribution%22%3A%20%22Data%20by%20%5Cu0026copy%3B%20%5Cu003ca%20href%3D%5C%22http%3A//openstreetmap.org%5C%22%5Cu003eOpenStreetMap%5Cu003c/a%5Cu003e%2C%20under%20%5Cu003ca%20href%3D%5C%22http%3A//www.openstreetmap.org/copyright%5C%22%5Cu003eODbL%5Cu003c/a%5Cu003e.%22%2C%20%22detectRetina%22%3A%20false%2C%20%22maxNativeZoom%22%3A%2018%2C%20%22maxZoom%22%3A%2018%2C%20%22minZoom%22%3A%200%2C%20%22noWrap%22%3A%20false%2C%20%22opacity%22%3A%201%2C%20%22subdomains%22%3A%20%22abc%22%2C%20%22tms%22%3A%20false%7D%0A%20%20%20%20%20%20%20%20%20%20%20%20%29.addTo%28map_b815b85e3d4a4571ab23f81cca15ba8d%29%3B%0A%20%20%20%20%20%20%20%20%0A%20%20%20%20%0A%20%20%20%20%20%20%20%20%20%20%20%20var%20circle_marker_8704d233a7e54ec5b56714a846a9a782%20%3D%20L.circleMarker%28%0A%20%20%20%20%20%20%20%20%20%20%20%20%20%20%20%20%5B37.78%2C%20-122.42%5D%2C%0A%20%20%20%20%20%20%20%20%20%20%20%20%20%20%20%20%7B%22bubblingMouseEvents%22%3A%20true%2C%20%22color%22%3A%20%22blue%22%2C%20%22dashArray%22%3A%20null%2C%20%22dashOffset%22%3A%20null%2C%20%22fill%22%3A%20true%2C%20%22fillColor%22%3A%20%22%233186cc%22%2C%20%22fillOpacity%22%3A%200.7%2C%20%22fillRule%22%3A%20%22evenodd%22%2C%20%22lineCap%22%3A%20%22round%22%2C%20%22lineJoin%22%3A%20%22round%22%2C%20%22opacity%22%3A%201.0%2C%20%22radius%22%3A%205%2C%20%22stroke%22%3A%20true%2C%20%22weight%22%3A%203%7D%0A%20%20%20%20%20%20%20%20%20%20%20%20%29.addTo%28map_b815b85e3d4a4571ab23f81cca15ba8d%29%3B%0A%20%20%20%20%20%20%20%20%0A%20%20%20%20%0A%20%20%20%20%20%20%20%20var%20popup_3231e866eed24897a105ba7f3ebd6924%20%3D%20L.popup%28%7B%22maxWidth%22%3A%20%22100%25%22%7D%29%3B%0A%0A%20%20%20%20%20%20%20%20%0A%20%20%20%20%20%20%20%20%20%20%20%20var%20html_a985b6dd30184c76a2d610d5de072d9e%20%3D%20%24%28%60%3Cdiv%20id%3D%22html_a985b6dd30184c76a2d610d5de072d9e%22%20style%3D%22width%3A%20100.0%25%3B%20height%3A%20100.0%25%3B%22%3EHayes%20Valley/Tenderloin/North%20of%20Market%3C/div%3E%60%29%5B0%5D%3B%0A%20%20%20%20%20%20%20%20%20%20%20%20popup_3231e866eed24897a105ba7f3ebd6924.setContent%28html_a985b6dd30184c76a2d610d5de072d9e%29%3B%0A%20%20%20%20%20%20%20%20%0A%0A%20%20%20%20%20%20%20%20circle_marker_8704d233a7e54ec5b56714a846a9a782.bindPopup%28popup_3231e866eed24897a105ba7f3ebd6924%29%0A%20%20%20%20%20%20%20%20%3B%0A%0A%20%20%20%20%20%20%20%20%0A%20%20%20%20%0A%20%20%20%20%0A%20%20%20%20%20%20%20%20%20%20%20%20var%20circle_marker_4e36ba011eaa4af89552faafe003af12%20%3D%20L.circleMarker%28%0A%20%20%20%20%20%20%20%20%20%20%20%20%20%20%20%20%5B37.77%2C%20-122.41%5D%2C%0A%20%20%20%20%20%20%20%20%20%20%20%20%20%20%20%20%7B%22bubblingMouseEvents%22%3A%20true%2C%20%22color%22%3A%20%22blue%22%2C%20%22dashArray%22%3A%20null%2C%20%22dashOffset%22%3A%20null%2C%20%22fill%22%3A%20true%2C%20%22fillColor%22%3A%20%22%233186cc%22%2C%20%22fillOpacity%22%3A%200.7%2C%20%22fillRule%22%3A%20%22evenodd%22%2C%20%22lineCap%22%3A%20%22round%22%2C%20%22lineJoin%22%3A%20%22round%22%2C%20%22opacity%22%3A%201.0%2C%20%22radius%22%3A%205%2C%20%22stroke%22%3A%20true%2C%20%22weight%22%3A%203%7D%0A%20%20%20%20%20%20%20%20%20%20%20%20%29.addTo%28map_b815b85e3d4a4571ab23f81cca15ba8d%29%3B%0A%20%20%20%20%20%20%20%20%0A%20%20%20%20%0A%20%20%20%20%20%20%20%20var%20popup_788989a9e2744d55a48023d7eba61516%20%3D%20L.popup%28%7B%22maxWidth%22%3A%20%22100%25%22%7D%29%3B%0A%0A%20%20%20%20%20%20%20%20%0A%20%20%20%20%20%20%20%20%20%20%20%20var%20html_58a14fbe07bb4315a02d18936602c85b%20%3D%20%24%28%60%3Cdiv%20id%3D%22html_58a14fbe07bb4315a02d18936602c85b%22%20style%3D%22width%3A%20100.0%25%3B%20height%3A%20100.0%25%3B%22%3ESouth%20of%20Market%3C/div%3E%60%29%5B0%5D%3B%0A%20%20%20%20%20%20%20%20%20%20%20%20popup_788989a9e2744d55a48023d7eba61516.setContent%28html_58a14fbe07bb4315a02d18936602c85b%29%3B%0A%20%20%20%20%20%20%20%20%0A%0A%20%20%20%20%20%20%20%20circle_marker_4e36ba011eaa4af89552faafe003af12.bindPopup%28popup_788989a9e2744d55a48023d7eba61516%29%0A%20%20%20%20%20%20%20%20%3B%0A%0A%20%20%20%20%20%20%20%20%0A%20%20%20%20%0A%20%20%20%20%0A%20%20%20%20%20%20%20%20%20%20%20%20var%20circle_marker_689fba4b9ec64a28b071fe19335f1a3b%20%3D%20L.circleMarker%28%0A%20%20%20%20%20%20%20%20%20%20%20%20%20%20%20%20%5B37.76%2C%20-122.39%5D%2C%0A%20%20%20%20%20%20%20%20%20%20%20%20%20%20%20%20%7B%22bubblingMouseEvents%22%3A%20true%2C%20%22color%22%3A%20%22blue%22%2C%20%22dashArray%22%3A%20null%2C%20%22dashOffset%22%3A%20null%2C%20%22fill%22%3A%20true%2C%20%22fillColor%22%3A%20%22%233186cc%22%2C%20%22fillOpacity%22%3A%200.7%2C%20%22fillRule%22%3A%20%22evenodd%22%2C%20%22lineCap%22%3A%20%22round%22%2C%20%22lineJoin%22%3A%20%22round%22%2C%20%22opacity%22%3A%201.0%2C%20%22radius%22%3A%205%2C%20%22stroke%22%3A%20true%2C%20%22weight%22%3A%203%7D%0A%20%20%20%20%20%20%20%20%20%20%20%20%29.addTo%28map_b815b85e3d4a4571ab23f81cca15ba8d%29%3B%0A%20%20%20%20%20%20%20%20%0A%20%20%20%20%0A%20%20%20%20%20%20%20%20var%20popup_39cbadfa24e14ad5a76b7f4aa77c0471%20%3D%20L.popup%28%7B%22maxWidth%22%3A%20%22100%25%22%7D%29%3B%0A%0A%20%20%20%20%20%20%20%20%0A%20%20%20%20%20%20%20%20%20%20%20%20var%20html_bbb275939e8b470b99b474085b2a71ec%20%3D%20%24%28%60%3Cdiv%20id%3D%22html_bbb275939e8b470b99b474085b2a71ec%22%20style%3D%22width%3A%20100.0%25%3B%20height%3A%20100.0%25%3B%22%3EPotrero%20Hill%3C/div%3E%60%29%5B0%5D%3B%0A%20%20%20%20%20%20%20%20%20%20%20%20popup_39cbadfa24e14ad5a76b7f4aa77c0471.setContent%28html_bbb275939e8b470b99b474085b2a71ec%29%3B%0A%20%20%20%20%20%20%20%20%0A%0A%20%20%20%20%20%20%20%20circle_marker_689fba4b9ec64a28b071fe19335f1a3b.bindPopup%28popup_39cbadfa24e14ad5a76b7f4aa77c0471%29%0A%20%20%20%20%20%20%20%20%3B%0A%0A%20%20%20%20%20%20%20%20%0A%20%20%20%20%0A%20%20%20%20%0A%20%20%20%20%20%20%20%20%20%20%20%20var%20circle_marker_e107c0500b2a4726b98d22a5d00fd0f2%20%3D%20L.circleMarker%28%0A%20%20%20%20%20%20%20%20%20%20%20%20%20%20%20%20%5B37.79%2C%20-122.41%5D%2C%0A%20%20%20%20%20%20%20%20%20%20%20%20%20%20%20%20%7B%22bubblingMouseEvents%22%3A%20true%2C%20%22color%22%3A%20%22blue%22%2C%20%22dashArray%22%3A%20null%2C%20%22dashOffset%22%3A%20null%2C%20%22fill%22%3A%20true%2C%20%22fillColor%22%3A%20%22%233186cc%22%2C%20%22fillOpacity%22%3A%200.7%2C%20%22fillRule%22%3A%20%22evenodd%22%2C%20%22lineCap%22%3A%20%22round%22%2C%20%22lineJoin%22%3A%20%22round%22%2C%20%22opacity%22%3A%201.0%2C%20%22radius%22%3A%205%2C%20%22stroke%22%3A%20true%2C%20%22weight%22%3A%203%7D%0A%20%20%20%20%20%20%20%20%20%20%20%20%29.addTo%28map_b815b85e3d4a4571ab23f81cca15ba8d%29%3B%0A%20%20%20%20%20%20%20%20%0A%20%20%20%20%0A%20%20%20%20%20%20%20%20var%20popup_6e7a60059972409e82230d9931ae0f33%20%3D%20L.popup%28%7B%22maxWidth%22%3A%20%22100%25%22%7D%29%3B%0A%0A%20%20%20%20%20%20%20%20%0A%20%20%20%20%20%20%20%20%20%20%20%20var%20html_fc753588127f401db5d12385f135c534%20%3D%20%24%28%60%3Cdiv%20id%3D%22html_fc753588127f401db5d12385f135c534%22%20style%3D%22width%3A%20100.0%25%3B%20height%3A%20100.0%25%3B%22%3EChinatown%3C/div%3E%60%29%5B0%5D%3B%0A%20%20%20%20%20%20%20%20%20%20%20%20popup_6e7a60059972409e82230d9931ae0f33.setContent%28html_fc753588127f401db5d12385f135c534%29%3B%0A%20%20%20%20%20%20%20%20%0A%0A%20%20%20%20%20%20%20%20circle_marker_e107c0500b2a4726b98d22a5d00fd0f2.bindPopup%28popup_6e7a60059972409e82230d9931ae0f33%29%0A%20%20%20%20%20%20%20%20%3B%0A%0A%20%20%20%20%20%20%20%20%0A%20%20%20%20%0A%20%20%20%20%0A%20%20%20%20%20%20%20%20%20%20%20%20var%20circle_marker_fbfcde8c1177454f829707bea8f184c0%20%3D%20L.circleMarker%28%0A%20%20%20%20%20%20%20%20%20%20%20%20%20%20%20%20%5B37.79%2C%20-122.42%5D%2C%0A%20%20%20%20%20%20%20%20%20%20%20%20%20%20%20%20%7B%22bubblingMouseEvents%22%3A%20true%2C%20%22color%22%3A%20%22blue%22%2C%20%22dashArray%22%3A%20null%2C%20%22dashOffset%22%3A%20null%2C%20%22fill%22%3A%20true%2C%20%22fillColor%22%3A%20%22%233186cc%22%2C%20%22fillOpacity%22%3A%200.7%2C%20%22fillRule%22%3A%20%22evenodd%22%2C%20%22lineCap%22%3A%20%22round%22%2C%20%22lineJoin%22%3A%20%22round%22%2C%20%22opacity%22%3A%201.0%2C%20%22radius%22%3A%205%2C%20%22stroke%22%3A%20true%2C%20%22weight%22%3A%203%7D%0A%20%20%20%20%20%20%20%20%20%20%20%20%29.addTo%28map_b815b85e3d4a4571ab23f81cca15ba8d%29%3B%0A%20%20%20%20%20%20%20%20%0A%20%20%20%20%0A%20%20%20%20%20%20%20%20var%20popup_45ba0bfef437473390161722018cb6d0%20%3D%20L.popup%28%7B%22maxWidth%22%3A%20%22100%25%22%7D%29%3B%0A%0A%20%20%20%20%20%20%20%20%0A%20%20%20%20%20%20%20%20%20%20%20%20var%20html_9dc843ff88a4416984a8bd10525ef671%20%3D%20%24%28%60%3Cdiv%20id%3D%22html_9dc843ff88a4416984a8bd10525ef671%22%20style%3D%22width%3A%20100.0%25%3B%20height%3A%20100.0%25%3B%22%3EPolk/Russian%20Hill%20%28Nob%20Hill%29%3C/div%3E%60%29%5B0%5D%3B%0A%20%20%20%20%20%20%20%20%20%20%20%20popup_45ba0bfef437473390161722018cb6d0.setContent%28html_9dc843ff88a4416984a8bd10525ef671%29%3B%0A%20%20%20%20%20%20%20%20%0A%0A%20%20%20%20%20%20%20%20circle_marker_fbfcde8c1177454f829707bea8f184c0.bindPopup%28popup_45ba0bfef437473390161722018cb6d0%29%0A%20%20%20%20%20%20%20%20%3B%0A%0A%20%20%20%20%20%20%20%20%0A%20%20%20%20%0A%20%20%20%20%0A%20%20%20%20%20%20%20%20%20%20%20%20var%20circle_marker_7212e84ba78640bfbe1453f0396d732c%20%3D%20L.circleMarker%28%0A%20%20%20%20%20%20%20%20%20%20%20%20%20%20%20%20%5B37.74%2C%20-122.41%5D%2C%0A%20%20%20%20%20%20%20%20%20%20%20%20%20%20%20%20%7B%22bubblingMouseEvents%22%3A%20true%2C%20%22color%22%3A%20%22blue%22%2C%20%22dashArray%22%3A%20null%2C%20%22dashOffset%22%3A%20null%2C%20%22fill%22%3A%20true%2C%20%22fillColor%22%3A%20%22%233186cc%22%2C%20%22fillOpacity%22%3A%200.7%2C%20%22fillRule%22%3A%20%22evenodd%22%2C%20%22lineCap%22%3A%20%22round%22%2C%20%22lineJoin%22%3A%20%22round%22%2C%20%22opacity%22%3A%201.0%2C%20%22radius%22%3A%205%2C%20%22stroke%22%3A%20true%2C%20%22weight%22%3A%203%7D%0A%20%20%20%20%20%20%20%20%20%20%20%20%29.addTo%28map_b815b85e3d4a4571ab23f81cca15ba8d%29%3B%0A%20%20%20%20%20%20%20%20%0A%20%20%20%20%0A%20%20%20%20%20%20%20%20var%20popup_d678e8c2a9504d93b5a513d7383ef72b%20%3D%20L.popup%28%7B%22maxWidth%22%3A%20%22100%25%22%7D%29%3B%0A%0A%20%20%20%20%20%20%20%20%0A%20%20%20%20%20%20%20%20%20%20%20%20var%20html_8d21c8220ea44b9e865ffc4c52af573e%20%3D%20%24%28%60%3Cdiv%20id%3D%22html_8d21c8220ea44b9e865ffc4c52af573e%22%20style%3D%22width%3A%20100.0%25%3B%20height%3A%20100.0%25%3B%22%3EInner%20Mission/Bernal%20Heights%3C/div%3E%60%29%5B0%5D%3B%0A%20%20%20%20%20%20%20%20%20%20%20%20popup_d678e8c2a9504d93b5a513d7383ef72b.setContent%28html_8d21c8220ea44b9e865ffc4c52af573e%29%3B%0A%20%20%20%20%20%20%20%20%0A%0A%20%20%20%20%20%20%20%20circle_marker_7212e84ba78640bfbe1453f0396d732c.bindPopup%28popup_d678e8c2a9504d93b5a513d7383ef72b%29%0A%20%20%20%20%20%20%20%20%3B%0A%0A%20%20%20%20%20%20%20%20%0A%20%20%20%20%0A%20%20%20%20%0A%20%20%20%20%20%20%20%20%20%20%20%20var%20circle_marker_5f356db2db9546e694e15dde1fe68d61%20%3D%20L.circleMarker%28%0A%20%20%20%20%20%20%20%20%20%20%20%20%20%20%20%20%5B37.72%2C%20-122.44%5D%2C%0A%20%20%20%20%20%20%20%20%20%20%20%20%20%20%20%20%7B%22bubblingMouseEvents%22%3A%20true%2C%20%22color%22%3A%20%22blue%22%2C%20%22dashArray%22%3A%20null%2C%20%22dashOffset%22%3A%20null%2C%20%22fill%22%3A%20true%2C%20%22fillColor%22%3A%20%22%233186cc%22%2C%20%22fillOpacity%22%3A%200.7%2C%20%22fillRule%22%3A%20%22evenodd%22%2C%20%22lineCap%22%3A%20%22round%22%2C%20%22lineJoin%22%3A%20%22round%22%2C%20%22opacity%22%3A%201.0%2C%20%22radius%22%3A%205%2C%20%22stroke%22%3A%20true%2C%20%22weight%22%3A%203%7D%0A%20%20%20%20%20%20%20%20%20%20%20%20%29.addTo%28map_b815b85e3d4a4571ab23f81cca15ba8d%29%3B%0A%20%20%20%20%20%20%20%20%0A%20%20%20%20%0A%20%20%20%20%20%20%20%20var%20popup_7a04e66e934642ccbe687387aa387c6c%20%3D%20L.popup%28%7B%22maxWidth%22%3A%20%22100%25%22%7D%29%3B%0A%0A%20%20%20%20%20%20%20%20%0A%20%20%20%20%20%20%20%20%20%20%20%20var%20html_e53be264ea3743258c1e76bc1d88eaca%20%3D%20%24%28%60%3Cdiv%20id%3D%22html_e53be264ea3743258c1e76bc1d88eaca%22%20style%3D%22width%3A%20100.0%25%3B%20height%3A%20100.0%25%3B%22%3EIngelside-Excelsior/Crocker-Amazon%3C/div%3E%60%29%5B0%5D%3B%0A%20%20%20%20%20%20%20%20%20%20%20%20popup_7a04e66e934642ccbe687387aa387c6c.setContent%28html_e53be264ea3743258c1e76bc1d88eaca%29%3B%0A%20%20%20%20%20%20%20%20%0A%0A%20%20%20%20%20%20%20%20circle_marker_5f356db2db9546e694e15dde1fe68d61.bindPopup%28popup_7a04e66e934642ccbe687387aa387c6c%29%0A%20%20%20%20%20%20%20%20%3B%0A%0A%20%20%20%20%20%20%20%20%0A%20%20%20%20%0A%20%20%20%20%0A%20%20%20%20%20%20%20%20%20%20%20%20var%20circle_marker_049f8f531bf54539a9a2e346a36770fe%20%3D%20L.circleMarker%28%0A%20%20%20%20%20%20%20%20%20%20%20%20%20%20%20%20%5B37.75%2C%20-122.43%5D%2C%0A%20%20%20%20%20%20%20%20%20%20%20%20%20%20%20%20%7B%22bubblingMouseEvents%22%3A%20true%2C%20%22color%22%3A%20%22blue%22%2C%20%22dashArray%22%3A%20null%2C%20%22dashOffset%22%3A%20null%2C%20%22fill%22%3A%20true%2C%20%22fillColor%22%3A%20%22%233186cc%22%2C%20%22fillOpacity%22%3A%200.7%2C%20%22fillRule%22%3A%20%22evenodd%22%2C%20%22lineCap%22%3A%20%22round%22%2C%20%22lineJoin%22%3A%20%22round%22%2C%20%22opacity%22%3A%201.0%2C%20%22radius%22%3A%205%2C%20%22stroke%22%3A%20true%2C%20%22weight%22%3A%203%7D%0A%20%20%20%20%20%20%20%20%20%20%20%20%29.addTo%28map_b815b85e3d4a4571ab23f81cca15ba8d%29%3B%0A%20%20%20%20%20%20%20%20%0A%20%20%20%20%0A%20%20%20%20%20%20%20%20var%20popup_06d5d74759404d54afcc43ead49a3914%20%3D%20L.popup%28%7B%22maxWidth%22%3A%20%22100%25%22%7D%29%3B%0A%0A%20%20%20%20%20%20%20%20%0A%20%20%20%20%20%20%20%20%20%20%20%20var%20html_9eb5355b79384767aa86f40b77d9af74%20%3D%20%24%28%60%3Cdiv%20id%3D%22html_9eb5355b79384767aa86f40b77d9af74%22%20style%3D%22width%3A%20100.0%25%3B%20height%3A%20100.0%25%3B%22%3ECastro/Noe%20Valley%3C/div%3E%60%29%5B0%5D%3B%0A%20%20%20%20%20%20%20%20%20%20%20%20popup_06d5d74759404d54afcc43ead49a3914.setContent%28html_9eb5355b79384767aa86f40b77d9af74%29%3B%0A%20%20%20%20%20%20%20%20%0A%0A%20%20%20%20%20%20%20%20circle_marker_049f8f531bf54539a9a2e346a36770fe.bindPopup%28popup_06d5d74759404d54afcc43ead49a3914%29%0A%20%20%20%20%20%20%20%20%3B%0A%0A%20%20%20%20%20%20%20%20%0A%20%20%20%20%0A%20%20%20%20%0A%20%20%20%20%20%20%20%20%20%20%20%20var%20circle_marker_8c7aef0073d44e1db84c85540da2ad5e%20%3D%20L.circleMarker%28%0A%20%20%20%20%20%20%20%20%20%20%20%20%20%20%20%20%5B37.78%2C%20-122.43%5D%2C%0A%20%20%20%20%20%20%20%20%20%20%20%20%20%20%20%20%7B%22bubblingMouseEvents%22%3A%20true%2C%20%22color%22%3A%20%22blue%22%2C%20%22dashArray%22%3A%20null%2C%20%22dashOffset%22%3A%20null%2C%20%22fill%22%3A%20true%2C%20%22fillColor%22%3A%20%22%233186cc%22%2C%20%22fillOpacity%22%3A%200.7%2C%20%22fillRule%22%3A%20%22evenodd%22%2C%20%22lineCap%22%3A%20%22round%22%2C%20%22lineJoin%22%3A%20%22round%22%2C%20%22opacity%22%3A%201.0%2C%20%22radius%22%3A%205%2C%20%22stroke%22%3A%20true%2C%20%22weight%22%3A%203%7D%0A%20%20%20%20%20%20%20%20%20%20%20%20%29.addTo%28map_b815b85e3d4a4571ab23f81cca15ba8d%29%3B%0A%20%20%20%20%20%20%20%20%0A%20%20%20%20%0A%20%20%20%20%20%20%20%20var%20popup_7e090456101846cca843accb5050e84e%20%3D%20L.popup%28%7B%22maxWidth%22%3A%20%22100%25%22%7D%29%3B%0A%0A%20%20%20%20%20%20%20%20%0A%20%20%20%20%20%20%20%20%20%20%20%20var%20html_d4322f3fa91549659105cdbbc926322c%20%3D%20%24%28%60%3Cdiv%20id%3D%22html_d4322f3fa91549659105cdbbc926322c%22%20style%3D%22width%3A%20100.0%25%3B%20height%3A%20100.0%25%3B%22%3EWestern%20Addition/Japantown%3C/div%3E%60%29%5B0%5D%3B%0A%20%20%20%20%20%20%20%20%20%20%20%20popup_7e090456101846cca843accb5050e84e.setContent%28html_d4322f3fa91549659105cdbbc926322c%29%3B%0A%20%20%20%20%20%20%20%20%0A%0A%20%20%20%20%20%20%20%20circle_marker_8c7aef0073d44e1db84c85540da2ad5e.bindPopup%28popup_7e090456101846cca843accb5050e84e%29%0A%20%20%20%20%20%20%20%20%3B%0A%0A%20%20%20%20%20%20%20%20%0A%20%20%20%20%0A%20%20%20%20%0A%20%20%20%20%20%20%20%20%20%20%20%20var%20circle_marker_7c13fc9b90004721b20c6055b2feefdf%20%3D%20L.circleMarker%28%0A%20%20%20%20%20%20%20%20%20%20%20%20%20%20%20%20%5B37.74%2C%20-122.48%5D%2C%0A%20%20%20%20%20%20%20%20%20%20%20%20%20%20%20%20%7B%22bubblingMouseEvents%22%3A%20true%2C%20%22color%22%3A%20%22blue%22%2C%20%22dashArray%22%3A%20null%2C%20%22dashOffset%22%3A%20null%2C%20%22fill%22%3A%20true%2C%20%22fillColor%22%3A%20%22%233186cc%22%2C%20%22fillOpacity%22%3A%200.7%2C%20%22fillRule%22%3A%20%22evenodd%22%2C%20%22lineCap%22%3A%20%22round%22%2C%20%22lineJoin%22%3A%20%22round%22%2C%20%22opacity%22%3A%201.0%2C%20%22radius%22%3A%205%2C%20%22stroke%22%3A%20true%2C%20%22weight%22%3A%203%7D%0A%20%20%20%20%20%20%20%20%20%20%20%20%29.addTo%28map_b815b85e3d4a4571ab23f81cca15ba8d%29%3B%0A%20%20%20%20%20%20%20%20%0A%20%20%20%20%0A%20%20%20%20%20%20%20%20var%20popup_4b94749863a44e2babbb267a4001f67d%20%3D%20L.popup%28%7B%22maxWidth%22%3A%20%22100%25%22%7D%29%3B%0A%0A%20%20%20%20%20%20%20%20%0A%20%20%20%20%20%20%20%20%20%20%20%20var%20html_6ed956f9086a44e2a3ef442474cb09df%20%3D%20%24%28%60%3Cdiv%20id%3D%22html_6ed956f9086a44e2a3ef442474cb09df%22%20style%3D%22width%3A%20100.0%25%3B%20height%3A%20100.0%25%3B%22%3EParkside/Forest%20Hill%3C/div%3E%60%29%5B0%5D%3B%0A%20%20%20%20%20%20%20%20%20%20%20%20popup_4b94749863a44e2babbb267a4001f67d.setContent%28html_6ed956f9086a44e2a3ef442474cb09df%29%3B%0A%20%20%20%20%20%20%20%20%0A%0A%20%20%20%20%20%20%20%20circle_marker_7c13fc9b90004721b20c6055b2feefdf.bindPopup%28popup_4b94749863a44e2babbb267a4001f67d%29%0A%20%20%20%20%20%20%20%20%3B%0A%0A%20%20%20%20%20%20%20%20%0A%20%20%20%20%0A%20%20%20%20%0A%20%20%20%20%20%20%20%20%20%20%20%20var%20circle_marker_7398b42f19bd468bbeed9095cf2b3396%20%3D%20L.circleMarker%28%0A%20%20%20%20%20%20%20%20%20%20%20%20%20%20%20%20%5B37.77%2C%20-122.45%5D%2C%0A%20%20%20%20%20%20%20%20%20%20%20%20%20%20%20%20%7B%22bubblingMouseEvents%22%3A%20true%2C%20%22color%22%3A%20%22blue%22%2C%20%22dashArray%22%3A%20null%2C%20%22dashOffset%22%3A%20null%2C%20%22fill%22%3A%20true%2C%20%22fillColor%22%3A%20%22%233186cc%22%2C%20%22fillOpacity%22%3A%200.7%2C%20%22fillRule%22%3A%20%22evenodd%22%2C%20%22lineCap%22%3A%20%22round%22%2C%20%22lineJoin%22%3A%20%22round%22%2C%20%22opacity%22%3A%201.0%2C%20%22radius%22%3A%205%2C%20%22stroke%22%3A%20true%2C%20%22weight%22%3A%203%7D%0A%20%20%20%20%20%20%20%20%20%20%20%20%29.addTo%28map_b815b85e3d4a4571ab23f81cca15ba8d%29%3B%0A%20%20%20%20%20%20%20%20%0A%20%20%20%20%0A%20%20%20%20%20%20%20%20var%20popup_e6ea0124096146cb94150e7a10dac7c1%20%3D%20L.popup%28%7B%22maxWidth%22%3A%20%22100%25%22%7D%29%3B%0A%0A%20%20%20%20%20%20%20%20%0A%20%20%20%20%20%20%20%20%20%20%20%20var%20html_d35da2326b094abaabdedd07cc51a64c%20%3D%20%24%28%60%3Cdiv%20id%3D%22html_d35da2326b094abaabdedd07cc51a64c%22%20style%3D%22width%3A%20100.0%25%3B%20height%3A%20100.0%25%3B%22%3EHaight-Ashbury%3C/div%3E%60%29%5B0%5D%3B%0A%20%20%20%20%20%20%20%20%20%20%20%20popup_e6ea0124096146cb94150e7a10dac7c1.setContent%28html_d35da2326b094abaabdedd07cc51a64c%29%3B%0A%20%20%20%20%20%20%20%20%0A%0A%20%20%20%20%20%20%20%20circle_marker_7398b42f19bd468bbeed9095cf2b3396.bindPopup%28popup_e6ea0124096146cb94150e7a10dac7c1%29%0A%20%20%20%20%20%20%20%20%3B%0A%0A%20%20%20%20%20%20%20%20%0A%20%20%20%20%0A%20%20%20%20%0A%20%20%20%20%20%20%20%20%20%20%20%20var%20circle_marker_d57e029cfe2e4c74b6967d09c79544c3%20%3D%20L.circleMarker%28%0A%20%20%20%20%20%20%20%20%20%20%20%20%20%20%20%20%5B37.78%2C%20-122.46%5D%2C%0A%20%20%20%20%20%20%20%20%20%20%20%20%20%20%20%20%7B%22bubblingMouseEvents%22%3A%20true%2C%20%22color%22%3A%20%22blue%22%2C%20%22dashArray%22%3A%20null%2C%20%22dashOffset%22%3A%20null%2C%20%22fill%22%3A%20true%2C%20%22fillColor%22%3A%20%22%233186cc%22%2C%20%22fillOpacity%22%3A%200.7%2C%20%22fillRule%22%3A%20%22evenodd%22%2C%20%22lineCap%22%3A%20%22round%22%2C%20%22lineJoin%22%3A%20%22round%22%2C%20%22opacity%22%3A%201.0%2C%20%22radius%22%3A%205%2C%20%22stroke%22%3A%20true%2C%20%22weight%22%3A%203%7D%0A%20%20%20%20%20%20%20%20%20%20%20%20%29.addTo%28map_b815b85e3d4a4571ab23f81cca15ba8d%29%3B%0A%20%20%20%20%20%20%20%20%0A%20%20%20%20%0A%20%20%20%20%20%20%20%20var%20popup_91d393e14f9c443b952b36ab4e65b84d%20%3D%20L.popup%28%7B%22maxWidth%22%3A%20%22100%25%22%7D%29%3B%0A%0A%20%20%20%20%20%20%20%20%0A%20%20%20%20%20%20%20%20%20%20%20%20var%20html_b2e7fcd76bc9426f92cc499f20afb793%20%3D%20%24%28%60%3Cdiv%20id%3D%22html_b2e7fcd76bc9426f92cc499f20afb793%22%20style%3D%22width%3A%20100.0%25%3B%20height%3A%20100.0%25%3B%22%3EInner%20Richmond%3C/div%3E%60%29%5B0%5D%3B%0A%20%20%20%20%20%20%20%20%20%20%20%20popup_91d393e14f9c443b952b36ab4e65b84d.setContent%28html_b2e7fcd76bc9426f92cc499f20afb793%29%3B%0A%20%20%20%20%20%20%20%20%0A%0A%20%20%20%20%20%20%20%20circle_marker_d57e029cfe2e4c74b6967d09c79544c3.bindPopup%28popup_91d393e14f9c443b952b36ab4e65b84d%29%0A%20%20%20%20%20%20%20%20%3B%0A%0A%20%20%20%20%20%20%20%20%0A%20%20%20%20%0A%20%20%20%20%0A%20%20%20%20%20%20%20%20%20%20%20%20var%20circle_marker_8f53ab04e4714529a4bd417e6c027734%20%3D%20L.circleMarker%28%0A%20%20%20%20%20%20%20%20%20%20%20%20%20%20%20%20%5B37.77%2C%20-122.49%5D%2C%0A%20%20%20%20%20%20%20%20%20%20%20%20%20%20%20%20%7B%22bubblingMouseEvents%22%3A%20true%2C%20%22color%22%3A%20%22blue%22%2C%20%22dashArray%22%3A%20null%2C%20%22dashOffset%22%3A%20null%2C%20%22fill%22%3A%20true%2C%20%22fillColor%22%3A%20%22%233186cc%22%2C%20%22fillOpacity%22%3A%200.7%2C%20%22fillRule%22%3A%20%22evenodd%22%2C%20%22lineCap%22%3A%20%22round%22%2C%20%22lineJoin%22%3A%20%22round%22%2C%20%22opacity%22%3A%201.0%2C%20%22radius%22%3A%205%2C%20%22stroke%22%3A%20true%2C%20%22weight%22%3A%203%7D%0A%20%20%20%20%20%20%20%20%20%20%20%20%29.addTo%28map_b815b85e3d4a4571ab23f81cca15ba8d%29%3B%0A%20%20%20%20%20%20%20%20%0A%20%20%20%20%0A%20%20%20%20%20%20%20%20var%20popup_7ef6bdab10724f738b7d81f464c15e8c%20%3D%20L.popup%28%7B%22maxWidth%22%3A%20%22100%25%22%7D%29%3B%0A%0A%20%20%20%20%20%20%20%20%0A%20%20%20%20%20%20%20%20%20%20%20%20var%20html_2924312701bf440882356412316863f2%20%3D%20%24%28%60%3Cdiv%20id%3D%22html_2924312701bf440882356412316863f2%22%20style%3D%22width%3A%20100.0%25%3B%20height%3A%20100.0%25%3B%22%3EOuter%20Richmond%3C/div%3E%60%29%5B0%5D%3B%0A%20%20%20%20%20%20%20%20%20%20%20%20popup_7ef6bdab10724f738b7d81f464c15e8c.setContent%28html_2924312701bf440882356412316863f2%29%3B%0A%20%20%20%20%20%20%20%20%0A%0A%20%20%20%20%20%20%20%20circle_marker_8f53ab04e4714529a4bd417e6c027734.bindPopup%28popup_7ef6bdab10724f738b7d81f464c15e8c%29%0A%20%20%20%20%20%20%20%20%3B%0A%0A%20%20%20%20%20%20%20%20%0A%20%20%20%20%0A%20%20%20%20%0A%20%20%20%20%20%20%20%20%20%20%20%20var%20circle_marker_b30202d438824ee9871cec637059d5d4%20%3D%20L.circleMarker%28%0A%20%20%20%20%20%20%20%20%20%20%20%20%20%20%20%20%5B37.76%2C%20-122.48%5D%2C%0A%20%20%20%20%20%20%20%20%20%20%20%20%20%20%20%20%7B%22bubblingMouseEvents%22%3A%20true%2C%20%22color%22%3A%20%22blue%22%2C%20%22dashArray%22%3A%20null%2C%20%22dashOffset%22%3A%20null%2C%20%22fill%22%3A%20true%2C%20%22fillColor%22%3A%20%22%233186cc%22%2C%20%22fillOpacity%22%3A%200.7%2C%20%22fillRule%22%3A%20%22evenodd%22%2C%20%22lineCap%22%3A%20%22round%22%2C%20%22lineJoin%22%3A%20%22round%22%2C%20%22opacity%22%3A%201.0%2C%20%22radius%22%3A%205%2C%20%22stroke%22%3A%20true%2C%20%22weight%22%3A%203%7D%0A%20%20%20%20%20%20%20%20%20%20%20%20%29.addTo%28map_b815b85e3d4a4571ab23f81cca15ba8d%29%3B%0A%20%20%20%20%20%20%20%20%0A%20%20%20%20%0A%20%20%20%20%20%20%20%20var%20popup_4d594eb8515a448184e63e29cae0fd20%20%3D%20L.popup%28%7B%22maxWidth%22%3A%20%22100%25%22%7D%29%3B%0A%0A%20%20%20%20%20%20%20%20%0A%20%20%20%20%20%20%20%20%20%20%20%20var%20html_16d901c45ff04b1d9dff8866db5f911d%20%3D%20%24%28%60%3Cdiv%20id%3D%22html_16d901c45ff04b1d9dff8866db5f911d%22%20style%3D%22width%3A%20100.0%25%3B%20height%3A%20100.0%25%3B%22%3ESunset%3C/div%3E%60%29%5B0%5D%3B%0A%20%20%20%20%20%20%20%20%20%20%20%20popup_4d594eb8515a448184e63e29cae0fd20.setContent%28html_16d901c45ff04b1d9dff8866db5f911d%29%3B%0A%20%20%20%20%20%20%20%20%0A%0A%20%20%20%20%20%20%20%20circle_marker_b30202d438824ee9871cec637059d5d4.bindPopup%28popup_4d594eb8515a448184e63e29cae0fd20%29%0A%20%20%20%20%20%20%20%20%3B%0A%0A%20%20%20%20%20%20%20%20%0A%20%20%20%20%0A%20%20%20%20%0A%20%20%20%20%20%20%20%20%20%20%20%20var%20circle_marker_126ffff7d2c247c39017c97e79238297%20%3D%20L.circleMarker%28%0A%20%20%20%20%20%20%20%20%20%20%20%20%20%20%20%20%5B37.8%2C%20-122.43%5D%2C%0A%20%20%20%20%20%20%20%20%20%20%20%20%20%20%20%20%7B%22bubblingMouseEvents%22%3A%20true%2C%20%22color%22%3A%20%22blue%22%2C%20%22dashArray%22%3A%20null%2C%20%22dashOffset%22%3A%20null%2C%20%22fill%22%3A%20true%2C%20%22fillColor%22%3A%20%22%233186cc%22%2C%20%22fillOpacity%22%3A%200.7%2C%20%22fillRule%22%3A%20%22evenodd%22%2C%20%22lineCap%22%3A%20%22round%22%2C%20%22lineJoin%22%3A%20%22round%22%2C%20%22opacity%22%3A%201.0%2C%20%22radius%22%3A%205%2C%20%22stroke%22%3A%20true%2C%20%22weight%22%3A%203%7D%0A%20%20%20%20%20%20%20%20%20%20%20%20%29.addTo%28map_b815b85e3d4a4571ab23f81cca15ba8d%29%3B%0A%20%20%20%20%20%20%20%20%0A%20%20%20%20%0A%20%20%20%20%20%20%20%20var%20popup_86b3b349c0274f248ce761501fa54c26%20%3D%20L.popup%28%7B%22maxWidth%22%3A%20%22100%25%22%7D%29%3B%0A%0A%20%20%20%20%20%20%20%20%0A%20%20%20%20%20%20%20%20%20%20%20%20var%20html_fc85a739df434c2db7dc722e389265b8%20%3D%20%24%28%60%3Cdiv%20id%3D%22html_fc85a739df434c2db7dc722e389265b8%22%20style%3D%22width%3A%20100.0%25%3B%20height%3A%20100.0%25%3B%22%3EMarina%3C/div%3E%60%29%5B0%5D%3B%0A%20%20%20%20%20%20%20%20%20%20%20%20popup_86b3b349c0274f248ce761501fa54c26.setContent%28html_fc85a739df434c2db7dc722e389265b8%29%3B%0A%20%20%20%20%20%20%20%20%0A%0A%20%20%20%20%20%20%20%20circle_marker_126ffff7d2c247c39017c97e79238297.bindPopup%28popup_86b3b349c0274f248ce761501fa54c26%29%0A%20%20%20%20%20%20%20%20%3B%0A%0A%20%20%20%20%20%20%20%20%0A%20%20%20%20%0A%20%20%20%20%0A%20%20%20%20%20%20%20%20%20%20%20%20var%20circle_marker_59e0262afbf34838a5d47ffa0c08ee41%20%3D%20L.circleMarker%28%0A%20%20%20%20%20%20%20%20%20%20%20%20%20%20%20%20%5B37.73%2C%20-122.38%5D%2C%0A%20%20%20%20%20%20%20%20%20%20%20%20%20%20%20%20%7B%22bubblingMouseEvents%22%3A%20true%2C%20%22color%22%3A%20%22blue%22%2C%20%22dashArray%22%3A%20null%2C%20%22dashOffset%22%3A%20null%2C%20%22fill%22%3A%20true%2C%20%22fillColor%22%3A%20%22%233186cc%22%2C%20%22fillOpacity%22%3A%200.7%2C%20%22fillRule%22%3A%20%22evenodd%22%2C%20%22lineCap%22%3A%20%22round%22%2C%20%22lineJoin%22%3A%20%22round%22%2C%20%22opacity%22%3A%201.0%2C%20%22radius%22%3A%205%2C%20%22stroke%22%3A%20true%2C%20%22weight%22%3A%203%7D%0A%20%20%20%20%20%20%20%20%20%20%20%20%29.addTo%28map_b815b85e3d4a4571ab23f81cca15ba8d%29%3B%0A%20%20%20%20%20%20%20%20%0A%20%20%20%20%0A%20%20%20%20%20%20%20%20var%20popup_0516dbdd6edc4f9c8a8a5618b24980b6%20%3D%20L.popup%28%7B%22maxWidth%22%3A%20%22100%25%22%7D%29%3B%0A%0A%20%20%20%20%20%20%20%20%0A%20%20%20%20%20%20%20%20%20%20%20%20var%20html_849e797ba2f54c9288a352106bb9ada4%20%3D%20%24%28%60%3Cdiv%20id%3D%22html_849e797ba2f54c9288a352106bb9ada4%22%20style%3D%22width%3A%20100.0%25%3B%20height%3A%20100.0%25%3B%22%3EBayview-Hunters%20Point%3C/div%3E%60%29%5B0%5D%3B%0A%20%20%20%20%20%20%20%20%20%20%20%20popup_0516dbdd6edc4f9c8a8a5618b24980b6.setContent%28html_849e797ba2f54c9288a352106bb9ada4%29%3B%0A%20%20%20%20%20%20%20%20%0A%0A%20%20%20%20%20%20%20%20circle_marker_59e0262afbf34838a5d47ffa0c08ee41.bindPopup%28popup_0516dbdd6edc4f9c8a8a5618b24980b6%29%0A%20%20%20%20%20%20%20%20%3B%0A%0A%20%20%20%20%20%20%20%20%0A%20%20%20%20%0A%20%20%20%20%0A%20%20%20%20%20%20%20%20%20%20%20%20var%20circle_marker_3a184bdfec6546218bd66dc089ae266e%20%3D%20L.circleMarker%28%0A%20%20%20%20%20%20%20%20%20%20%20%20%20%20%20%20%5B37.74%2C%20-122.46%5D%2C%0A%20%20%20%20%20%20%20%20%20%20%20%20%20%20%20%20%7B%22bubblingMouseEvents%22%3A%20true%2C%20%22color%22%3A%20%22blue%22%2C%20%22dashArray%22%3A%20null%2C%20%22dashOffset%22%3A%20null%2C%20%22fill%22%3A%20true%2C%20%22fillColor%22%3A%20%22%233186cc%22%2C%20%22fillOpacity%22%3A%200.7%2C%20%22fillRule%22%3A%20%22evenodd%22%2C%20%22lineCap%22%3A%20%22round%22%2C%20%22lineJoin%22%3A%20%22round%22%2C%20%22opacity%22%3A%201.0%2C%20%22radius%22%3A%205%2C%20%22stroke%22%3A%20true%2C%20%22weight%22%3A%203%7D%0A%20%20%20%20%20%20%20%20%20%20%20%20%29.addTo%28map_b815b85e3d4a4571ab23f81cca15ba8d%29%3B%0A%20%20%20%20%20%20%20%20%0A%20%20%20%20%0A%20%20%20%20%20%20%20%20var%20popup_5b0861542c5d45f2a3806ab320d9cc19%20%3D%20L.popup%28%7B%22maxWidth%22%3A%20%22100%25%22%7D%29%3B%0A%0A%20%20%20%20%20%20%20%20%0A%20%20%20%20%20%20%20%20%20%20%20%20var%20html_de47126c1d8b4c7fa22d71e04305389f%20%3D%20%24%28%60%3Cdiv%20id%3D%22html_de47126c1d8b4c7fa22d71e04305389f%22%20style%3D%22width%3A%20100.0%25%3B%20height%3A%20100.0%25%3B%22%3ESt.%20Francis%20Wood/Miraloma/West%20Portal%3C/div%3E%60%29%5B0%5D%3B%0A%20%20%20%20%20%20%20%20%20%20%20%20popup_5b0861542c5d45f2a3806ab320d9cc19.setContent%28html_de47126c1d8b4c7fa22d71e04305389f%29%3B%0A%20%20%20%20%20%20%20%20%0A%0A%20%20%20%20%20%20%20%20circle_marker_3a184bdfec6546218bd66dc089ae266e.bindPopup%28popup_5b0861542c5d45f2a3806ab320d9cc19%29%0A%20%20%20%20%20%20%20%20%3B%0A%0A%20%20%20%20%20%20%20%20%0A%20%20%20%20%0A%20%20%20%20%0A%20%20%20%20%20%20%20%20%20%20%20%20var%20circle_marker_fa751e9757634da9a5be822896297576%20%3D%20L.circleMarker%28%0A%20%20%20%20%20%20%20%20%20%20%20%20%20%20%20%20%5B37.74%2C%20-122.44%5D%2C%0A%20%20%20%20%20%20%20%20%20%20%20%20%20%20%20%20%7B%22bubblingMouseEvents%22%3A%20true%2C%20%22color%22%3A%20%22blue%22%2C%20%22dashArray%22%3A%20null%2C%20%22dashOffset%22%3A%20null%2C%20%22fill%22%3A%20true%2C%20%22fillColor%22%3A%20%22%233186cc%22%2C%20%22fillOpacity%22%3A%200.7%2C%20%22fillRule%22%3A%20%22evenodd%22%2C%20%22lineCap%22%3A%20%22round%22%2C%20%22lineJoin%22%3A%20%22round%22%2C%20%22opacity%22%3A%201.0%2C%20%22radius%22%3A%205%2C%20%22stroke%22%3A%20true%2C%20%22weight%22%3A%203%7D%0A%20%20%20%20%20%20%20%20%20%20%20%20%29.addTo%28map_b815b85e3d4a4571ab23f81cca15ba8d%29%3B%0A%20%20%20%20%20%20%20%20%0A%20%20%20%20%0A%20%20%20%20%20%20%20%20var%20popup_471b1dea799c427ba9fb40b8f64b457e%20%3D%20L.popup%28%7B%22maxWidth%22%3A%20%22100%25%22%7D%29%3B%0A%0A%20%20%20%20%20%20%20%20%0A%20%20%20%20%20%20%20%20%20%20%20%20var%20html_687b593b5a9b41459adfec929c25217c%20%3D%20%24%28%60%3Cdiv%20id%3D%22html_687b593b5a9b41459adfec929c25217c%22%20style%3D%22width%3A%20100.0%25%3B%20height%3A%20100.0%25%3B%22%3ETwin%20Peaks-Glen%20Park%3C/div%3E%60%29%5B0%5D%3B%0A%20%20%20%20%20%20%20%20%20%20%20%20popup_471b1dea799c427ba9fb40b8f64b457e.setContent%28html_687b593b5a9b41459adfec929c25217c%29%3B%0A%20%20%20%20%20%20%20%20%0A%0A%20%20%20%20%20%20%20%20circle_marker_fa751e9757634da9a5be822896297576.bindPopup%28popup_471b1dea799c427ba9fb40b8f64b457e%29%0A%20%20%20%20%20%20%20%20%3B%0A%0A%20%20%20%20%20%20%20%20%0A%20%20%20%20%0A%20%20%20%20%0A%20%20%20%20%20%20%20%20%20%20%20%20var%20circle_marker_9b4c234245cf4f0a8382a70b520f200a%20%3D%20L.circleMarker%28%0A%20%20%20%20%20%20%20%20%20%20%20%20%20%20%20%20%5B37.72%2C%20-122.48%5D%2C%0A%20%20%20%20%20%20%20%20%20%20%20%20%20%20%20%20%7B%22bubblingMouseEvents%22%3A%20true%2C%20%22color%22%3A%20%22blue%22%2C%20%22dashArray%22%3A%20null%2C%20%22dashOffset%22%3A%20null%2C%20%22fill%22%3A%20true%2C%20%22fillColor%22%3A%20%22%233186cc%22%2C%20%22fillOpacity%22%3A%200.7%2C%20%22fillRule%22%3A%20%22evenodd%22%2C%20%22lineCap%22%3A%20%22round%22%2C%20%22lineJoin%22%3A%20%22round%22%2C%20%22opacity%22%3A%201.0%2C%20%22radius%22%3A%205%2C%20%22stroke%22%3A%20true%2C%20%22weight%22%3A%203%7D%0A%20%20%20%20%20%20%20%20%20%20%20%20%29.addTo%28map_b815b85e3d4a4571ab23f81cca15ba8d%29%3B%0A%20%20%20%20%20%20%20%20%0A%20%20%20%20%0A%20%20%20%20%20%20%20%20var%20popup_983b84539ac14b27ad992692c05ecd40%20%3D%20L.popup%28%7B%22maxWidth%22%3A%20%22100%25%22%7D%29%3B%0A%0A%20%20%20%20%20%20%20%20%0A%20%20%20%20%20%20%20%20%20%20%20%20var%20html_ffadf8767b314d73902303cda21d4440%20%3D%20%24%28%60%3Cdiv%20id%3D%22html_ffadf8767b314d73902303cda21d4440%22%20style%3D%22width%3A%20100.0%25%3B%20height%3A%20100.0%25%3B%22%3ELake%20Merced%3C/div%3E%60%29%5B0%5D%3B%0A%20%20%20%20%20%20%20%20%20%20%20%20popup_983b84539ac14b27ad992692c05ecd40.setContent%28html_ffadf8767b314d73902303cda21d4440%29%3B%0A%20%20%20%20%20%20%20%20%0A%0A%20%20%20%20%20%20%20%20circle_marker_9b4c234245cf4f0a8382a70b520f200a.bindPopup%28popup_983b84539ac14b27ad992692c05ecd40%29%0A%20%20%20%20%20%20%20%20%3B%0A%0A%20%20%20%20%20%20%20%20%0A%20%20%20%20%0A%20%20%20%20%0A%20%20%20%20%20%20%20%20%20%20%20%20var%20circle_marker_3a8da01daa2a4aea877dd2644e045a6a%20%3D%20L.circleMarker%28%0A%20%20%20%20%20%20%20%20%20%20%20%20%20%20%20%20%5B37.8%2C%20-122.41%5D%2C%0A%20%20%20%20%20%20%20%20%20%20%20%20%20%20%20%20%7B%22bubblingMouseEvents%22%3A%20true%2C%20%22color%22%3A%20%22blue%22%2C%20%22dashArray%22%3A%20null%2C%20%22dashOffset%22%3A%20null%2C%20%22fill%22%3A%20true%2C%20%22fillColor%22%3A%20%22%233186cc%22%2C%20%22fillOpacity%22%3A%200.7%2C%20%22fillRule%22%3A%20%22evenodd%22%2C%20%22lineCap%22%3A%20%22round%22%2C%20%22lineJoin%22%3A%20%22round%22%2C%20%22opacity%22%3A%201.0%2C%20%22radius%22%3A%205%2C%20%22stroke%22%3A%20true%2C%20%22weight%22%3A%203%7D%0A%20%20%20%20%20%20%20%20%20%20%20%20%29.addTo%28map_b815b85e3d4a4571ab23f81cca15ba8d%29%3B%0A%20%20%20%20%20%20%20%20%0A%20%20%20%20%0A%20%20%20%20%20%20%20%20var%20popup_4fe5dfa3c9be4e5ab6befd452e0d26fe%20%3D%20L.popup%28%7B%22maxWidth%22%3A%20%22100%25%22%7D%29%3B%0A%0A%20%20%20%20%20%20%20%20%0A%20%20%20%20%20%20%20%20%20%20%20%20var%20html_de18ecc3b1364a308c4aef8cff5092b4%20%3D%20%24%28%60%3Cdiv%20id%3D%22html_de18ecc3b1364a308c4aef8cff5092b4%22%20style%3D%22width%3A%20100.0%25%3B%20height%3A%20100.0%25%3B%22%3ENorth%20Beach/Chinatown%3C/div%3E%60%29%5B0%5D%3B%0A%20%20%20%20%20%20%20%20%20%20%20%20popup_4fe5dfa3c9be4e5ab6befd452e0d26fe.setContent%28html_de18ecc3b1364a308c4aef8cff5092b4%29%3B%0A%20%20%20%20%20%20%20%20%0A%0A%20%20%20%20%20%20%20%20circle_marker_3a8da01daa2a4aea877dd2644e045a6a.bindPopup%28popup_4fe5dfa3c9be4e5ab6befd452e0d26fe%29%0A%20%20%20%20%20%20%20%20%3B%0A%0A%20%20%20%20%20%20%20%20%0A%20%20%20%20%0A%20%20%20%20%0A%20%20%20%20%20%20%20%20%20%20%20%20var%20circle_marker_6199cf153069481a84a8b5ecde288770%20%3D%20L.circleMarker%28%0A%20%20%20%20%20%20%20%20%20%20%20%20%20%20%20%20%5B37.72%2C%20-122.41%5D%2C%0A%20%20%20%20%20%20%20%20%20%20%20%20%20%20%20%20%7B%22bubblingMouseEvents%22%3A%20true%2C%20%22color%22%3A%20%22blue%22%2C%20%22dashArray%22%3A%20null%2C%20%22dashOffset%22%3A%20null%2C%20%22fill%22%3A%20true%2C%20%22fillColor%22%3A%20%22%233186cc%22%2C%20%22fillOpacity%22%3A%200.7%2C%20%22fillRule%22%3A%20%22evenodd%22%2C%20%22lineCap%22%3A%20%22round%22%2C%20%22lineJoin%22%3A%20%22round%22%2C%20%22opacity%22%3A%201.0%2C%20%22radius%22%3A%205%2C%20%22stroke%22%3A%20true%2C%20%22weight%22%3A%203%7D%0A%20%20%20%20%20%20%20%20%20%20%20%20%29.addTo%28map_b815b85e3d4a4571ab23f81cca15ba8d%29%3B%0A%20%20%20%20%20%20%20%20%0A%20%20%20%20%0A%20%20%20%20%20%20%20%20var%20popup_2ee14b130ef04a3a8b9be1172f39a577%20%3D%20L.popup%28%7B%22maxWidth%22%3A%20%22100%25%22%7D%29%3B%0A%0A%20%20%20%20%20%20%20%20%0A%20%20%20%20%20%20%20%20%20%20%20%20var%20html_bbfa86438d9d487fa7037f22c80fecd6%20%3D%20%24%28%60%3Cdiv%20id%3D%22html_bbfa86438d9d487fa7037f22c80fecd6%22%20style%3D%22width%3A%20100.0%25%3B%20height%3A%20100.0%25%3B%22%3EVisitacion%20Valley/Sunnydale%3C/div%3E%60%29%5B0%5D%3B%0A%20%20%20%20%20%20%20%20%20%20%20%20popup_2ee14b130ef04a3a8b9be1172f39a577.setContent%28html_bbfa86438d9d487fa7037f22c80fecd6%29%3B%0A%20%20%20%20%20%20%20%20%0A%0A%20%20%20%20%20%20%20%20circle_marker_6199cf153069481a84a8b5ecde288770.bindPopup%28popup_2ee14b130ef04a3a8b9be1172f39a577%29%0A%20%20%20%20%20%20%20%20%3B%0A%0A%20%20%20%20%20%20%20%20%0A%20%20%20%20%0A%3C/script%3E onload=\"this.contentDocument.open();this.contentDocument.write(    decodeURIComponent(this.getAttribute('data-html')));this.contentDocument.close();\" allowfullscreen webkitallowfullscreen mozallowfullscreen></iframe></div></div>"
     },
     "execution_count": 11,
     "metadata": {},
     "output_type": "execute_result"
    }
   ],
   "source": [
    "# Criando o mapa de São Francisco\n",
    "map_sf = folium.Map(location = [latitude, longitude], zoom_start=10)\n",
    "cont=0\n",
    "for index, row in df_sf.iterrows():\n",
    "    lat=row['Latitude']\n",
    "    lng=row['Longitude']\n",
    "    neigh=row['Neighborhood']\n",
    "    # add markers to map\n",
    "    label = '{}'.format(neigh)\n",
    "    label = folium.Popup(label, parse_html = True)\n",
    "\n",
    "    folium.CircleMarker(\n",
    "            [lat, lng],\n",
    "            radius = 5,\n",
    "            popup = label,\n",
    "            color = 'blue',\n",
    "            fill = True,\n",
    "            fill_color = '#3186cc',\n",
    "            fill_opacity = 0.7,\n",
    "            parse_html = False).add_to(map_sf)\n",
    "map_sf"
   ],
   "metadata": {
    "collapsed": false,
    "pycharm": {
     "name": "#%%\n"
    }
   }
  },
  {
   "cell_type": "code",
   "execution_count": 12,
   "outputs": [],
   "source": [
    "map_sf.save('SF.html')"
   ],
   "metadata": {
    "collapsed": false,
    "pycharm": {
     "name": "#%%\n"
    }
   }
  },
  {
   "cell_type": "code",
   "execution_count": 13,
   "outputs": [],
   "source": [
    "tsv_file= r'C:\\Users\\eliel\\Downloads\\places-master\\places-master\\categories\\utils\\Foursquare_to_NAICS_and_SIC.tsv'"
   ],
   "metadata": {
    "collapsed": false,
    "pycharm": {
     "name": "#%%\n"
    }
   }
  },
  {
   "cell_type": "code",
   "execution_count": 14,
   "outputs": [],
   "source": [
    "df_codes = pd.read_csv(tsv_file, sep=\"\\t\")"
   ],
   "metadata": {
    "collapsed": false,
    "pycharm": {
     "name": "#%%\n"
    }
   }
  },
  {
   "cell_type": "code",
   "execution_count": 15,
   "outputs": [],
   "source": [
    "#trocar\n",
    "mask = df_codes[\"foursquare_category_label\"].str.contains(\"Dining and Drinking\")\n",
    "dining = df_codes[mask].copy()"
   ],
   "metadata": {
    "collapsed": false,
    "pycharm": {
     "name": "#%%\n"
    }
   }
  },
  {
   "cell_type": "code",
   "execution_count": 16,
   "outputs": [
    {
     "name": "stdout",
     "output_type": "stream",
     "text": [
      "13000 37.78 -122.42\n",
      "Series([], Name: foursquare_category_label, dtype: object)\n",
      "13000 37.77 -122.41\n",
      "Series([], Name: foursquare_category_label, dtype: object)\n",
      "13000 37.76 -122.39\n",
      "Series([], Name: foursquare_category_label, dtype: object)\n",
      "13000 37.79 -122.41\n",
      "Series([], Name: foursquare_category_label, dtype: object)\n",
      "13000 37.79 -122.42\n",
      "Series([], Name: foursquare_category_label, dtype: object)\n",
      "13000 37.74 -122.41\n",
      "Series([], Name: foursquare_category_label, dtype: object)\n",
      "13000 37.72 -122.44\n",
      "Series([], Name: foursquare_category_label, dtype: object)\n",
      "13000 37.75 -122.43\n",
      "Series([], Name: foursquare_category_label, dtype: object)\n",
      "13000 37.78 -122.43\n",
      "Series([], Name: foursquare_category_label, dtype: object)\n",
      "13000 37.74 -122.48\n",
      "Series([], Name: foursquare_category_label, dtype: object)\n",
      "13000 37.77 -122.45\n",
      "Series([], Name: foursquare_category_label, dtype: object)\n",
      "13000 37.78 -122.46\n",
      "Series([], Name: foursquare_category_label, dtype: object)\n",
      "13000 37.77 -122.49\n",
      "Series([], Name: foursquare_category_label, dtype: object)\n",
      "13000 37.76 -122.48\n",
      "Series([], Name: foursquare_category_label, dtype: object)\n",
      "13000 37.8 -122.43\n",
      "Series([], Name: foursquare_category_label, dtype: object)\n"
     ]
    },
    {
     "name": "stderr",
     "output_type": "stream",
     "text": [
      "\n",
      "KeyboardInterrupt\n",
      "\n"
     ]
    }
   ],
   "source": [
    "for index,rows in df_sf.iterrows():\n",
    "    neigh=rows['Neighborhood']\n",
    "    lt=rows['Latitude']\n",
    "    lg=rows['Longitude']\n",
    "    category_id=\"13000\"\n",
    "    print(category_id,lt,lg)\n",
    "\n",
    "\n",
    "    # Imprimir as categorias\n",
    "    print(\n",
    "            dining.loc[dining[\"foursquare_category_label\"] == category_id][\n",
    "                \"foursquare_category_label\"\n",
    "            ]\n",
    "    )\n",
    "    # Pegando os dados do Foursquare\n",
    "    url = f\"https://api.foursquare.com/v3/places/search?ll={lt},{lg}&radius=500&categories={category_id}&limit=50\"\n",
    "    headers = {\n",
    "            \"Accept\": \"application/json\",\n",
    "            \"Authorization\": \"fsq3q0iLUn+HVkzbyOHniYOZxGy3OLYuOtMG/8xtsZICemk=\",\n",
    "        }\n",
    "\n",
    "    response = requests.get(url, headers=headers)\n",
    "    json_response = response.json()\n",
    "    #Save os arquivos JSON\n",
    "    out_file = f\"C:\\\\Users\\eliel\\OneDrive\\Desktop\\Project_2\\Json\\Foursquare_data_{category_id}_{lt}_{lg}.json\"\n",
    "    # Checa se o diretorio existe\n",
    "    if not os.path.exists(os.path.dirname(out_file)):\n",
    "            os.makedirs(os.path.dirname(out_file))\n",
    "\n",
    "    with open(out_file, \"w\") as f:\n",
    "        json.dump(json_response, f)"
   ],
   "metadata": {
    "collapsed": false,
    "pycharm": {
     "name": "#%%\n"
    }
   }
  },
  {
   "cell_type": "code",
   "execution_count": 28,
   "outputs": [],
   "source": [
    "list_venues = []\n",
    "lista=[]\n",
    "#lenado os arquivo JSON\n",
    "for index,rows in df_sf.iterrows():\n",
    "    neigh=rows['Neighborhood']\n",
    "    lt=rows['Latitude']\n",
    "    lg=rows['Longitude']\n",
    "    category_id== \"1300\"\n",
    "    for name in glob.glob(f\"C:\\\\Users\\eliel\\OneDrive\\Desktop\\Project_2\\Json\\Foursquare_data_{category_id}_{lt}_{lg}.json\"):\n",
    "        with open(name, \"r\") as f:\n",
    "            data = json.load(f)\n",
    "        df = pd.json_normalize(data[\"results\"])\n",
    "        for index,rows in df.iterrows():\n",
    "            cate = rows['categories']\n",
    "            venue =rows['name']\n",
    "            venue_latitude=rows['geocodes.main.latitude']\n",
    "            venue_longitude=rows['geocodes.main.longitude']\n",
    "            category = cate[0]['name']\n",
    "            list_venues.append([neigh,lt,lg,venue,venue_latitude,venue_longitude,category])\n"
   ],
   "metadata": {
    "collapsed": false,
    "pycharm": {
     "name": "#%%\n"
    }
   }
  },
  {
   "cell_type": "code",
   "execution_count": 29,
   "outputs": [],
   "source": [
    "df_sf_new=pd.DataFrame(list_venues)"
   ],
   "metadata": {
    "collapsed": false,
    "pycharm": {
     "name": "#%%\n"
    }
   }
  },
  {
   "cell_type": "code",
   "execution_count": 30,
   "outputs": [],
   "source": [
    "#Renomeação das colunas\n",
    "df_sf_new = df_sf_new.rename(columns={0:'Neighborhood', 1:'Neighborhood Latitude', 2:'Neighborhood Longitude', 3:'Venue', 4:'Venue Latidude', 5:'Venue Longitude', 6:'Venue Category'})"
   ],
   "metadata": {
    "collapsed": false,
    "pycharm": {
     "name": "#%%\n"
    }
   }
  },
  {
   "cell_type": "code",
   "execution_count": 31,
   "outputs": [
    {
     "data": {
      "text/plain": "                                Neighborhood  Neighborhood Latitude  \\\n0    Hayes Valley/Tenderloin/North of Market                  37.78   \n1    Hayes Valley/Tenderloin/North of Market                  37.78   \n2    Hayes Valley/Tenderloin/North of Market                  37.78   \n3    Hayes Valley/Tenderloin/North of Market                  37.78   \n4    Hayes Valley/Tenderloin/North of Market                  37.78   \n..                                       ...                    ...   \n818                    North Beach/Chinatown                  37.80   \n819                    North Beach/Chinatown                  37.80   \n820                    North Beach/Chinatown                  37.80   \n821              Visitacion Valley/Sunnydale                  37.72   \n822              Visitacion Valley/Sunnydale                  37.72   \n\n     Neighborhood Longitude                           Venue  Venue Latidude  \\\n0                   -122.42                     Urban Bowls       37.778034   \n1                   -122.42                     Whitechapel       37.782334   \n2                   -122.42                    Philz Coffee       37.781359   \n3                   -122.42                           Robin       37.779307   \n4                   -122.42       Brenda's French Soul Food       37.782806   \n..                      ...                             ...             ...   \n818                 -122.41                   Cafe Broadway       37.797867   \n819                 -122.41            Mona Lisa Restaurant       37.798458   \n820                 -122.41                  Kam PO Kitchen       37.797118   \n821                 -122.41                      Cow Palace       37.719027   \n822                 -122.41  Specs' Twelve Adler Museum Bar       37.719028   \n\n     Venue Longitude                 Venue Category  \n0        -122.422409                Poke Restaurant  \n1        -122.418720                   Cocktail Bar  \n2        -122.416942  Cafes, Coffee, and Tea Houses  \n3        -122.423272               Asian Restaurant  \n4        -122.418963      Cajun / Creole Restaurant  \n..               ...                            ...  \n818      -122.408239           Cantonese Restaurant  \n819      -122.407772             Italian Restaurant  \n820      -122.410346                      BBQ Joint  \n821      -122.409467                     Restaurant  \n822      -122.405168         Arts and Entertainment  \n\n[823 rows x 7 columns]",
      "text/html": "<div>\n<style scoped>\n    .dataframe tbody tr th:only-of-type {\n        vertical-align: middle;\n    }\n\n    .dataframe tbody tr th {\n        vertical-align: top;\n    }\n\n    .dataframe thead th {\n        text-align: right;\n    }\n</style>\n<table border=\"1\" class=\"dataframe\">\n  <thead>\n    <tr style=\"text-align: right;\">\n      <th></th>\n      <th>Neighborhood</th>\n      <th>Neighborhood Latitude</th>\n      <th>Neighborhood Longitude</th>\n      <th>Venue</th>\n      <th>Venue Latidude</th>\n      <th>Venue Longitude</th>\n      <th>Venue Category</th>\n    </tr>\n  </thead>\n  <tbody>\n    <tr>\n      <th>0</th>\n      <td>Hayes Valley/Tenderloin/North of Market</td>\n      <td>37.78</td>\n      <td>-122.42</td>\n      <td>Urban Bowls</td>\n      <td>37.778034</td>\n      <td>-122.422409</td>\n      <td>Poke Restaurant</td>\n    </tr>\n    <tr>\n      <th>1</th>\n      <td>Hayes Valley/Tenderloin/North of Market</td>\n      <td>37.78</td>\n      <td>-122.42</td>\n      <td>Whitechapel</td>\n      <td>37.782334</td>\n      <td>-122.418720</td>\n      <td>Cocktail Bar</td>\n    </tr>\n    <tr>\n      <th>2</th>\n      <td>Hayes Valley/Tenderloin/North of Market</td>\n      <td>37.78</td>\n      <td>-122.42</td>\n      <td>Philz Coffee</td>\n      <td>37.781359</td>\n      <td>-122.416942</td>\n      <td>Cafes, Coffee, and Tea Houses</td>\n    </tr>\n    <tr>\n      <th>3</th>\n      <td>Hayes Valley/Tenderloin/North of Market</td>\n      <td>37.78</td>\n      <td>-122.42</td>\n      <td>Robin</td>\n      <td>37.779307</td>\n      <td>-122.423272</td>\n      <td>Asian Restaurant</td>\n    </tr>\n    <tr>\n      <th>4</th>\n      <td>Hayes Valley/Tenderloin/North of Market</td>\n      <td>37.78</td>\n      <td>-122.42</td>\n      <td>Brenda's French Soul Food</td>\n      <td>37.782806</td>\n      <td>-122.418963</td>\n      <td>Cajun / Creole Restaurant</td>\n    </tr>\n    <tr>\n      <th>...</th>\n      <td>...</td>\n      <td>...</td>\n      <td>...</td>\n      <td>...</td>\n      <td>...</td>\n      <td>...</td>\n      <td>...</td>\n    </tr>\n    <tr>\n      <th>818</th>\n      <td>North Beach/Chinatown</td>\n      <td>37.80</td>\n      <td>-122.41</td>\n      <td>Cafe Broadway</td>\n      <td>37.797867</td>\n      <td>-122.408239</td>\n      <td>Cantonese Restaurant</td>\n    </tr>\n    <tr>\n      <th>819</th>\n      <td>North Beach/Chinatown</td>\n      <td>37.80</td>\n      <td>-122.41</td>\n      <td>Mona Lisa Restaurant</td>\n      <td>37.798458</td>\n      <td>-122.407772</td>\n      <td>Italian Restaurant</td>\n    </tr>\n    <tr>\n      <th>820</th>\n      <td>North Beach/Chinatown</td>\n      <td>37.80</td>\n      <td>-122.41</td>\n      <td>Kam PO Kitchen</td>\n      <td>37.797118</td>\n      <td>-122.410346</td>\n      <td>BBQ Joint</td>\n    </tr>\n    <tr>\n      <th>821</th>\n      <td>Visitacion Valley/Sunnydale</td>\n      <td>37.72</td>\n      <td>-122.41</td>\n      <td>Cow Palace</td>\n      <td>37.719027</td>\n      <td>-122.409467</td>\n      <td>Restaurant</td>\n    </tr>\n    <tr>\n      <th>822</th>\n      <td>Visitacion Valley/Sunnydale</td>\n      <td>37.72</td>\n      <td>-122.41</td>\n      <td>Specs' Twelve Adler Museum Bar</td>\n      <td>37.719028</td>\n      <td>-122.405168</td>\n      <td>Arts and Entertainment</td>\n    </tr>\n  </tbody>\n</table>\n<p>823 rows × 7 columns</p>\n</div>"
     },
     "execution_count": 31,
     "metadata": {},
     "output_type": "execute_result"
    }
   ],
   "source": [
    "df_sf_new"
   ],
   "metadata": {
    "collapsed": false,
    "pycharm": {
     "name": "#%%\n"
    }
   }
  },
  {
   "cell_type": "code",
   "execution_count": 32,
   "outputs": [
    {
     "data": {
      "text/plain": "                     Neighborhood  Neighborhood Latitude  \\\n144                  Potrero Hill                  37.76   \n276  Inner Mission/Bernal Heights                  37.74   \n600                Outer Richmond                  37.77   \n\n     Neighborhood Longitude                    Venue  Venue Latidude  \\\n144                 -122.39                   Tekuno             NaN   \n276                 -122.41      Conchita Taco Truck             NaN   \n600                 -122.49  Rocko's Ice Cream Tacos             NaN   \n\n     Venue Longitude Venue Category  \n144              NaN       Tea Room  \n276              NaN     Food Stand  \n600              NaN     Food Truck  ",
      "text/html": "<div>\n<style scoped>\n    .dataframe tbody tr th:only-of-type {\n        vertical-align: middle;\n    }\n\n    .dataframe tbody tr th {\n        vertical-align: top;\n    }\n\n    .dataframe thead th {\n        text-align: right;\n    }\n</style>\n<table border=\"1\" class=\"dataframe\">\n  <thead>\n    <tr style=\"text-align: right;\">\n      <th></th>\n      <th>Neighborhood</th>\n      <th>Neighborhood Latitude</th>\n      <th>Neighborhood Longitude</th>\n      <th>Venue</th>\n      <th>Venue Latidude</th>\n      <th>Venue Longitude</th>\n      <th>Venue Category</th>\n    </tr>\n  </thead>\n  <tbody>\n    <tr>\n      <th>144</th>\n      <td>Potrero Hill</td>\n      <td>37.76</td>\n      <td>-122.39</td>\n      <td>Tekuno</td>\n      <td>NaN</td>\n      <td>NaN</td>\n      <td>Tea Room</td>\n    </tr>\n    <tr>\n      <th>276</th>\n      <td>Inner Mission/Bernal Heights</td>\n      <td>37.74</td>\n      <td>-122.41</td>\n      <td>Conchita Taco Truck</td>\n      <td>NaN</td>\n      <td>NaN</td>\n      <td>Food Stand</td>\n    </tr>\n    <tr>\n      <th>600</th>\n      <td>Outer Richmond</td>\n      <td>37.77</td>\n      <td>-122.49</td>\n      <td>Rocko's Ice Cream Tacos</td>\n      <td>NaN</td>\n      <td>NaN</td>\n      <td>Food Truck</td>\n    </tr>\n  </tbody>\n</table>\n</div>"
     },
     "execution_count": 32,
     "metadata": {},
     "output_type": "execute_result"
    }
   ],
   "source": [
    "#Pesquisar os valores NAN\n",
    "df_sf_new[df_sf_new['Venue Latidude'].isnull()]"
   ],
   "metadata": {
    "collapsed": false,
    "pycharm": {
     "name": "#%%\n"
    }
   }
  },
  {
   "cell_type": "code",
   "execution_count": 33,
   "outputs": [],
   "source": [
    "#ENcontrando a latitude e longitude\n",
    "lista=[]\n",
    "for index, rows in df_sf_new[df_sf_new['Venue Latidude'].isnull()].iterrows():\n",
    "    address=rows['Venue']\n",
    "    if address == 'Conchita Taco Truck':\n",
    "        address = address.split()[0]\n",
    "        location = geolocator.geocode(address)\n",
    "        latitude = location.latitude\n",
    "        longitude = location.longitude\n",
    "        lista.append([latitude,longitude])\n",
    "    else:\n",
    "        location = geolocator.geocode(address)\n",
    "        latitude = location.latitude\n",
    "        longitude = location.longitude\n",
    "        lista.append([latitude,longitude])"
   ],
   "metadata": {
    "collapsed": false,
    "pycharm": {
     "name": "#%%\n"
    }
   }
  },
  {
   "cell_type": "code",
   "execution_count": 34,
   "outputs": [],
   "source": [
    "#Troca os valores NAN pela Latitude e Longitude encontrada\n",
    "df_sf_new[['Venue Latidude','Venue Longitude']]=df_sf_new[['Venue Latidude','Venue Longitude']].replace(np.nan,str(lista))"
   ],
   "metadata": {
    "collapsed": false,
    "pycharm": {
     "name": "#%%\n"
    }
   }
  },
  {
   "cell_type": "code",
   "execution_count": 35,
   "outputs": [
    {
     "data": {
      "text/plain": "Neighborhood              0\nNeighborhood Latitude     0\nNeighborhood Longitude    0\nVenue                     0\nVenue Latidude            0\nVenue Longitude           0\nVenue Category            0\ndtype: int64"
     },
     "execution_count": 35,
     "metadata": {},
     "output_type": "execute_result"
    }
   ],
   "source": [
    "#Verificar novamente se existe valores nulos\n",
    "df_sf_new.isnull().sum()"
   ],
   "metadata": {
    "collapsed": false,
    "pycharm": {
     "name": "#%%\n"
    }
   }
  },
  {
   "cell_type": "code",
   "execution_count": 36,
   "outputs": [
    {
     "data": {
      "text/plain": "                                         Neighborhood Latitude  \\\nNeighborhood                                                     \nBayview-Hunters Point                                       14   \nCastro/Noe Valley                                           50   \nChinatown                                                   50   \nHaight-Ashbury                                              50   \nHayes Valley/Tenderloin/North of Market                     50   \nIngelside-Excelsior/Crocker-Amazon                          50   \nInner Mission/Bernal Heights                                50   \nInner Richmond                                              50   \nLake Merced                                                 37   \nMarina                                                      50   \nNorth Beach/Chinatown                                       50   \nOuter Richmond                                               3   \nParkside/Forest Hill                                        50   \nPolk/Russian Hill (Nob Hill)                                50   \nPotrero Hill                                                50   \nSouth of Market                                             50   \nSt. Francis Wood/Miraloma/West Portal                        7   \nSunset                                                      50   \nTwin Peaks-Glen Park                                        10   \nVisitacion Valley/Sunnydale                                  2   \nWestern Addition/Japantown                                  50   \n\n                                         Neighborhood Longitude  Venue  \\\nNeighborhood                                                             \nBayview-Hunters Point                                        14     14   \nCastro/Noe Valley                                            50     50   \nChinatown                                                    50     50   \nHaight-Ashbury                                               50     50   \nHayes Valley/Tenderloin/North of Market                      50     50   \nIngelside-Excelsior/Crocker-Amazon                           50     50   \nInner Mission/Bernal Heights                                 50     50   \nInner Richmond                                               50     50   \nLake Merced                                                  37     37   \nMarina                                                       50     50   \nNorth Beach/Chinatown                                        50     50   \nOuter Richmond                                                3      3   \nParkside/Forest Hill                                         50     50   \nPolk/Russian Hill (Nob Hill)                                 50     50   \nPotrero Hill                                                 50     50   \nSouth of Market                                              50     50   \nSt. Francis Wood/Miraloma/West Portal                         7      7   \nSunset                                                       50     50   \nTwin Peaks-Glen Park                                         10     10   \nVisitacion Valley/Sunnydale                                   2      2   \nWestern Addition/Japantown                                   50     50   \n\n                                         Venue Latidude  Venue Longitude  \\\nNeighborhood                                                               \nBayview-Hunters Point                                14               14   \nCastro/Noe Valley                                    50               50   \nChinatown                                            50               50   \nHaight-Ashbury                                       50               50   \nHayes Valley/Tenderloin/North of Market              50               50   \nIngelside-Excelsior/Crocker-Amazon                   50               50   \nInner Mission/Bernal Heights                         50               50   \nInner Richmond                                       50               50   \nLake Merced                                          37               37   \nMarina                                               50               50   \nNorth Beach/Chinatown                                50               50   \nOuter Richmond                                        3                3   \nParkside/Forest Hill                                 50               50   \nPolk/Russian Hill (Nob Hill)                         50               50   \nPotrero Hill                                         50               50   \nSouth of Market                                      50               50   \nSt. Francis Wood/Miraloma/West Portal                 7                7   \nSunset                                               50               50   \nTwin Peaks-Glen Park                                 10               10   \nVisitacion Valley/Sunnydale                           2                2   \nWestern Addition/Japantown                           50               50   \n\n                                         Venue Category  \nNeighborhood                                             \nBayview-Hunters Point                                14  \nCastro/Noe Valley                                    50  \nChinatown                                            50  \nHaight-Ashbury                                       50  \nHayes Valley/Tenderloin/North of Market              50  \nIngelside-Excelsior/Crocker-Amazon                   50  \nInner Mission/Bernal Heights                         50  \nInner Richmond                                       50  \nLake Merced                                          37  \nMarina                                               50  \nNorth Beach/Chinatown                                50  \nOuter Richmond                                        3  \nParkside/Forest Hill                                 50  \nPolk/Russian Hill (Nob Hill)                         50  \nPotrero Hill                                         50  \nSouth of Market                                      50  \nSt. Francis Wood/Miraloma/West Portal                 7  \nSunset                                               50  \nTwin Peaks-Glen Park                                 10  \nVisitacion Valley/Sunnydale                           2  \nWestern Addition/Japantown                           50  ",
      "text/html": "<div>\n<style scoped>\n    .dataframe tbody tr th:only-of-type {\n        vertical-align: middle;\n    }\n\n    .dataframe tbody tr th {\n        vertical-align: top;\n    }\n\n    .dataframe thead th {\n        text-align: right;\n    }\n</style>\n<table border=\"1\" class=\"dataframe\">\n  <thead>\n    <tr style=\"text-align: right;\">\n      <th></th>\n      <th>Neighborhood Latitude</th>\n      <th>Neighborhood Longitude</th>\n      <th>Venue</th>\n      <th>Venue Latidude</th>\n      <th>Venue Longitude</th>\n      <th>Venue Category</th>\n    </tr>\n    <tr>\n      <th>Neighborhood</th>\n      <th></th>\n      <th></th>\n      <th></th>\n      <th></th>\n      <th></th>\n      <th></th>\n    </tr>\n  </thead>\n  <tbody>\n    <tr>\n      <th>Bayview-Hunters Point</th>\n      <td>14</td>\n      <td>14</td>\n      <td>14</td>\n      <td>14</td>\n      <td>14</td>\n      <td>14</td>\n    </tr>\n    <tr>\n      <th>Castro/Noe Valley</th>\n      <td>50</td>\n      <td>50</td>\n      <td>50</td>\n      <td>50</td>\n      <td>50</td>\n      <td>50</td>\n    </tr>\n    <tr>\n      <th>Chinatown</th>\n      <td>50</td>\n      <td>50</td>\n      <td>50</td>\n      <td>50</td>\n      <td>50</td>\n      <td>50</td>\n    </tr>\n    <tr>\n      <th>Haight-Ashbury</th>\n      <td>50</td>\n      <td>50</td>\n      <td>50</td>\n      <td>50</td>\n      <td>50</td>\n      <td>50</td>\n    </tr>\n    <tr>\n      <th>Hayes Valley/Tenderloin/North of Market</th>\n      <td>50</td>\n      <td>50</td>\n      <td>50</td>\n      <td>50</td>\n      <td>50</td>\n      <td>50</td>\n    </tr>\n    <tr>\n      <th>Ingelside-Excelsior/Crocker-Amazon</th>\n      <td>50</td>\n      <td>50</td>\n      <td>50</td>\n      <td>50</td>\n      <td>50</td>\n      <td>50</td>\n    </tr>\n    <tr>\n      <th>Inner Mission/Bernal Heights</th>\n      <td>50</td>\n      <td>50</td>\n      <td>50</td>\n      <td>50</td>\n      <td>50</td>\n      <td>50</td>\n    </tr>\n    <tr>\n      <th>Inner Richmond</th>\n      <td>50</td>\n      <td>50</td>\n      <td>50</td>\n      <td>50</td>\n      <td>50</td>\n      <td>50</td>\n    </tr>\n    <tr>\n      <th>Lake Merced</th>\n      <td>37</td>\n      <td>37</td>\n      <td>37</td>\n      <td>37</td>\n      <td>37</td>\n      <td>37</td>\n    </tr>\n    <tr>\n      <th>Marina</th>\n      <td>50</td>\n      <td>50</td>\n      <td>50</td>\n      <td>50</td>\n      <td>50</td>\n      <td>50</td>\n    </tr>\n    <tr>\n      <th>North Beach/Chinatown</th>\n      <td>50</td>\n      <td>50</td>\n      <td>50</td>\n      <td>50</td>\n      <td>50</td>\n      <td>50</td>\n    </tr>\n    <tr>\n      <th>Outer Richmond</th>\n      <td>3</td>\n      <td>3</td>\n      <td>3</td>\n      <td>3</td>\n      <td>3</td>\n      <td>3</td>\n    </tr>\n    <tr>\n      <th>Parkside/Forest Hill</th>\n      <td>50</td>\n      <td>50</td>\n      <td>50</td>\n      <td>50</td>\n      <td>50</td>\n      <td>50</td>\n    </tr>\n    <tr>\n      <th>Polk/Russian Hill (Nob Hill)</th>\n      <td>50</td>\n      <td>50</td>\n      <td>50</td>\n      <td>50</td>\n      <td>50</td>\n      <td>50</td>\n    </tr>\n    <tr>\n      <th>Potrero Hill</th>\n      <td>50</td>\n      <td>50</td>\n      <td>50</td>\n      <td>50</td>\n      <td>50</td>\n      <td>50</td>\n    </tr>\n    <tr>\n      <th>South of Market</th>\n      <td>50</td>\n      <td>50</td>\n      <td>50</td>\n      <td>50</td>\n      <td>50</td>\n      <td>50</td>\n    </tr>\n    <tr>\n      <th>St. Francis Wood/Miraloma/West Portal</th>\n      <td>7</td>\n      <td>7</td>\n      <td>7</td>\n      <td>7</td>\n      <td>7</td>\n      <td>7</td>\n    </tr>\n    <tr>\n      <th>Sunset</th>\n      <td>50</td>\n      <td>50</td>\n      <td>50</td>\n      <td>50</td>\n      <td>50</td>\n      <td>50</td>\n    </tr>\n    <tr>\n      <th>Twin Peaks-Glen Park</th>\n      <td>10</td>\n      <td>10</td>\n      <td>10</td>\n      <td>10</td>\n      <td>10</td>\n      <td>10</td>\n    </tr>\n    <tr>\n      <th>Visitacion Valley/Sunnydale</th>\n      <td>2</td>\n      <td>2</td>\n      <td>2</td>\n      <td>2</td>\n      <td>2</td>\n      <td>2</td>\n    </tr>\n    <tr>\n      <th>Western Addition/Japantown</th>\n      <td>50</td>\n      <td>50</td>\n      <td>50</td>\n      <td>50</td>\n      <td>50</td>\n      <td>50</td>\n    </tr>\n  </tbody>\n</table>\n</div>"
     },
     "execution_count": 36,
     "metadata": {},
     "output_type": "execute_result"
    }
   ],
   "source": [
    "#Verificar quantos locais foram relacionados para cada bairro\n",
    "df_sf_new.groupby('Neighborhood').count()"
   ],
   "metadata": {
    "collapsed": false,
    "pycharm": {
     "name": "#%%\n"
    }
   }
  },
  {
   "cell_type": "code",
   "execution_count": 37,
   "outputs": [],
   "source": [
    "# one hot encoding\n",
    "df_sf_onehot_new = pd.get_dummies(df_sf_new[['Venue Category']], prefix = \"\", prefix_sep = \"\")\n",
    "# Adiciona os bairros em coluna de volta ao dataframe\n",
    "df_sf_onehot_new['Neighborhood'] = df_sf_new['Neighborhood']\n",
    "\n",
    "#Reodernando as colunas\n",
    "df_sf_onehot_new = df_sf_onehot_new.reindex(columns=['Neighborhood','African Restaurant', 'American Restaurant', 'Arcade','Arts and Entertainment', 'Asian Restaurant', 'Australian Restaurant',\n",
    "       'BBQ Joint', 'Bagel Shop', 'Bakery', 'Bar', 'Beer Bar', 'Bistro',\n",
    "       'Breakfast Spot', 'Brewery', 'Bubble Tea Shop', 'Buffet',\n",
    "       'Burger Joint', 'Burmese Restaurant', 'Cafes, Coffee, and Tea Houses',\n",
    "       'Café', 'Cajun / Creole Restaurant', 'Cantonese Restaurant',\n",
    "       'Caribbean Restaurant', 'Chinese Restaurant', 'Cocktail Bar',\n",
    "       'Coffee Shop', 'Concert Hall', 'Creperie', 'Deli', 'Dessert Shop',\n",
    "       'Dim Sum Restaurant', 'Diner', 'Dining and Drinking', 'Dive Bar',\n",
    "       'Donut Shop', 'Falafel Restaurant', 'Fast Food Restaurant','Filipino Restaurant', 'Food Stand', 'Food Truck', 'French Restaurant',\n",
    "       'Fried Chicken Joint', 'Frozen Yogurt Shop', 'Gay Bar',\n",
    "       'Greek Restaurant', 'Halal Restaurant', 'Hookah Bar', 'Hot Dog Joint',\n",
    "       'Ice Cream Parlor', 'Indian Restaurant', 'Italian Restaurant',\n",
    "       'Japanese Restaurant', 'Jazz and Blues Venue', 'Juice Bar',\n",
    "       'Karaoke Bar', 'Kebab Restaurant', 'Korean Restaurant',\n",
    "       'Latin American Restaurant', 'Lebanese Restaurant', 'Lounge', 'Meadery',\n",
    "       'Mediterranean Restaurant', 'Mexican Restaurant',\n",
    "       'Middle Eastern Restaurant', 'Movie Theater', 'Music Venue',\n",
    "       'New American Restaurant', 'Night Club', 'North Indian Restaurant',\n",
    "       'Pastry Shop', 'Peruvian Restaurant', 'Pizzeria', 'Poke Restaurant', 'Pool Hall', 'Pub', 'Ramen Restaurant', 'Restaurant', 'Rock Club',\n",
    "       'Russian Restaurant', 'Sandwich Restaurant', 'Seafood Restaurant',\n",
    "       'Snack Place', 'Speakeasy', 'Sports Bar', 'Steakhouse',\n",
    "       'Sushi Restaurant', 'Szechuan Restaurant', 'Taco Restaurant',\n",
    "       'Taiwanese Restaurant', 'Tapas Restaurant', 'Tea Room',\n",
    "       'Thai Restaurant', 'Vegan and Vegetarian Restaurant',\n",
    "       'Vietnamese Restaurant', 'Vineyard', 'Whisky Bar', 'Wine Bar', 'Winery' ])\n"
   ],
   "metadata": {
    "collapsed": false,
    "pycharm": {
     "name": "#%%\n"
    }
   }
  },
  {
   "cell_type": "code",
   "execution_count": 38,
   "outputs": [
    {
     "data": {
      "text/plain": "(823, 99)"
     },
     "execution_count": 38,
     "metadata": {},
     "output_type": "execute_result"
    }
   ],
   "source": [
    "df_sf_onehot_new.shape"
   ],
   "metadata": {
    "collapsed": false,
    "pycharm": {
     "name": "#%%\n"
    }
   }
  },
  {
   "cell_type": "code",
   "execution_count": 39,
   "outputs": [
    {
     "data": {
      "text/plain": "                              Neighborhood  African Restaurant  \\\n0                    Bayview-Hunters Point                 0.0   \n1                        Castro/Noe Valley                 0.0   \n2                                Chinatown                 0.0   \n3                           Haight-Ashbury                 0.0   \n4  Hayes Valley/Tenderloin/North of Market                 0.0   \n\n   American Restaurant  Arcade  Arts and Entertainment  Asian Restaurant  \\\n0                 0.00     0.0                     0.0              0.00   \n1                 0.04     0.0                     0.0              0.00   \n2                 0.06     0.0                     0.0              0.02   \n3                 0.02     0.0                     0.0              0.02   \n4                 0.02     0.0                     0.0              0.10   \n\n   Australian Restaurant  BBQ Joint  Bagel Shop  Bakery  ...  \\\n0                   0.00       0.00        0.00    0.00  ...   \n1                   0.02       0.02        0.04    0.10  ...   \n2                   0.00       0.00        0.02    0.02  ...   \n3                   0.00       0.00        0.00    0.02  ...   \n4                   0.00       0.00        0.00    0.02  ...   \n\n   Taiwanese Restaurant  Tapas Restaurant  Tea Room  Thai Restaurant  \\\n0                   0.0              0.00       0.0             0.00   \n1                   0.0              0.00       0.0             0.00   \n2                   0.0              0.00       0.0             0.00   \n3                   0.0              0.00       0.0             0.04   \n4                   0.0              0.02       0.0             0.04   \n\n   Vegan and Vegetarian Restaurant  Vietnamese Restaurant  Vineyard  \\\n0                             0.00                   0.00       0.0   \n1                             0.02                   0.00       0.0   \n2                             0.00                   0.00       0.0   \n3                             0.00                   0.02       0.0   \n4                             0.02                   0.02       0.0   \n\n   Whisky Bar  Wine Bar  Winery  \n0         0.0      0.00     0.0  \n1         0.0      0.00     0.0  \n2         0.0      0.02     0.0  \n3         0.0      0.02     0.0  \n4         0.0      0.02     0.0  \n\n[5 rows x 99 columns]",
      "text/html": "<div>\n<style scoped>\n    .dataframe tbody tr th:only-of-type {\n        vertical-align: middle;\n    }\n\n    .dataframe tbody tr th {\n        vertical-align: top;\n    }\n\n    .dataframe thead th {\n        text-align: right;\n    }\n</style>\n<table border=\"1\" class=\"dataframe\">\n  <thead>\n    <tr style=\"text-align: right;\">\n      <th></th>\n      <th>Neighborhood</th>\n      <th>African Restaurant</th>\n      <th>American Restaurant</th>\n      <th>Arcade</th>\n      <th>Arts and Entertainment</th>\n      <th>Asian Restaurant</th>\n      <th>Australian Restaurant</th>\n      <th>BBQ Joint</th>\n      <th>Bagel Shop</th>\n      <th>Bakery</th>\n      <th>...</th>\n      <th>Taiwanese Restaurant</th>\n      <th>Tapas Restaurant</th>\n      <th>Tea Room</th>\n      <th>Thai Restaurant</th>\n      <th>Vegan and Vegetarian Restaurant</th>\n      <th>Vietnamese Restaurant</th>\n      <th>Vineyard</th>\n      <th>Whisky Bar</th>\n      <th>Wine Bar</th>\n      <th>Winery</th>\n    </tr>\n  </thead>\n  <tbody>\n    <tr>\n      <th>0</th>\n      <td>Bayview-Hunters Point</td>\n      <td>0.0</td>\n      <td>0.00</td>\n      <td>0.0</td>\n      <td>0.0</td>\n      <td>0.00</td>\n      <td>0.00</td>\n      <td>0.00</td>\n      <td>0.00</td>\n      <td>0.00</td>\n      <td>...</td>\n      <td>0.0</td>\n      <td>0.00</td>\n      <td>0.0</td>\n      <td>0.00</td>\n      <td>0.00</td>\n      <td>0.00</td>\n      <td>0.0</td>\n      <td>0.0</td>\n      <td>0.00</td>\n      <td>0.0</td>\n    </tr>\n    <tr>\n      <th>1</th>\n      <td>Castro/Noe Valley</td>\n      <td>0.0</td>\n      <td>0.04</td>\n      <td>0.0</td>\n      <td>0.0</td>\n      <td>0.00</td>\n      <td>0.02</td>\n      <td>0.02</td>\n      <td>0.04</td>\n      <td>0.10</td>\n      <td>...</td>\n      <td>0.0</td>\n      <td>0.00</td>\n      <td>0.0</td>\n      <td>0.00</td>\n      <td>0.02</td>\n      <td>0.00</td>\n      <td>0.0</td>\n      <td>0.0</td>\n      <td>0.00</td>\n      <td>0.0</td>\n    </tr>\n    <tr>\n      <th>2</th>\n      <td>Chinatown</td>\n      <td>0.0</td>\n      <td>0.06</td>\n      <td>0.0</td>\n      <td>0.0</td>\n      <td>0.02</td>\n      <td>0.00</td>\n      <td>0.00</td>\n      <td>0.02</td>\n      <td>0.02</td>\n      <td>...</td>\n      <td>0.0</td>\n      <td>0.00</td>\n      <td>0.0</td>\n      <td>0.00</td>\n      <td>0.00</td>\n      <td>0.00</td>\n      <td>0.0</td>\n      <td>0.0</td>\n      <td>0.02</td>\n      <td>0.0</td>\n    </tr>\n    <tr>\n      <th>3</th>\n      <td>Haight-Ashbury</td>\n      <td>0.0</td>\n      <td>0.02</td>\n      <td>0.0</td>\n      <td>0.0</td>\n      <td>0.02</td>\n      <td>0.00</td>\n      <td>0.00</td>\n      <td>0.00</td>\n      <td>0.02</td>\n      <td>...</td>\n      <td>0.0</td>\n      <td>0.00</td>\n      <td>0.0</td>\n      <td>0.04</td>\n      <td>0.00</td>\n      <td>0.02</td>\n      <td>0.0</td>\n      <td>0.0</td>\n      <td>0.02</td>\n      <td>0.0</td>\n    </tr>\n    <tr>\n      <th>4</th>\n      <td>Hayes Valley/Tenderloin/North of Market</td>\n      <td>0.0</td>\n      <td>0.02</td>\n      <td>0.0</td>\n      <td>0.0</td>\n      <td>0.10</td>\n      <td>0.00</td>\n      <td>0.00</td>\n      <td>0.00</td>\n      <td>0.02</td>\n      <td>...</td>\n      <td>0.0</td>\n      <td>0.02</td>\n      <td>0.0</td>\n      <td>0.04</td>\n      <td>0.02</td>\n      <td>0.02</td>\n      <td>0.0</td>\n      <td>0.0</td>\n      <td>0.02</td>\n      <td>0.0</td>\n    </tr>\n  </tbody>\n</table>\n<p>5 rows × 99 columns</p>\n</div>"
     },
     "execution_count": 39,
     "metadata": {},
     "output_type": "execute_result"
    }
   ],
   "source": [
    "#Agrupar as linhas por bairro e tomando a média da frequência de ocorrência de cada categoria\n",
    "df_sf_grouped = df_sf_onehot_new.groupby('Neighborhood').mean().reset_index()\n",
    "df_sf_grouped.head()"
   ],
   "metadata": {
    "collapsed": false,
    "pycharm": {
     "name": "#%%\n"
    }
   }
  },
  {
   "cell_type": "code",
   "execution_count": 40,
   "outputs": [],
   "source": [
    "# função para classificar os locais em ordem decrescente.\n",
    "def return_most_common_venues(row, num_top_venues):\n",
    "    row_categories = row.iloc[1:]\n",
    "    row_categories_sorted = row_categories.sort_values(ascending = False)\n",
    "\n",
    "    return row_categories_sorted.index.values[0:num_top_venues]"
   ],
   "metadata": {
    "collapsed": false,
    "pycharm": {
     "name": "#%%\n"
    }
   }
  },
  {
   "cell_type": "code",
   "execution_count": 41,
   "outputs": [
    {
     "data": {
      "text/plain": "                              Neighborhood 1st Most Common Venue  \\\n0                    Bayview-Hunters Point            Restaurant   \n1                        Castro/Noe Valley            Restaurant   \n2                                Chinatown            Restaurant   \n3                           Haight-Ashbury                  Café   \n4  Hayes Valley/Tenderloin/North of Market          Cocktail Bar   \n\n  2nd Most Common Venue 3rd Most Common Venue 4th Most Common Venue  \\\n0           Coffee Shop                   Bar               Meadery   \n1          Burger Joint                Bakery              Pizzeria   \n2          Cocktail Bar                  Café     Korean Restaurant   \n3           Coffee Shop          Cocktail Bar       Thai Restaurant   \n4      Asian Restaurant           Coffee Shop                  Café   \n\n           5th Most Common Venue 6th Most Common Venue 7th Most Common Venue  \\\n0            Dining and Drinking          Dessert Shop    Chinese Restaurant   \n1             Mexican Restaurant           Coffee Shop            Sports Bar   \n2            American Restaurant       Bubble Tea Shop           Coffee Shop   \n3                            Pub  Fast Food Restaurant            Restaurant   \n4  Cafes, Coffee, and Tea Houses            Restaurant   Sandwich Restaurant   \n\n  8th Most Common Venue 9th Most Common Venue     10th Most Common Venue  \n0             Juice Bar              Tea Room  Middle Eastern Restaurant  \n1      Sushi Restaurant   American Restaurant           Ice Cream Parlor  \n2      Sushi Restaurant              Pizzeria               Burger Joint  \n3              Dive Bar  Caribbean Restaurant           Ice Cream Parlor  \n4          Burger Joint       Thai Restaurant           Greek Restaurant  ",
      "text/html": "<div>\n<style scoped>\n    .dataframe tbody tr th:only-of-type {\n        vertical-align: middle;\n    }\n\n    .dataframe tbody tr th {\n        vertical-align: top;\n    }\n\n    .dataframe thead th {\n        text-align: right;\n    }\n</style>\n<table border=\"1\" class=\"dataframe\">\n  <thead>\n    <tr style=\"text-align: right;\">\n      <th></th>\n      <th>Neighborhood</th>\n      <th>1st Most Common Venue</th>\n      <th>2nd Most Common Venue</th>\n      <th>3rd Most Common Venue</th>\n      <th>4th Most Common Venue</th>\n      <th>5th Most Common Venue</th>\n      <th>6th Most Common Venue</th>\n      <th>7th Most Common Venue</th>\n      <th>8th Most Common Venue</th>\n      <th>9th Most Common Venue</th>\n      <th>10th Most Common Venue</th>\n    </tr>\n  </thead>\n  <tbody>\n    <tr>\n      <th>0</th>\n      <td>Bayview-Hunters Point</td>\n      <td>Restaurant</td>\n      <td>Coffee Shop</td>\n      <td>Bar</td>\n      <td>Meadery</td>\n      <td>Dining and Drinking</td>\n      <td>Dessert Shop</td>\n      <td>Chinese Restaurant</td>\n      <td>Juice Bar</td>\n      <td>Tea Room</td>\n      <td>Middle Eastern Restaurant</td>\n    </tr>\n    <tr>\n      <th>1</th>\n      <td>Castro/Noe Valley</td>\n      <td>Restaurant</td>\n      <td>Burger Joint</td>\n      <td>Bakery</td>\n      <td>Pizzeria</td>\n      <td>Mexican Restaurant</td>\n      <td>Coffee Shop</td>\n      <td>Sports Bar</td>\n      <td>Sushi Restaurant</td>\n      <td>American Restaurant</td>\n      <td>Ice Cream Parlor</td>\n    </tr>\n    <tr>\n      <th>2</th>\n      <td>Chinatown</td>\n      <td>Restaurant</td>\n      <td>Cocktail Bar</td>\n      <td>Café</td>\n      <td>Korean Restaurant</td>\n      <td>American Restaurant</td>\n      <td>Bubble Tea Shop</td>\n      <td>Coffee Shop</td>\n      <td>Sushi Restaurant</td>\n      <td>Pizzeria</td>\n      <td>Burger Joint</td>\n    </tr>\n    <tr>\n      <th>3</th>\n      <td>Haight-Ashbury</td>\n      <td>Café</td>\n      <td>Coffee Shop</td>\n      <td>Cocktail Bar</td>\n      <td>Thai Restaurant</td>\n      <td>Pub</td>\n      <td>Fast Food Restaurant</td>\n      <td>Restaurant</td>\n      <td>Dive Bar</td>\n      <td>Caribbean Restaurant</td>\n      <td>Ice Cream Parlor</td>\n    </tr>\n    <tr>\n      <th>4</th>\n      <td>Hayes Valley/Tenderloin/North of Market</td>\n      <td>Cocktail Bar</td>\n      <td>Asian Restaurant</td>\n      <td>Coffee Shop</td>\n      <td>Café</td>\n      <td>Cafes, Coffee, and Tea Houses</td>\n      <td>Restaurant</td>\n      <td>Sandwich Restaurant</td>\n      <td>Burger Joint</td>\n      <td>Thai Restaurant</td>\n      <td>Greek Restaurant</td>\n    </tr>\n  </tbody>\n</table>\n</div>"
     },
     "execution_count": 41,
     "metadata": {},
     "output_type": "execute_result"
    }
   ],
   "source": [
    "#criar um novo dataframe e exibir os 10 melhores locais para cada bairro.\n",
    "num_top_venues = 10\n",
    "\n",
    "indicators = ['st', 'nd', 'rd']\n",
    "\n",
    "# create columns according to number of top venues\n",
    "columns = ['Neighborhood']\n",
    "for ind in np.arange(num_top_venues):\n",
    "    try:\n",
    "        # append 'st', 'nd', 'rd' to the top 3 venues\n",
    "        columns.append('{}{} Most Common Venue'.format(ind + 1, indicators[ind]))\n",
    "    except:\n",
    "        columns.append('{}th Most Common Venue'.format(ind + 1))\n",
    "\n",
    "# create a new dataframe\n",
    "neighborhoods_venues_sorted = pd.DataFrame(columns = columns)\n",
    "neighborhoods_venues_sorted['Neighborhood'] = df_sf_grouped['Neighborhood']\n",
    "\n",
    "for ind in np.arange(df_sf_grouped.shape[0]):\n",
    "    neighborhoods_venues_sorted.iloc[ind, 1:] = return_most_common_venues(df_sf_grouped.iloc[ind, :], num_top_venues)\n",
    "\n",
    "neighborhoods_venues_sorted.head()"
   ],
   "metadata": {
    "collapsed": false,
    "pycharm": {
     "name": "#%%\n"
    }
   }
  },
  {
   "cell_type": "markdown",
   "source": [
    "## Machine Learning"
   ],
   "metadata": {
    "collapsed": false
   }
  },
  {
   "cell_type": "code",
   "execution_count": 42,
   "outputs": [
    {
     "name": "stderr",
     "output_type": "stream",
     "text": [
      "C:\\Users\\eliel\\AppData\\Local\\Temp\\ipykernel_8496\\3331676409.py:1: FutureWarning: In a future version of pandas all arguments of DataFrame.drop except for the argument 'labels' will be keyword-only.\n",
      "  df_sf_grouped_clustering = df_sf_grouped.drop('Neighborhood', 1)\n"
     ]
    }
   ],
   "source": [
    "df_sf_grouped_clustering = df_sf_grouped.drop('Neighborhood', 1)"
   ],
   "metadata": {
    "collapsed": false,
    "pycharm": {
     "name": "#%%\n"
    }
   }
  },
  {
   "cell_type": "code",
   "execution_count": 43,
   "outputs": [],
   "source": [
    "#Metodo do cotovelo\n",
    "sum=[]\n",
    "\n",
    "k=range(2,12)\n",
    "for i in k:\n",
    "    kmeans=KMeans(n_clusters=i).fit(df_sf_grouped_clustering)\n",
    "    sum.append(kmeans.inertia_)\n"
   ],
   "metadata": {
    "collapsed": false,
    "pycharm": {
     "name": "#%%\n"
    }
   }
  },
  {
   "cell_type": "code",
   "execution_count": 44,
   "outputs": [
    {
     "data": {
      "text/plain": "<Figure size 432x288 with 1 Axes>",
      "image/png": "[encoded data removed]"
     },
     "metadata": {
      "needs_background": "light"
     },
     "output_type": "display_data"
    }
   ],
   "source": [
    "plt.plot(k,sum)\n",
    "plt.xlabel('k')\n",
    "plt.ylabel('Sum')\n",
    "plt.title('Elbow')\n",
    "plt.show()"
   ],
   "metadata": {
    "collapsed": false,
    "pycharm": {
     "name": "#%%\n"
    }
   }
  },
  {
   "cell_type": "code",
   "execution_count": 47,
   "outputs": [
    {
     "data": {
      "text/plain": "<Figure size 576x396 with 2 Axes>",
      "image/png": "[encoded data removed]"
     },
     "metadata": {},
     "output_type": "display_data"
    },
    {
     "data": {
      "text/plain": "<AxesSubplot:title={'center':'Distortion Score Elbow for KMeans Clustering'}, xlabel='k', ylabel='distortion score'>"
     },
     "execution_count": 47,
     "metadata": {},
     "output_type": "execute_result"
    }
   ],
   "source": [
    "from yellowbrick.cluster import KElbowVisualizer\n",
    "kmeans = KMeans()\n",
    "yellow_visualizer = KElbowVisualizer(kmeans, k=(2,12))\n",
    "yellow_visualizer.fit(df_sf_grouped_clustering)\n",
    "yellow_visualizer.show()"
   ],
   "metadata": {
    "collapsed": false,
    "pycharm": {
     "name": "#%%\n"
    }
   }
  },
  {
   "cell_type": "code",
   "execution_count": 48,
   "outputs": [
    {
     "data": {
      "text/plain": "array([3, 4, 4, 4, 4, 4, 4, 4, 4, 4])"
     },
     "execution_count": 48,
     "metadata": {},
     "output_type": "execute_result"
    }
   ],
   "source": [
    "from sklearn.cluster import KMeans\n",
    "# O melhor número de clusters\n",
    "kclusters = 5\n",
    "# Usar o K means clustering\n",
    "kmeans = KMeans(n_clusters = kclusters, random_state = 0).fit(df_sf_grouped_clustering)\n",
    "# Checa o label cluster gerados para cada linha no dataframe\n",
    "kmeans.labels_[0:10]"
   ],
   "metadata": {
    "collapsed": false,
    "pycharm": {
     "name": "#%%\n"
    }
   }
  },
  {
   "cell_type": "code",
   "execution_count": 49,
   "outputs": [],
   "source": [
    "# Adiciona os rotulos dos clustering\n",
    "neighborhoods_venues_sorted.insert(0, 'Cluster Labels', kmeans.labels_)"
   ],
   "metadata": {
    "collapsed": false,
    "pycharm": {
     "name": "#%%\n"
    }
   }
  },
  {
   "cell_type": "code",
   "execution_count": 50,
   "outputs": [
    {
     "data": {
      "text/plain": "    Cluster Labels                             Neighborhood  \\\n0                3                    Bayview-Hunters Point   \n1                4                        Castro/Noe Valley   \n2                4                                Chinatown   \n3                4                           Haight-Ashbury   \n4                4  Hayes Valley/Tenderloin/North of Market   \n5                4       Ingelside-Excelsior/Crocker-Amazon   \n6                4             Inner Mission/Bernal Heights   \n7                4                           Inner Richmond   \n8                4                              Lake Merced   \n9                4                                   Marina   \n10               4                    North Beach/Chinatown   \n11               2                           Outer Richmond   \n12               0                     Parkside/Forest Hill   \n13               4             Polk/Russian Hill (Nob Hill)   \n14               4                             Potrero Hill   \n15               4                          South of Market   \n16               4    St. Francis Wood/Miraloma/West Portal   \n17               0                                   Sunset   \n18               0                     Twin Peaks-Glen Park   \n19               1              Visitacion Valley/Sunnydale   \n20               4               Western Addition/Japantown   \n\n        1st Most Common Venue   2nd Most Common Venue 3rd Most Common Venue  \\\n0                  Restaurant             Coffee Shop                   Bar   \n1                  Restaurant            Burger Joint                Bakery   \n2                  Restaurant            Cocktail Bar                  Café   \n3                        Café             Coffee Shop          Cocktail Bar   \n4                Cocktail Bar        Asian Restaurant           Coffee Shop   \n5   Latin American Restaurant        Asian Restaurant              Pizzeria   \n6                  Restaurant                  Bakery   American Restaurant   \n7       Vietnamese Restaurant                Pizzeria            Restaurant   \n8                  Restaurant                Pizzeria   Sandwich Restaurant   \n9                  Restaurant            Cocktail Bar          Burger Joint   \n10               Cocktail Bar              Restaurant                Bakery   \n11                 Food Truck                Pizzeria             BBQ Joint   \n12         Chinese Restaurant        Asian Restaurant                  Café   \n13               Cocktail Bar             Coffee Shop      Asian Restaurant   \n14               Cocktail Bar                  Bakery              Wine Bar   \n15                 Night Club             Coffee Shop   Dining and Drinking   \n16            Thai Restaurant      Chinese Restaurant            Restaurant   \n17           Asian Restaurant                  Bakery       Bubble Tea Shop   \n18         Chinese Restaurant                  Bakery          Burger Joint   \n19                 Restaurant  Arts and Entertainment    African Restaurant   \n20       Fast Food Restaurant             Coffee Shop            Night Club   \n\n       4th Most Common Venue          5th Most Common Venue  \\\n0                    Meadery            Dining and Drinking   \n1                   Pizzeria             Mexican Restaurant   \n2          Korean Restaurant            American Restaurant   \n3            Thai Restaurant                            Pub   \n4                       Café  Cafes, Coffee, and Tea Houses   \n5                     Bakery             Chinese Restaurant   \n6                   Pizzeria           Fast Food Restaurant   \n7               Cocktail Bar             Chinese Restaurant   \n8                       Café                   Burger Joint   \n9        American Restaurant                            Bar   \n10                  Pizzeria                           Café   \n11  Mediterranean Restaurant            Peruvian Restaurant   \n12                      Deli                Bubble Tea Shop   \n13                Night Club                         Bakery   \n14          Ice Cream Parlor                   Dessert Shop   \n15                   Gay Bar                           Café   \n16                  Tea Room                       Dive Bar   \n17                      Deli                     Restaurant   \n18                Restaurant                    Coffee Shop   \n19        Mexican Restaurant                       Pizzeria   \n20       American Restaurant                           Café   \n\n   6th Most Common Venue    7th Most Common Venue      8th Most Common Venue  \\\n0           Dessert Shop       Chinese Restaurant                  Juice Bar   \n1            Coffee Shop               Sports Bar           Sushi Restaurant   \n2        Bubble Tea Shop              Coffee Shop           Sushi Restaurant   \n3   Fast Food Restaurant               Restaurant                   Dive Bar   \n4             Restaurant      Sandwich Restaurant               Burger Joint   \n5                   Café     Fast Food Restaurant                  BBQ Joint   \n6             Food Truck                   Winery                  Juice Bar   \n7           Burger Joint                     Deli       Fast Food Restaurant   \n8             Bagel Shop      American Restaurant           Halal Restaurant   \n9                   Deli       Mexican Restaurant           Ramen Restaurant   \n10    Italian Restaurant                     Deli                   Beer Bar   \n11           Pastry Shop  North Indian Restaurant                 Night Club   \n12   American Restaurant                 Pizzeria                 Restaurant   \n13                   Bar                     Deli               Burger Joint   \n14                   Bar                 Pizzeria        American Restaurant   \n15            Restaurant      Japanese Restaurant         Chinese Restaurant   \n16   Sandwich Restaurant       African Restaurant  Middle Eastern Restaurant   \n17           Coffee Shop      Szechuan Restaurant               Cocktail Bar   \n18  Cantonese Restaurant                     Café           Sushi Restaurant   \n19   Peruvian Restaurant              Pastry Shop    North Indian Restaurant   \n20      Asian Restaurant                 Pizzeria               Burger Joint   \n\n        9th Most Common Venue     10th Most Common Venue  \n0                    Tea Room  Middle Eastern Restaurant  \n1         American Restaurant           Ice Cream Parlor  \n2                    Pizzeria               Burger Joint  \n3        Caribbean Restaurant           Ice Cream Parlor  \n4             Thai Restaurant           Greek Restaurant  \n5         American Restaurant      Vietnamese Restaurant  \n6   Latin American Restaurant                 Night Club  \n7         American Restaurant            Thai Restaurant  \n8                 Coffee Shop               Cocktail Bar  \n9                    Dive Bar                Coffee Shop  \n10                   Wine Bar                 Sports Bar  \n11    New American Restaurant                Music Venue  \n12               Cocktail Bar       Cantonese Restaurant  \n13                      Diner                       Café  \n14                  BBQ Joint            Bubble Tea Shop  \n15                 Food Truck         Mexican Restaurant  \n16                Pastry Shop    North Indian Restaurant  \n17         Chinese Restaurant                  BBQ Joint  \n18         African Restaurant            Poke Restaurant  \n19                 Night Club    New American Restaurant  \n20                Karaoke Bar         Italian Restaurant  ",
      "text/html": "<div>\n<style scoped>\n    .dataframe tbody tr th:only-of-type {\n        vertical-align: middle;\n    }\n\n    .dataframe tbody tr th {\n        vertical-align: top;\n    }\n\n    .dataframe thead th {\n        text-align: right;\n    }\n</style>\n<table border=\"1\" class=\"dataframe\">\n  <thead>\n    <tr style=\"text-align: right;\">\n      <th></th>\n      <th>Cluster Labels</th>\n      <th>Neighborhood</th>\n      <th>1st Most Common Venue</th>\n      <th>2nd Most Common Venue</th>\n      <th>3rd Most Common Venue</th>\n      <th>4th Most Common Venue</th>\n      <th>5th Most Common Venue</th>\n      <th>6th Most Common Venue</th>\n      <th>7th Most Common Venue</th>\n      <th>8th Most Common Venue</th>\n      <th>9th Most Common Venue</th>\n      <th>10th Most Common Venue</th>\n    </tr>\n  </thead>\n  <tbody>\n    <tr>\n      <th>0</th>\n      <td>3</td>\n      <td>Bayview-Hunters Point</td>\n      <td>Restaurant</td>\n      <td>Coffee Shop</td>\n      <td>Bar</td>\n      <td>Meadery</td>\n      <td>Dining and Drinking</td>\n      <td>Dessert Shop</td>\n      <td>Chinese Restaurant</td>\n      <td>Juice Bar</td>\n      <td>Tea Room</td>\n      <td>Middle Eastern Restaurant</td>\n    </tr>\n    <tr>\n      <th>1</th>\n      <td>4</td>\n      <td>Castro/Noe Valley</td>\n      <td>Restaurant</td>\n      <td>Burger Joint</td>\n      <td>Bakery</td>\n      <td>Pizzeria</td>\n      <td>Mexican Restaurant</td>\n      <td>Coffee Shop</td>\n      <td>Sports Bar</td>\n      <td>Sushi Restaurant</td>\n      <td>American Restaurant</td>\n      <td>Ice Cream Parlor</td>\n    </tr>\n    <tr>\n      <th>2</th>\n      <td>4</td>\n      <td>Chinatown</td>\n      <td>Restaurant</td>\n      <td>Cocktail Bar</td>\n      <td>Café</td>\n      <td>Korean Restaurant</td>\n      <td>American Restaurant</td>\n      <td>Bubble Tea Shop</td>\n      <td>Coffee Shop</td>\n      <td>Sushi Restaurant</td>\n      <td>Pizzeria</td>\n      <td>Burger Joint</td>\n    </tr>\n    <tr>\n      <th>3</th>\n      <td>4</td>\n      <td>Haight-Ashbury</td>\n      <td>Café</td>\n      <td>Coffee Shop</td>\n      <td>Cocktail Bar</td>\n      <td>Thai Restaurant</td>\n      <td>Pub</td>\n      <td>Fast Food Restaurant</td>\n      <td>Restaurant</td>\n      <td>Dive Bar</td>\n      <td>Caribbean Restaurant</td>\n      <td>Ice Cream Parlor</td>\n    </tr>\n    <tr>\n      <th>4</th>\n      <td>4</td>\n      <td>Hayes Valley/Tenderloin/North of Market</td>\n      <td>Cocktail Bar</td>\n      <td>Asian Restaurant</td>\n      <td>Coffee Shop</td>\n      <td>Café</td>\n      <td>Cafes, Coffee, and Tea Houses</td>\n      <td>Restaurant</td>\n      <td>Sandwich Restaurant</td>\n      <td>Burger Joint</td>\n      <td>Thai Restaurant</td>\n      <td>Greek Restaurant</td>\n    </tr>\n    <tr>\n      <th>5</th>\n      <td>4</td>\n      <td>Ingelside-Excelsior/Crocker-Amazon</td>\n      <td>Latin American Restaurant</td>\n      <td>Asian Restaurant</td>\n      <td>Pizzeria</td>\n      <td>Bakery</td>\n      <td>Chinese Restaurant</td>\n      <td>Café</td>\n      <td>Fast Food Restaurant</td>\n      <td>BBQ Joint</td>\n      <td>American Restaurant</td>\n      <td>Vietnamese Restaurant</td>\n    </tr>\n    <tr>\n      <th>6</th>\n      <td>4</td>\n      <td>Inner Mission/Bernal Heights</td>\n      <td>Restaurant</td>\n      <td>Bakery</td>\n      <td>American Restaurant</td>\n      <td>Pizzeria</td>\n      <td>Fast Food Restaurant</td>\n      <td>Food Truck</td>\n      <td>Winery</td>\n      <td>Juice Bar</td>\n      <td>Latin American Restaurant</td>\n      <td>Night Club</td>\n    </tr>\n    <tr>\n      <th>7</th>\n      <td>4</td>\n      <td>Inner Richmond</td>\n      <td>Vietnamese Restaurant</td>\n      <td>Pizzeria</td>\n      <td>Restaurant</td>\n      <td>Cocktail Bar</td>\n      <td>Chinese Restaurant</td>\n      <td>Burger Joint</td>\n      <td>Deli</td>\n      <td>Fast Food Restaurant</td>\n      <td>American Restaurant</td>\n      <td>Thai Restaurant</td>\n    </tr>\n    <tr>\n      <th>8</th>\n      <td>4</td>\n      <td>Lake Merced</td>\n      <td>Restaurant</td>\n      <td>Pizzeria</td>\n      <td>Sandwich Restaurant</td>\n      <td>Café</td>\n      <td>Burger Joint</td>\n      <td>Bagel Shop</td>\n      <td>American Restaurant</td>\n      <td>Halal Restaurant</td>\n      <td>Coffee Shop</td>\n      <td>Cocktail Bar</td>\n    </tr>\n    <tr>\n      <th>9</th>\n      <td>4</td>\n      <td>Marina</td>\n      <td>Restaurant</td>\n      <td>Cocktail Bar</td>\n      <td>Burger Joint</td>\n      <td>American Restaurant</td>\n      <td>Bar</td>\n      <td>Deli</td>\n      <td>Mexican Restaurant</td>\n      <td>Ramen Restaurant</td>\n      <td>Dive Bar</td>\n      <td>Coffee Shop</td>\n    </tr>\n    <tr>\n      <th>10</th>\n      <td>4</td>\n      <td>North Beach/Chinatown</td>\n      <td>Cocktail Bar</td>\n      <td>Restaurant</td>\n      <td>Bakery</td>\n      <td>Pizzeria</td>\n      <td>Café</td>\n      <td>Italian Restaurant</td>\n      <td>Deli</td>\n      <td>Beer Bar</td>\n      <td>Wine Bar</td>\n      <td>Sports Bar</td>\n    </tr>\n    <tr>\n      <th>11</th>\n      <td>2</td>\n      <td>Outer Richmond</td>\n      <td>Food Truck</td>\n      <td>Pizzeria</td>\n      <td>BBQ Joint</td>\n      <td>Mediterranean Restaurant</td>\n      <td>Peruvian Restaurant</td>\n      <td>Pastry Shop</td>\n      <td>North Indian Restaurant</td>\n      <td>Night Club</td>\n      <td>New American Restaurant</td>\n      <td>Music Venue</td>\n    </tr>\n    <tr>\n      <th>12</th>\n      <td>0</td>\n      <td>Parkside/Forest Hill</td>\n      <td>Chinese Restaurant</td>\n      <td>Asian Restaurant</td>\n      <td>Café</td>\n      <td>Deli</td>\n      <td>Bubble Tea Shop</td>\n      <td>American Restaurant</td>\n      <td>Pizzeria</td>\n      <td>Restaurant</td>\n      <td>Cocktail Bar</td>\n      <td>Cantonese Restaurant</td>\n    </tr>\n    <tr>\n      <th>13</th>\n      <td>4</td>\n      <td>Polk/Russian Hill (Nob Hill)</td>\n      <td>Cocktail Bar</td>\n      <td>Coffee Shop</td>\n      <td>Asian Restaurant</td>\n      <td>Night Club</td>\n      <td>Bakery</td>\n      <td>Bar</td>\n      <td>Deli</td>\n      <td>Burger Joint</td>\n      <td>Diner</td>\n      <td>Café</td>\n    </tr>\n    <tr>\n      <th>14</th>\n      <td>4</td>\n      <td>Potrero Hill</td>\n      <td>Cocktail Bar</td>\n      <td>Bakery</td>\n      <td>Wine Bar</td>\n      <td>Ice Cream Parlor</td>\n      <td>Dessert Shop</td>\n      <td>Bar</td>\n      <td>Pizzeria</td>\n      <td>American Restaurant</td>\n      <td>BBQ Joint</td>\n      <td>Bubble Tea Shop</td>\n    </tr>\n    <tr>\n      <th>15</th>\n      <td>4</td>\n      <td>South of Market</td>\n      <td>Night Club</td>\n      <td>Coffee Shop</td>\n      <td>Dining and Drinking</td>\n      <td>Gay Bar</td>\n      <td>Café</td>\n      <td>Restaurant</td>\n      <td>Japanese Restaurant</td>\n      <td>Chinese Restaurant</td>\n      <td>Food Truck</td>\n      <td>Mexican Restaurant</td>\n    </tr>\n    <tr>\n      <th>16</th>\n      <td>4</td>\n      <td>St. Francis Wood/Miraloma/West Portal</td>\n      <td>Thai Restaurant</td>\n      <td>Chinese Restaurant</td>\n      <td>Restaurant</td>\n      <td>Tea Room</td>\n      <td>Dive Bar</td>\n      <td>Sandwich Restaurant</td>\n      <td>African Restaurant</td>\n      <td>Middle Eastern Restaurant</td>\n      <td>Pastry Shop</td>\n      <td>North Indian Restaurant</td>\n    </tr>\n    <tr>\n      <th>17</th>\n      <td>0</td>\n      <td>Sunset</td>\n      <td>Asian Restaurant</td>\n      <td>Bakery</td>\n      <td>Bubble Tea Shop</td>\n      <td>Deli</td>\n      <td>Restaurant</td>\n      <td>Coffee Shop</td>\n      <td>Szechuan Restaurant</td>\n      <td>Cocktail Bar</td>\n      <td>Chinese Restaurant</td>\n      <td>BBQ Joint</td>\n    </tr>\n    <tr>\n      <th>18</th>\n      <td>0</td>\n      <td>Twin Peaks-Glen Park</td>\n      <td>Chinese Restaurant</td>\n      <td>Bakery</td>\n      <td>Burger Joint</td>\n      <td>Restaurant</td>\n      <td>Coffee Shop</td>\n      <td>Cantonese Restaurant</td>\n      <td>Café</td>\n      <td>Sushi Restaurant</td>\n      <td>African Restaurant</td>\n      <td>Poke Restaurant</td>\n    </tr>\n    <tr>\n      <th>19</th>\n      <td>1</td>\n      <td>Visitacion Valley/Sunnydale</td>\n      <td>Restaurant</td>\n      <td>Arts and Entertainment</td>\n      <td>African Restaurant</td>\n      <td>Mexican Restaurant</td>\n      <td>Pizzeria</td>\n      <td>Peruvian Restaurant</td>\n      <td>Pastry Shop</td>\n      <td>North Indian Restaurant</td>\n      <td>Night Club</td>\n      <td>New American Restaurant</td>\n    </tr>\n    <tr>\n      <th>20</th>\n      <td>4</td>\n      <td>Western Addition/Japantown</td>\n      <td>Fast Food Restaurant</td>\n      <td>Coffee Shop</td>\n      <td>Night Club</td>\n      <td>American Restaurant</td>\n      <td>Café</td>\n      <td>Asian Restaurant</td>\n      <td>Pizzeria</td>\n      <td>Burger Joint</td>\n      <td>Karaoke Bar</td>\n      <td>Italian Restaurant</td>\n    </tr>\n  </tbody>\n</table>\n</div>"
     },
     "execution_count": 50,
     "metadata": {},
     "output_type": "execute_result"
    }
   ],
   "source": [
    "neighborhoods_venues_sorted"
   ],
   "metadata": {
    "collapsed": false,
    "pycharm": {
     "name": "#%%\n"
    }
   }
  },
  {
   "cell_type": "code",
   "execution_count": 51,
   "outputs": [
    {
     "data": {
      "text/plain": "  Zip Code                             Neighborhood  Latitude  Longitude  \\\n1    94102  Hayes Valley/Tenderloin/North of Market     37.78    -122.42   \n2    94103                          South of Market     37.77    -122.41   \n3    94107                             Potrero Hill     37.76    -122.39   \n4    94108                                Chinatown     37.79    -122.41   \n5    94109             Polk/Russian Hill (Nob Hill)     37.79    -122.42   \n\n   Cluster Labels 1st Most Common Venue 2nd Most Common Venue  \\\n1               4          Cocktail Bar      Asian Restaurant   \n2               4            Night Club           Coffee Shop   \n3               4          Cocktail Bar                Bakery   \n4               4            Restaurant          Cocktail Bar   \n5               4          Cocktail Bar           Coffee Shop   \n\n  3rd Most Common Venue 4th Most Common Venue          5th Most Common Venue  \\\n1           Coffee Shop                  Café  Cafes, Coffee, and Tea Houses   \n2   Dining and Drinking               Gay Bar                           Café   \n3              Wine Bar      Ice Cream Parlor                   Dessert Shop   \n4                  Café     Korean Restaurant            American Restaurant   \n5      Asian Restaurant            Night Club                         Bakery   \n\n  6th Most Common Venue 7th Most Common Venue 8th Most Common Venue  \\\n1            Restaurant   Sandwich Restaurant          Burger Joint   \n2            Restaurant   Japanese Restaurant    Chinese Restaurant   \n3                   Bar              Pizzeria   American Restaurant   \n4       Bubble Tea Shop           Coffee Shop      Sushi Restaurant   \n5                   Bar                  Deli          Burger Joint   \n\n  9th Most Common Venue 10th Most Common Venue  \n1       Thai Restaurant       Greek Restaurant  \n2            Food Truck     Mexican Restaurant  \n3             BBQ Joint        Bubble Tea Shop  \n4              Pizzeria           Burger Joint  \n5                 Diner                   Café  ",
      "text/html": "<div>\n<style scoped>\n    .dataframe tbody tr th:only-of-type {\n        vertical-align: middle;\n    }\n\n    .dataframe tbody tr th {\n        vertical-align: top;\n    }\n\n    .dataframe thead th {\n        text-align: right;\n    }\n</style>\n<table border=\"1\" class=\"dataframe\">\n  <thead>\n    <tr style=\"text-align: right;\">\n      <th></th>\n      <th>Zip Code</th>\n      <th>Neighborhood</th>\n      <th>Latitude</th>\n      <th>Longitude</th>\n      <th>Cluster Labels</th>\n      <th>1st Most Common Venue</th>\n      <th>2nd Most Common Venue</th>\n      <th>3rd Most Common Venue</th>\n      <th>4th Most Common Venue</th>\n      <th>5th Most Common Venue</th>\n      <th>6th Most Common Venue</th>\n      <th>7th Most Common Venue</th>\n      <th>8th Most Common Venue</th>\n      <th>9th Most Common Venue</th>\n      <th>10th Most Common Venue</th>\n    </tr>\n  </thead>\n  <tbody>\n    <tr>\n      <th>1</th>\n      <td>94102</td>\n      <td>Hayes Valley/Tenderloin/North of Market</td>\n      <td>37.78</td>\n      <td>-122.42</td>\n      <td>4</td>\n      <td>Cocktail Bar</td>\n      <td>Asian Restaurant</td>\n      <td>Coffee Shop</td>\n      <td>Café</td>\n      <td>Cafes, Coffee, and Tea Houses</td>\n      <td>Restaurant</td>\n      <td>Sandwich Restaurant</td>\n      <td>Burger Joint</td>\n      <td>Thai Restaurant</td>\n      <td>Greek Restaurant</td>\n    </tr>\n    <tr>\n      <th>2</th>\n      <td>94103</td>\n      <td>South of Market</td>\n      <td>37.77</td>\n      <td>-122.41</td>\n      <td>4</td>\n      <td>Night Club</td>\n      <td>Coffee Shop</td>\n      <td>Dining and Drinking</td>\n      <td>Gay Bar</td>\n      <td>Café</td>\n      <td>Restaurant</td>\n      <td>Japanese Restaurant</td>\n      <td>Chinese Restaurant</td>\n      <td>Food Truck</td>\n      <td>Mexican Restaurant</td>\n    </tr>\n    <tr>\n      <th>3</th>\n      <td>94107</td>\n      <td>Potrero Hill</td>\n      <td>37.76</td>\n      <td>-122.39</td>\n      <td>4</td>\n      <td>Cocktail Bar</td>\n      <td>Bakery</td>\n      <td>Wine Bar</td>\n      <td>Ice Cream Parlor</td>\n      <td>Dessert Shop</td>\n      <td>Bar</td>\n      <td>Pizzeria</td>\n      <td>American Restaurant</td>\n      <td>BBQ Joint</td>\n      <td>Bubble Tea Shop</td>\n    </tr>\n    <tr>\n      <th>4</th>\n      <td>94108</td>\n      <td>Chinatown</td>\n      <td>37.79</td>\n      <td>-122.41</td>\n      <td>4</td>\n      <td>Restaurant</td>\n      <td>Cocktail Bar</td>\n      <td>Café</td>\n      <td>Korean Restaurant</td>\n      <td>American Restaurant</td>\n      <td>Bubble Tea Shop</td>\n      <td>Coffee Shop</td>\n      <td>Sushi Restaurant</td>\n      <td>Pizzeria</td>\n      <td>Burger Joint</td>\n    </tr>\n    <tr>\n      <th>5</th>\n      <td>94109</td>\n      <td>Polk/Russian Hill (Nob Hill)</td>\n      <td>37.79</td>\n      <td>-122.42</td>\n      <td>4</td>\n      <td>Cocktail Bar</td>\n      <td>Coffee Shop</td>\n      <td>Asian Restaurant</td>\n      <td>Night Club</td>\n      <td>Bakery</td>\n      <td>Bar</td>\n      <td>Deli</td>\n      <td>Burger Joint</td>\n      <td>Diner</td>\n      <td>Café</td>\n    </tr>\n  </tbody>\n</table>\n</div>"
     },
     "execution_count": 51,
     "metadata": {},
     "output_type": "execute_result"
    }
   ],
   "source": [
    "df_sf_merged = df_sf\n",
    "\n",
    "#JUnta os dataframes\n",
    "df_sf_merged = df_sf_merged.join(neighborhoods_venues_sorted.set_index('Neighborhood'), on='Neighborhood')\n",
    "df_sf_merged.head()"
   ],
   "metadata": {
    "collapsed": false,
    "pycharm": {
     "name": "#%%\n"
    }
   }
  },
  {
   "cell_type": "code",
   "execution_count": 52,
   "outputs": [
    {
     "data": {
      "text/plain": "<folium.folium.Map at 0x117de4605e0>",
      "text/html": "<div style=\"width:100%;\"><div style=\"position:relative;width:100%;height:0;padding-bottom:60%;\"><span style=\"color:#565656\">Make this Notebook Trusted to load map: File -> Trust Notebook</span><iframe src=\"about:blank\" style=\"position:absolute;width:100%;height:100%;left:0;top:0;border:none !important;\" data-html=%3C%21DOCTYPE%20html%3E%0A%3Chead%3E%20%20%20%20%0A%20%20%20%20%3Cmeta%20http-equiv%3D%22content-type%22%20content%3D%22text/html%3B%20charset%3DUTF-8%22%20/%3E%0A%20%20%20%20%0A%20%20%20%20%20%20%20%20%3Cscript%3E%0A%20%20%20%20%20%20%20%20%20%20%20%20L_NO_TOUCH%20%3D%20false%3B%0A%20%20%20%20%20%20%20%20%20%20%20%20L_DISABLE_3D%20%3D%20false%3B%0A%20%20%20%20%20%20%20%20%3C/script%3E%0A%20%20%20%20%0A%20%20%20%20%3Cstyle%3Ehtml%2C%20body%20%7Bwidth%3A%20100%25%3Bheight%3A%20100%25%3Bmargin%3A%200%3Bpadding%3A%200%3B%7D%3C/style%3E%0A%20%20%20%20%3Cstyle%3E%23map%20%7Bposition%3Aabsolute%3Btop%3A0%3Bbottom%3A0%3Bright%3A0%3Bleft%3A0%3B%7D%3C/style%3E%0A%20%20%20%20%3Cscript%20src%3D%22https%3A//cdn.jsdelivr.net/npm/leaflet%401.6.0/dist/leaflet.js%22%3E%3C/script%3E%0A%20%20%20%20%3Cscript%20src%3D%22https%3A//code.jquery.com/jquery-1.12.4.min.js%22%3E%3C/script%3E%0A%20%20%20%20%3Cscript%20src%3D%22https%3A//maxcdn.bootstrapcdn.com/bootstrap/3.2.0/js/bootstrap.min.js%22%3E%3C/script%3E%0A%20%20%20%20%3Cscript%20src%3D%22https%3A//cdnjs.cloudflare.com/ajax/libs/Leaflet.awesome-markers/2.0.2/leaflet.awesome-markers.js%22%3E%3C/script%3E%0A%20%20%20%20%3Clink%20rel%3D%22stylesheet%22%20href%3D%22https%3A//cdn.jsdelivr.net/npm/leaflet%401.6.0/dist/leaflet.css%22/%3E%0A%20%20%20%20%3Clink%20rel%3D%22stylesheet%22%20href%3D%22https%3A//maxcdn.bootstrapcdn.com/bootstrap/3.2.0/css/bootstrap.min.css%22/%3E%0A%20%20%20%20%3Clink%20rel%3D%22stylesheet%22%20href%3D%22https%3A//maxcdn.bootstrapcdn.com/bootstrap/3.2.0/css/bootstrap-theme.min.css%22/%3E%0A%20%20%20%20%3Clink%20rel%3D%22stylesheet%22%20href%3D%22https%3A//maxcdn.bootstrapcdn.com/font-awesome/4.6.3/css/font-awesome.min.css%22/%3E%0A%20%20%20%20%3Clink%20rel%3D%22stylesheet%22%20href%3D%22https%3A//cdnjs.cloudflare.com/ajax/libs/Leaflet.awesome-markers/2.0.2/leaflet.awesome-markers.css%22/%3E%0A%20%20%20%20%3Clink%20rel%3D%22stylesheet%22%20href%3D%22https%3A//cdn.jsdelivr.net/gh/python-visualization/folium/folium/templates/leaflet.awesome.rotate.min.css%22/%3E%0A%20%20%20%20%0A%20%20%20%20%20%20%20%20%20%20%20%20%3Cmeta%20name%3D%22viewport%22%20content%3D%22width%3Ddevice-width%2C%0A%20%20%20%20%20%20%20%20%20%20%20%20%20%20%20%20initial-scale%3D1.0%2C%20maximum-scale%3D1.0%2C%20user-scalable%3Dno%22%20/%3E%0A%20%20%20%20%20%20%20%20%20%20%20%20%3Cstyle%3E%0A%20%20%20%20%20%20%20%20%20%20%20%20%20%20%20%20%23map_5894cd4b293545aa913d8a7c92e06648%20%7B%0A%20%20%20%20%20%20%20%20%20%20%20%20%20%20%20%20%20%20%20%20position%3A%20relative%3B%0A%20%20%20%20%20%20%20%20%20%20%20%20%20%20%20%20%20%20%20%20width%3A%20100.0%25%3B%0A%20%20%20%20%20%20%20%20%20%20%20%20%20%20%20%20%20%20%20%20height%3A%20100.0%25%3B%0A%20%20%20%20%20%20%20%20%20%20%20%20%20%20%20%20%20%20%20%20left%3A%200.0%25%3B%0A%20%20%20%20%20%20%20%20%20%20%20%20%20%20%20%20%20%20%20%20top%3A%200.0%25%3B%0A%20%20%20%20%20%20%20%20%20%20%20%20%20%20%20%20%7D%0A%20%20%20%20%20%20%20%20%20%20%20%20%3C/style%3E%0A%20%20%20%20%20%20%20%20%0A%3C/head%3E%0A%3Cbody%3E%20%20%20%20%0A%20%20%20%20%0A%20%20%20%20%20%20%20%20%20%20%20%20%3Cdiv%20class%3D%22folium-map%22%20id%3D%22map_5894cd4b293545aa913d8a7c92e06648%22%20%3E%3C/div%3E%0A%20%20%20%20%20%20%20%20%0A%3C/body%3E%0A%3Cscript%3E%20%20%20%20%0A%20%20%20%20%0A%20%20%20%20%20%20%20%20%20%20%20%20var%20map_5894cd4b293545aa913d8a7c92e06648%20%3D%20L.map%28%0A%20%20%20%20%20%20%20%20%20%20%20%20%20%20%20%20%22map_5894cd4b293545aa913d8a7c92e06648%22%2C%0A%20%20%20%20%20%20%20%20%20%20%20%20%20%20%20%20%7B%0A%20%20%20%20%20%20%20%20%20%20%20%20%20%20%20%20%20%20%20%20center%3A%20%5B37.34559035%2C%20-121.93760284999999%5D%2C%0A%20%20%20%20%20%20%20%20%20%20%20%20%20%20%20%20%20%20%20%20crs%3A%20L.CRS.EPSG3857%2C%0A%20%20%20%20%20%20%20%20%20%20%20%20%20%20%20%20%20%20%20%20zoom%3A%2011%2C%0A%20%20%20%20%20%20%20%20%20%20%20%20%20%20%20%20%20%20%20%20zoomControl%3A%20true%2C%0A%20%20%20%20%20%20%20%20%20%20%20%20%20%20%20%20%20%20%20%20preferCanvas%3A%20false%2C%0A%20%20%20%20%20%20%20%20%20%20%20%20%20%20%20%20%7D%0A%20%20%20%20%20%20%20%20%20%20%20%20%29%3B%0A%0A%20%20%20%20%20%20%20%20%20%20%20%20%0A%0A%20%20%20%20%20%20%20%20%0A%20%20%20%20%0A%20%20%20%20%20%20%20%20%20%20%20%20var%20tile_layer_e344b88e12614664843eeeebc60edfd6%20%3D%20L.tileLayer%28%0A%20%20%20%20%20%20%20%20%20%20%20%20%20%20%20%20%22https%3A//%7Bs%7D.tile.openstreetmap.org/%7Bz%7D/%7Bx%7D/%7By%7D.png%22%2C%0A%20%20%20%20%20%20%20%20%20%20%20%20%20%20%20%20%7B%22attribution%22%3A%20%22Data%20by%20%5Cu0026copy%3B%20%5Cu003ca%20href%3D%5C%22http%3A//openstreetmap.org%5C%22%5Cu003eOpenStreetMap%5Cu003c/a%5Cu003e%2C%20under%20%5Cu003ca%20href%3D%5C%22http%3A//www.openstreetmap.org/copyright%5C%22%5Cu003eODbL%5Cu003c/a%5Cu003e.%22%2C%20%22detectRetina%22%3A%20false%2C%20%22maxNativeZoom%22%3A%2018%2C%20%22maxZoom%22%3A%2018%2C%20%22minZoom%22%3A%200%2C%20%22noWrap%22%3A%20false%2C%20%22opacity%22%3A%201%2C%20%22subdomains%22%3A%20%22abc%22%2C%20%22tms%22%3A%20false%7D%0A%20%20%20%20%20%20%20%20%20%20%20%20%29.addTo%28map_5894cd4b293545aa913d8a7c92e06648%29%3B%0A%20%20%20%20%20%20%20%20%0A%20%20%20%20%0A%20%20%20%20%20%20%20%20%20%20%20%20var%20circle_marker_1ce351c85cf14bcead4b31f214f73a00%20%3D%20L.circleMarker%28%0A%20%20%20%20%20%20%20%20%20%20%20%20%20%20%20%20%5B37.78%2C%20-122.42%5D%2C%0A%20%20%20%20%20%20%20%20%20%20%20%20%20%20%20%20%7B%22bubblingMouseEvents%22%3A%20true%2C%20%22color%22%3A%20%22%23ffb360%22%2C%20%22dashArray%22%3A%20null%2C%20%22dashOffset%22%3A%20null%2C%20%22fill%22%3A%20true%2C%20%22fillColor%22%3A%20%22%23ffb360%22%2C%20%22fillOpacity%22%3A%200.7%2C%20%22fillRule%22%3A%20%22evenodd%22%2C%20%22lineCap%22%3A%20%22round%22%2C%20%22lineJoin%22%3A%20%22round%22%2C%20%22opacity%22%3A%201.0%2C%20%22radius%22%3A%205%2C%20%22stroke%22%3A%20true%2C%20%22weight%22%3A%203%7D%0A%20%20%20%20%20%20%20%20%20%20%20%20%29.addTo%28map_5894cd4b293545aa913d8a7c92e06648%29%3B%0A%20%20%20%20%20%20%20%20%0A%20%20%20%20%0A%20%20%20%20%20%20%20%20var%20popup_a22ca54c2c384bd2979804514af6caae%20%3D%20L.popup%28%7B%22maxWidth%22%3A%20%22100%25%22%7D%29%3B%0A%0A%20%20%20%20%20%20%20%20%0A%20%20%20%20%20%20%20%20%20%20%20%20var%20html_cf5015abab8844a39e563e8fb9f5ea2c%20%3D%20%24%28%60%3Cdiv%20id%3D%22html_cf5015abab8844a39e563e8fb9f5ea2c%22%20style%3D%22width%3A%20100.0%25%3B%20height%3A%20100.0%25%3B%22%3EHayes%20Valley/Tenderloin/North%20of%20Market%20Cluster%204%3C/div%3E%60%29%5B0%5D%3B%0A%20%20%20%20%20%20%20%20%20%20%20%20popup_a22ca54c2c384bd2979804514af6caae.setContent%28html_cf5015abab8844a39e563e8fb9f5ea2c%29%3B%0A%20%20%20%20%20%20%20%20%0A%0A%20%20%20%20%20%20%20%20circle_marker_1ce351c85cf14bcead4b31f214f73a00.bindPopup%28popup_a22ca54c2c384bd2979804514af6caae%29%0A%20%20%20%20%20%20%20%20%3B%0A%0A%20%20%20%20%20%20%20%20%0A%20%20%20%20%0A%20%20%20%20%0A%20%20%20%20%20%20%20%20%20%20%20%20var%20circle_marker_bdf81d00dcf4434b95e08cd662667f0e%20%3D%20L.circleMarker%28%0A%20%20%20%20%20%20%20%20%20%20%20%20%20%20%20%20%5B37.77%2C%20-122.41%5D%2C%0A%20%20%20%20%20%20%20%20%20%20%20%20%20%20%20%20%7B%22bubblingMouseEvents%22%3A%20true%2C%20%22color%22%3A%20%22%23ffb360%22%2C%20%22dashArray%22%3A%20null%2C%20%22dashOffset%22%3A%20null%2C%20%22fill%22%3A%20true%2C%20%22fillColor%22%3A%20%22%23ffb360%22%2C%20%22fillOpacity%22%3A%200.7%2C%20%22fillRule%22%3A%20%22evenodd%22%2C%20%22lineCap%22%3A%20%22round%22%2C%20%22lineJoin%22%3A%20%22round%22%2C%20%22opacity%22%3A%201.0%2C%20%22radius%22%3A%205%2C%20%22stroke%22%3A%20true%2C%20%22weight%22%3A%203%7D%0A%20%20%20%20%20%20%20%20%20%20%20%20%29.addTo%28map_5894cd4b293545aa913d8a7c92e06648%29%3B%0A%20%20%20%20%20%20%20%20%0A%20%20%20%20%0A%20%20%20%20%20%20%20%20var%20popup_c9a1b32a2f6b4df3a6b7d24e7afade95%20%3D%20L.popup%28%7B%22maxWidth%22%3A%20%22100%25%22%7D%29%3B%0A%0A%20%20%20%20%20%20%20%20%0A%20%20%20%20%20%20%20%20%20%20%20%20var%20html_9983c9533fed442fb681271bdf4d1282%20%3D%20%24%28%60%3Cdiv%20id%3D%22html_9983c9533fed442fb681271bdf4d1282%22%20style%3D%22width%3A%20100.0%25%3B%20height%3A%20100.0%25%3B%22%3ESouth%20of%20Market%20Cluster%204%3C/div%3E%60%29%5B0%5D%3B%0A%20%20%20%20%20%20%20%20%20%20%20%20popup_c9a1b32a2f6b4df3a6b7d24e7afade95.setContent%28html_9983c9533fed442fb681271bdf4d1282%29%3B%0A%20%20%20%20%20%20%20%20%0A%0A%20%20%20%20%20%20%20%20circle_marker_bdf81d00dcf4434b95e08cd662667f0e.bindPopup%28popup_c9a1b32a2f6b4df3a6b7d24e7afade95%29%0A%20%20%20%20%20%20%20%20%3B%0A%0A%20%20%20%20%20%20%20%20%0A%20%20%20%20%0A%20%20%20%20%0A%20%20%20%20%20%20%20%20%20%20%20%20var%20circle_marker_863b43cd938a46dfb5f22a4989f22c2a%20%3D%20L.circleMarker%28%0A%20%20%20%20%20%20%20%20%20%20%20%20%20%20%20%20%5B37.76%2C%20-122.39%5D%2C%0A%20%20%20%20%20%20%20%20%20%20%20%20%20%20%20%20%7B%22bubblingMouseEvents%22%3A%20true%2C%20%22color%22%3A%20%22%23ffb360%22%2C%20%22dashArray%22%3A%20null%2C%20%22dashOffset%22%3A%20null%2C%20%22fill%22%3A%20true%2C%20%22fillColor%22%3A%20%22%23ffb360%22%2C%20%22fillOpacity%22%3A%200.7%2C%20%22fillRule%22%3A%20%22evenodd%22%2C%20%22lineCap%22%3A%20%22round%22%2C%20%22lineJoin%22%3A%20%22round%22%2C%20%22opacity%22%3A%201.0%2C%20%22radius%22%3A%205%2C%20%22stroke%22%3A%20true%2C%20%22weight%22%3A%203%7D%0A%20%20%20%20%20%20%20%20%20%20%20%20%29.addTo%28map_5894cd4b293545aa913d8a7c92e06648%29%3B%0A%20%20%20%20%20%20%20%20%0A%20%20%20%20%0A%20%20%20%20%20%20%20%20var%20popup_b5f97791890f4923acc406fe240e8296%20%3D%20L.popup%28%7B%22maxWidth%22%3A%20%22100%25%22%7D%29%3B%0A%0A%20%20%20%20%20%20%20%20%0A%20%20%20%20%20%20%20%20%20%20%20%20var%20html_490200133392427d8f594e308a07950f%20%3D%20%24%28%60%3Cdiv%20id%3D%22html_490200133392427d8f594e308a07950f%22%20style%3D%22width%3A%20100.0%25%3B%20height%3A%20100.0%25%3B%22%3EPotrero%20Hill%20Cluster%204%3C/div%3E%60%29%5B0%5D%3B%0A%20%20%20%20%20%20%20%20%20%20%20%20popup_b5f97791890f4923acc406fe240e8296.setContent%28html_490200133392427d8f594e308a07950f%29%3B%0A%20%20%20%20%20%20%20%20%0A%0A%20%20%20%20%20%20%20%20circle_marker_863b43cd938a46dfb5f22a4989f22c2a.bindPopup%28popup_b5f97791890f4923acc406fe240e8296%29%0A%20%20%20%20%20%20%20%20%3B%0A%0A%20%20%20%20%20%20%20%20%0A%20%20%20%20%0A%20%20%20%20%0A%20%20%20%20%20%20%20%20%20%20%20%20var%20circle_marker_a33591de7f8b4d24a054edc3008cb07c%20%3D%20L.circleMarker%28%0A%20%20%20%20%20%20%20%20%20%20%20%20%20%20%20%20%5B37.79%2C%20-122.41%5D%2C%0A%20%20%20%20%20%20%20%20%20%20%20%20%20%20%20%20%7B%22bubblingMouseEvents%22%3A%20true%2C%20%22color%22%3A%20%22%23ffb360%22%2C%20%22dashArray%22%3A%20null%2C%20%22dashOffset%22%3A%20null%2C%20%22fill%22%3A%20true%2C%20%22fillColor%22%3A%20%22%23ffb360%22%2C%20%22fillOpacity%22%3A%200.7%2C%20%22fillRule%22%3A%20%22evenodd%22%2C%20%22lineCap%22%3A%20%22round%22%2C%20%22lineJoin%22%3A%20%22round%22%2C%20%22opacity%22%3A%201.0%2C%20%22radius%22%3A%205%2C%20%22stroke%22%3A%20true%2C%20%22weight%22%3A%203%7D%0A%20%20%20%20%20%20%20%20%20%20%20%20%29.addTo%28map_5894cd4b293545aa913d8a7c92e06648%29%3B%0A%20%20%20%20%20%20%20%20%0A%20%20%20%20%0A%20%20%20%20%20%20%20%20var%20popup_d99e5bd02d5a440db970649cf4638fe1%20%3D%20L.popup%28%7B%22maxWidth%22%3A%20%22100%25%22%7D%29%3B%0A%0A%20%20%20%20%20%20%20%20%0A%20%20%20%20%20%20%20%20%20%20%20%20var%20html_514ad43c36f648898ee0bd4b638e6711%20%3D%20%24%28%60%3Cdiv%20id%3D%22html_514ad43c36f648898ee0bd4b638e6711%22%20style%3D%22width%3A%20100.0%25%3B%20height%3A%20100.0%25%3B%22%3EChinatown%20Cluster%204%3C/div%3E%60%29%5B0%5D%3B%0A%20%20%20%20%20%20%20%20%20%20%20%20popup_d99e5bd02d5a440db970649cf4638fe1.setContent%28html_514ad43c36f648898ee0bd4b638e6711%29%3B%0A%20%20%20%20%20%20%20%20%0A%0A%20%20%20%20%20%20%20%20circle_marker_a33591de7f8b4d24a054edc3008cb07c.bindPopup%28popup_d99e5bd02d5a440db970649cf4638fe1%29%0A%20%20%20%20%20%20%20%20%3B%0A%0A%20%20%20%20%20%20%20%20%0A%20%20%20%20%0A%20%20%20%20%0A%20%20%20%20%20%20%20%20%20%20%20%20var%20circle_marker_68f9e06905b143e9a6d41a6b5a1a8110%20%3D%20L.circleMarker%28%0A%20%20%20%20%20%20%20%20%20%20%20%20%20%20%20%20%5B37.79%2C%20-122.42%5D%2C%0A%20%20%20%20%20%20%20%20%20%20%20%20%20%20%20%20%7B%22bubblingMouseEvents%22%3A%20true%2C%20%22color%22%3A%20%22%23ffb360%22%2C%20%22dashArray%22%3A%20null%2C%20%22dashOffset%22%3A%20null%2C%20%22fill%22%3A%20true%2C%20%22fillColor%22%3A%20%22%23ffb360%22%2C%20%22fillOpacity%22%3A%200.7%2C%20%22fillRule%22%3A%20%22evenodd%22%2C%20%22lineCap%22%3A%20%22round%22%2C%20%22lineJoin%22%3A%20%22round%22%2C%20%22opacity%22%3A%201.0%2C%20%22radius%22%3A%205%2C%20%22stroke%22%3A%20true%2C%20%22weight%22%3A%203%7D%0A%20%20%20%20%20%20%20%20%20%20%20%20%29.addTo%28map_5894cd4b293545aa913d8a7c92e06648%29%3B%0A%20%20%20%20%20%20%20%20%0A%20%20%20%20%0A%20%20%20%20%20%20%20%20var%20popup_2b4aec24cf4244fe8141512a3548d814%20%3D%20L.popup%28%7B%22maxWidth%22%3A%20%22100%25%22%7D%29%3B%0A%0A%20%20%20%20%20%20%20%20%0A%20%20%20%20%20%20%20%20%20%20%20%20var%20html_c3b64b4c3de64c3f9dfee850913c6489%20%3D%20%24%28%60%3Cdiv%20id%3D%22html_c3b64b4c3de64c3f9dfee850913c6489%22%20style%3D%22width%3A%20100.0%25%3B%20height%3A%20100.0%25%3B%22%3EPolk/Russian%20Hill%20%28Nob%20Hill%29%20Cluster%204%3C/div%3E%60%29%5B0%5D%3B%0A%20%20%20%20%20%20%20%20%20%20%20%20popup_2b4aec24cf4244fe8141512a3548d814.setContent%28html_c3b64b4c3de64c3f9dfee850913c6489%29%3B%0A%20%20%20%20%20%20%20%20%0A%0A%20%20%20%20%20%20%20%20circle_marker_68f9e06905b143e9a6d41a6b5a1a8110.bindPopup%28popup_2b4aec24cf4244fe8141512a3548d814%29%0A%20%20%20%20%20%20%20%20%3B%0A%0A%20%20%20%20%20%20%20%20%0A%20%20%20%20%0A%20%20%20%20%0A%20%20%20%20%20%20%20%20%20%20%20%20var%20circle_marker_4cf1e1e85b6d4e27b26d81d89fe5295d%20%3D%20L.circleMarker%28%0A%20%20%20%20%20%20%20%20%20%20%20%20%20%20%20%20%5B37.74%2C%20-122.41%5D%2C%0A%20%20%20%20%20%20%20%20%20%20%20%20%20%20%20%20%7B%22bubblingMouseEvents%22%3A%20true%2C%20%22color%22%3A%20%22%23ffb360%22%2C%20%22dashArray%22%3A%20null%2C%20%22dashOffset%22%3A%20null%2C%20%22fill%22%3A%20true%2C%20%22fillColor%22%3A%20%22%23ffb360%22%2C%20%22fillOpacity%22%3A%200.7%2C%20%22fillRule%22%3A%20%22evenodd%22%2C%20%22lineCap%22%3A%20%22round%22%2C%20%22lineJoin%22%3A%20%22round%22%2C%20%22opacity%22%3A%201.0%2C%20%22radius%22%3A%205%2C%20%22stroke%22%3A%20true%2C%20%22weight%22%3A%203%7D%0A%20%20%20%20%20%20%20%20%20%20%20%20%29.addTo%28map_5894cd4b293545aa913d8a7c92e06648%29%3B%0A%20%20%20%20%20%20%20%20%0A%20%20%20%20%0A%20%20%20%20%20%20%20%20var%20popup_edf4b9c2a02547228256b89dfa7580fe%20%3D%20L.popup%28%7B%22maxWidth%22%3A%20%22100%25%22%7D%29%3B%0A%0A%20%20%20%20%20%20%20%20%0A%20%20%20%20%20%20%20%20%20%20%20%20var%20html_a4624cb7a0644f089b9b77c08f6b3cf0%20%3D%20%24%28%60%3Cdiv%20id%3D%22html_a4624cb7a0644f089b9b77c08f6b3cf0%22%20style%3D%22width%3A%20100.0%25%3B%20height%3A%20100.0%25%3B%22%3EInner%20Mission/Bernal%20Heights%20Cluster%204%3C/div%3E%60%29%5B0%5D%3B%0A%20%20%20%20%20%20%20%20%20%20%20%20popup_edf4b9c2a02547228256b89dfa7580fe.setContent%28html_a4624cb7a0644f089b9b77c08f6b3cf0%29%3B%0A%20%20%20%20%20%20%20%20%0A%0A%20%20%20%20%20%20%20%20circle_marker_4cf1e1e85b6d4e27b26d81d89fe5295d.bindPopup%28popup_edf4b9c2a02547228256b89dfa7580fe%29%0A%20%20%20%20%20%20%20%20%3B%0A%0A%20%20%20%20%20%20%20%20%0A%20%20%20%20%0A%20%20%20%20%0A%20%20%20%20%20%20%20%20%20%20%20%20var%20circle_marker_fd6264175da348b4b2a51a2e9cb9c103%20%3D%20L.circleMarker%28%0A%20%20%20%20%20%20%20%20%20%20%20%20%20%20%20%20%5B37.72%2C%20-122.44%5D%2C%0A%20%20%20%20%20%20%20%20%20%20%20%20%20%20%20%20%7B%22bubblingMouseEvents%22%3A%20true%2C%20%22color%22%3A%20%22%23ffb360%22%2C%20%22dashArray%22%3A%20null%2C%20%22dashOffset%22%3A%20null%2C%20%22fill%22%3A%20true%2C%20%22fillColor%22%3A%20%22%23ffb360%22%2C%20%22fillOpacity%22%3A%200.7%2C%20%22fillRule%22%3A%20%22evenodd%22%2C%20%22lineCap%22%3A%20%22round%22%2C%20%22lineJoin%22%3A%20%22round%22%2C%20%22opacity%22%3A%201.0%2C%20%22radius%22%3A%205%2C%20%22stroke%22%3A%20true%2C%20%22weight%22%3A%203%7D%0A%20%20%20%20%20%20%20%20%20%20%20%20%29.addTo%28map_5894cd4b293545aa913d8a7c92e06648%29%3B%0A%20%20%20%20%20%20%20%20%0A%20%20%20%20%0A%20%20%20%20%20%20%20%20var%20popup_d6806b27c65a47fb9dc24903633e62dd%20%3D%20L.popup%28%7B%22maxWidth%22%3A%20%22100%25%22%7D%29%3B%0A%0A%20%20%20%20%20%20%20%20%0A%20%20%20%20%20%20%20%20%20%20%20%20var%20html_0e725a3621824fcaaee505d8575cda46%20%3D%20%24%28%60%3Cdiv%20id%3D%22html_0e725a3621824fcaaee505d8575cda46%22%20style%3D%22width%3A%20100.0%25%3B%20height%3A%20100.0%25%3B%22%3EIngelside-Excelsior/Crocker-Amazon%20Cluster%204%3C/div%3E%60%29%5B0%5D%3B%0A%20%20%20%20%20%20%20%20%20%20%20%20popup_d6806b27c65a47fb9dc24903633e62dd.setContent%28html_0e725a3621824fcaaee505d8575cda46%29%3B%0A%20%20%20%20%20%20%20%20%0A%0A%20%20%20%20%20%20%20%20circle_marker_fd6264175da348b4b2a51a2e9cb9c103.bindPopup%28popup_d6806b27c65a47fb9dc24903633e62dd%29%0A%20%20%20%20%20%20%20%20%3B%0A%0A%20%20%20%20%20%20%20%20%0A%20%20%20%20%0A%20%20%20%20%0A%20%20%20%20%20%20%20%20%20%20%20%20var%20circle_marker_d8ad2383b9da4923a7fa16298cb8e8c6%20%3D%20L.circleMarker%28%0A%20%20%20%20%20%20%20%20%20%20%20%20%20%20%20%20%5B37.75%2C%20-122.43%5D%2C%0A%20%20%20%20%20%20%20%20%20%20%20%20%20%20%20%20%7B%22bubblingMouseEvents%22%3A%20true%2C%20%22color%22%3A%20%22%23ffb360%22%2C%20%22dashArray%22%3A%20null%2C%20%22dashOffset%22%3A%20null%2C%20%22fill%22%3A%20true%2C%20%22fillColor%22%3A%20%22%23ffb360%22%2C%20%22fillOpacity%22%3A%200.7%2C%20%22fillRule%22%3A%20%22evenodd%22%2C%20%22lineCap%22%3A%20%22round%22%2C%20%22lineJoin%22%3A%20%22round%22%2C%20%22opacity%22%3A%201.0%2C%20%22radius%22%3A%205%2C%20%22stroke%22%3A%20true%2C%20%22weight%22%3A%203%7D%0A%20%20%20%20%20%20%20%20%20%20%20%20%29.addTo%28map_5894cd4b293545aa913d8a7c92e06648%29%3B%0A%20%20%20%20%20%20%20%20%0A%20%20%20%20%0A%20%20%20%20%20%20%20%20var%20popup_17986ad05c114150b87448bf4ed57846%20%3D%20L.popup%28%7B%22maxWidth%22%3A%20%22100%25%22%7D%29%3B%0A%0A%20%20%20%20%20%20%20%20%0A%20%20%20%20%20%20%20%20%20%20%20%20var%20html_5f0738a41a994c8ca7ad0c8e929f4337%20%3D%20%24%28%60%3Cdiv%20id%3D%22html_5f0738a41a994c8ca7ad0c8e929f4337%22%20style%3D%22width%3A%20100.0%25%3B%20height%3A%20100.0%25%3B%22%3ECastro/Noe%20Valley%20Cluster%204%3C/div%3E%60%29%5B0%5D%3B%0A%20%20%20%20%20%20%20%20%20%20%20%20popup_17986ad05c114150b87448bf4ed57846.setContent%28html_5f0738a41a994c8ca7ad0c8e929f4337%29%3B%0A%20%20%20%20%20%20%20%20%0A%0A%20%20%20%20%20%20%20%20circle_marker_d8ad2383b9da4923a7fa16298cb8e8c6.bindPopup%28popup_17986ad05c114150b87448bf4ed57846%29%0A%20%20%20%20%20%20%20%20%3B%0A%0A%20%20%20%20%20%20%20%20%0A%20%20%20%20%0A%20%20%20%20%0A%20%20%20%20%20%20%20%20%20%20%20%20var%20circle_marker_e45ebb41a86d4bcda4697d873afe8c03%20%3D%20L.circleMarker%28%0A%20%20%20%20%20%20%20%20%20%20%20%20%20%20%20%20%5B37.78%2C%20-122.43%5D%2C%0A%20%20%20%20%20%20%20%20%20%20%20%20%20%20%20%20%7B%22bubblingMouseEvents%22%3A%20true%2C%20%22color%22%3A%20%22%23ffb360%22%2C%20%22dashArray%22%3A%20null%2C%20%22dashOffset%22%3A%20null%2C%20%22fill%22%3A%20true%2C%20%22fillColor%22%3A%20%22%23ffb360%22%2C%20%22fillOpacity%22%3A%200.7%2C%20%22fillRule%22%3A%20%22evenodd%22%2C%20%22lineCap%22%3A%20%22round%22%2C%20%22lineJoin%22%3A%20%22round%22%2C%20%22opacity%22%3A%201.0%2C%20%22radius%22%3A%205%2C%20%22stroke%22%3A%20true%2C%20%22weight%22%3A%203%7D%0A%20%20%20%20%20%20%20%20%20%20%20%20%29.addTo%28map_5894cd4b293545aa913d8a7c92e06648%29%3B%0A%20%20%20%20%20%20%20%20%0A%20%20%20%20%0A%20%20%20%20%20%20%20%20var%20popup_0ece0e2598b64277b18606201d239382%20%3D%20L.popup%28%7B%22maxWidth%22%3A%20%22100%25%22%7D%29%3B%0A%0A%20%20%20%20%20%20%20%20%0A%20%20%20%20%20%20%20%20%20%20%20%20var%20html_bb3d1804b13b4bf3a1b61abfa1a21f6d%20%3D%20%24%28%60%3Cdiv%20id%3D%22html_bb3d1804b13b4bf3a1b61abfa1a21f6d%22%20style%3D%22width%3A%20100.0%25%3B%20height%3A%20100.0%25%3B%22%3EWestern%20Addition/Japantown%20Cluster%204%3C/div%3E%60%29%5B0%5D%3B%0A%20%20%20%20%20%20%20%20%20%20%20%20popup_0ece0e2598b64277b18606201d239382.setContent%28html_bb3d1804b13b4bf3a1b61abfa1a21f6d%29%3B%0A%20%20%20%20%20%20%20%20%0A%0A%20%20%20%20%20%20%20%20circle_marker_e45ebb41a86d4bcda4697d873afe8c03.bindPopup%28popup_0ece0e2598b64277b18606201d239382%29%0A%20%20%20%20%20%20%20%20%3B%0A%0A%20%20%20%20%20%20%20%20%0A%20%20%20%20%0A%20%20%20%20%0A%20%20%20%20%20%20%20%20%20%20%20%20var%20circle_marker_287b26cac9604df38d56333a1bc2bd7b%20%3D%20L.circleMarker%28%0A%20%20%20%20%20%20%20%20%20%20%20%20%20%20%20%20%5B37.74%2C%20-122.48%5D%2C%0A%20%20%20%20%20%20%20%20%20%20%20%20%20%20%20%20%7B%22bubblingMouseEvents%22%3A%20true%2C%20%22color%22%3A%20%22%23ff0000%22%2C%20%22dashArray%22%3A%20null%2C%20%22dashOffset%22%3A%20null%2C%20%22fill%22%3A%20true%2C%20%22fillColor%22%3A%20%22%23ff0000%22%2C%20%22fillOpacity%22%3A%200.7%2C%20%22fillRule%22%3A%20%22evenodd%22%2C%20%22lineCap%22%3A%20%22round%22%2C%20%22lineJoin%22%3A%20%22round%22%2C%20%22opacity%22%3A%201.0%2C%20%22radius%22%3A%205%2C%20%22stroke%22%3A%20true%2C%20%22weight%22%3A%203%7D%0A%20%20%20%20%20%20%20%20%20%20%20%20%29.addTo%28map_5894cd4b293545aa913d8a7c92e06648%29%3B%0A%20%20%20%20%20%20%20%20%0A%20%20%20%20%0A%20%20%20%20%20%20%20%20var%20popup_b3d903d438454693a3016f65a4eea15a%20%3D%20L.popup%28%7B%22maxWidth%22%3A%20%22100%25%22%7D%29%3B%0A%0A%20%20%20%20%20%20%20%20%0A%20%20%20%20%20%20%20%20%20%20%20%20var%20html_284b2ff1027e4d83aea9e7eff0c9a9e3%20%3D%20%24%28%60%3Cdiv%20id%3D%22html_284b2ff1027e4d83aea9e7eff0c9a9e3%22%20style%3D%22width%3A%20100.0%25%3B%20height%3A%20100.0%25%3B%22%3EParkside/Forest%20Hill%20Cluster%200%3C/div%3E%60%29%5B0%5D%3B%0A%20%20%20%20%20%20%20%20%20%20%20%20popup_b3d903d438454693a3016f65a4eea15a.setContent%28html_284b2ff1027e4d83aea9e7eff0c9a9e3%29%3B%0A%20%20%20%20%20%20%20%20%0A%0A%20%20%20%20%20%20%20%20circle_marker_287b26cac9604df38d56333a1bc2bd7b.bindPopup%28popup_b3d903d438454693a3016f65a4eea15a%29%0A%20%20%20%20%20%20%20%20%3B%0A%0A%20%20%20%20%20%20%20%20%0A%20%20%20%20%0A%20%20%20%20%0A%20%20%20%20%20%20%20%20%20%20%20%20var%20circle_marker_1993bbd147024bf4b0620140811ea79c%20%3D%20L.circleMarker%28%0A%20%20%20%20%20%20%20%20%20%20%20%20%20%20%20%20%5B37.77%2C%20-122.45%5D%2C%0A%20%20%20%20%20%20%20%20%20%20%20%20%20%20%20%20%7B%22bubblingMouseEvents%22%3A%20true%2C%20%22color%22%3A%20%22%23ffb360%22%2C%20%22dashArray%22%3A%20null%2C%20%22dashOffset%22%3A%20null%2C%20%22fill%22%3A%20true%2C%20%22fillColor%22%3A%20%22%23ffb360%22%2C%20%22fillOpacity%22%3A%200.7%2C%20%22fillRule%22%3A%20%22evenodd%22%2C%20%22lineCap%22%3A%20%22round%22%2C%20%22lineJoin%22%3A%20%22round%22%2C%20%22opacity%22%3A%201.0%2C%20%22radius%22%3A%205%2C%20%22stroke%22%3A%20true%2C%20%22weight%22%3A%203%7D%0A%20%20%20%20%20%20%20%20%20%20%20%20%29.addTo%28map_5894cd4b293545aa913d8a7c92e06648%29%3B%0A%20%20%20%20%20%20%20%20%0A%20%20%20%20%0A%20%20%20%20%20%20%20%20var%20popup_bfea6db8e44a4dcd84f2a40dc02abe35%20%3D%20L.popup%28%7B%22maxWidth%22%3A%20%22100%25%22%7D%29%3B%0A%0A%20%20%20%20%20%20%20%20%0A%20%20%20%20%20%20%20%20%20%20%20%20var%20html_4f406c60f2ad485a80cb16c645649a9a%20%3D%20%24%28%60%3Cdiv%20id%3D%22html_4f406c60f2ad485a80cb16c645649a9a%22%20style%3D%22width%3A%20100.0%25%3B%20height%3A%20100.0%25%3B%22%3EHaight-Ashbury%20Cluster%204%3C/div%3E%60%29%5B0%5D%3B%0A%20%20%20%20%20%20%20%20%20%20%20%20popup_bfea6db8e44a4dcd84f2a40dc02abe35.setContent%28html_4f406c60f2ad485a80cb16c645649a9a%29%3B%0A%20%20%20%20%20%20%20%20%0A%0A%20%20%20%20%20%20%20%20circle_marker_1993bbd147024bf4b0620140811ea79c.bindPopup%28popup_bfea6db8e44a4dcd84f2a40dc02abe35%29%0A%20%20%20%20%20%20%20%20%3B%0A%0A%20%20%20%20%20%20%20%20%0A%20%20%20%20%0A%20%20%20%20%0A%20%20%20%20%20%20%20%20%20%20%20%20var%20circle_marker_f32429ffc82f41a88785e84220199e1a%20%3D%20L.circleMarker%28%0A%20%20%20%20%20%20%20%20%20%20%20%20%20%20%20%20%5B37.78%2C%20-122.46%5D%2C%0A%20%20%20%20%20%20%20%20%20%20%20%20%20%20%20%20%7B%22bubblingMouseEvents%22%3A%20true%2C%20%22color%22%3A%20%22%23ffb360%22%2C%20%22dashArray%22%3A%20null%2C%20%22dashOffset%22%3A%20null%2C%20%22fill%22%3A%20true%2C%20%22fillColor%22%3A%20%22%23ffb360%22%2C%20%22fillOpacity%22%3A%200.7%2C%20%22fillRule%22%3A%20%22evenodd%22%2C%20%22lineCap%22%3A%20%22round%22%2C%20%22lineJoin%22%3A%20%22round%22%2C%20%22opacity%22%3A%201.0%2C%20%22radius%22%3A%205%2C%20%22stroke%22%3A%20true%2C%20%22weight%22%3A%203%7D%0A%20%20%20%20%20%20%20%20%20%20%20%20%29.addTo%28map_5894cd4b293545aa913d8a7c92e06648%29%3B%0A%20%20%20%20%20%20%20%20%0A%20%20%20%20%0A%20%20%20%20%20%20%20%20var%20popup_c3db5a71b03f439987488a85a135131a%20%3D%20L.popup%28%7B%22maxWidth%22%3A%20%22100%25%22%7D%29%3B%0A%0A%20%20%20%20%20%20%20%20%0A%20%20%20%20%20%20%20%20%20%20%20%20var%20html_ca2470cd94de4cdb8b4fb9da3d6f85e9%20%3D%20%24%28%60%3Cdiv%20id%3D%22html_ca2470cd94de4cdb8b4fb9da3d6f85e9%22%20style%3D%22width%3A%20100.0%25%3B%20height%3A%20100.0%25%3B%22%3EInner%20Richmond%20Cluster%204%3C/div%3E%60%29%5B0%5D%3B%0A%20%20%20%20%20%20%20%20%20%20%20%20popup_c3db5a71b03f439987488a85a135131a.setContent%28html_ca2470cd94de4cdb8b4fb9da3d6f85e9%29%3B%0A%20%20%20%20%20%20%20%20%0A%0A%20%20%20%20%20%20%20%20circle_marker_f32429ffc82f41a88785e84220199e1a.bindPopup%28popup_c3db5a71b03f439987488a85a135131a%29%0A%20%20%20%20%20%20%20%20%3B%0A%0A%20%20%20%20%20%20%20%20%0A%20%20%20%20%0A%20%20%20%20%0A%20%20%20%20%20%20%20%20%20%20%20%20var%20circle_marker_6a84b75263c748fe92a57eb974d8d521%20%3D%20L.circleMarker%28%0A%20%20%20%20%20%20%20%20%20%20%20%20%20%20%20%20%5B37.77%2C%20-122.49%5D%2C%0A%20%20%20%20%20%20%20%20%20%20%20%20%20%20%20%20%7B%22bubblingMouseEvents%22%3A%20true%2C%20%22color%22%3A%20%22%2300b5eb%22%2C%20%22dashArray%22%3A%20null%2C%20%22dashOffset%22%3A%20null%2C%20%22fill%22%3A%20true%2C%20%22fillColor%22%3A%20%22%2300b5eb%22%2C%20%22fillOpacity%22%3A%200.7%2C%20%22fillRule%22%3A%20%22evenodd%22%2C%20%22lineCap%22%3A%20%22round%22%2C%20%22lineJoin%22%3A%20%22round%22%2C%20%22opacity%22%3A%201.0%2C%20%22radius%22%3A%205%2C%20%22stroke%22%3A%20true%2C%20%22weight%22%3A%203%7D%0A%20%20%20%20%20%20%20%20%20%20%20%20%29.addTo%28map_5894cd4b293545aa913d8a7c92e06648%29%3B%0A%20%20%20%20%20%20%20%20%0A%20%20%20%20%0A%20%20%20%20%20%20%20%20var%20popup_394bdc61cd244ae0b7401cb742dec89c%20%3D%20L.popup%28%7B%22maxWidth%22%3A%20%22100%25%22%7D%29%3B%0A%0A%20%20%20%20%20%20%20%20%0A%20%20%20%20%20%20%20%20%20%20%20%20var%20html_8d2c317662804f708a286fc3f73b8748%20%3D%20%24%28%60%3Cdiv%20id%3D%22html_8d2c317662804f708a286fc3f73b8748%22%20style%3D%22width%3A%20100.0%25%3B%20height%3A%20100.0%25%3B%22%3EOuter%20Richmond%20Cluster%202%3C/div%3E%60%29%5B0%5D%3B%0A%20%20%20%20%20%20%20%20%20%20%20%20popup_394bdc61cd244ae0b7401cb742dec89c.setContent%28html_8d2c317662804f708a286fc3f73b8748%29%3B%0A%20%20%20%20%20%20%20%20%0A%0A%20%20%20%20%20%20%20%20circle_marker_6a84b75263c748fe92a57eb974d8d521.bindPopup%28popup_394bdc61cd244ae0b7401cb742dec89c%29%0A%20%20%20%20%20%20%20%20%3B%0A%0A%20%20%20%20%20%20%20%20%0A%20%20%20%20%0A%20%20%20%20%0A%20%20%20%20%20%20%20%20%20%20%20%20var%20circle_marker_b2c72efd8f28409f87d39c95604a28bb%20%3D%20L.circleMarker%28%0A%20%20%20%20%20%20%20%20%20%20%20%20%20%20%20%20%5B37.76%2C%20-122.48%5D%2C%0A%20%20%20%20%20%20%20%20%20%20%20%20%20%20%20%20%7B%22bubblingMouseEvents%22%3A%20true%2C%20%22color%22%3A%20%22%23ff0000%22%2C%20%22dashArray%22%3A%20null%2C%20%22dashOffset%22%3A%20null%2C%20%22fill%22%3A%20true%2C%20%22fillColor%22%3A%20%22%23ff0000%22%2C%20%22fillOpacity%22%3A%200.7%2C%20%22fillRule%22%3A%20%22evenodd%22%2C%20%22lineCap%22%3A%20%22round%22%2C%20%22lineJoin%22%3A%20%22round%22%2C%20%22opacity%22%3A%201.0%2C%20%22radius%22%3A%205%2C%20%22stroke%22%3A%20true%2C%20%22weight%22%3A%203%7D%0A%20%20%20%20%20%20%20%20%20%20%20%20%29.addTo%28map_5894cd4b293545aa913d8a7c92e06648%29%3B%0A%20%20%20%20%20%20%20%20%0A%20%20%20%20%0A%20%20%20%20%20%20%20%20var%20popup_06bfb0d5c1d34b8bba55c19e3aace2d8%20%3D%20L.popup%28%7B%22maxWidth%22%3A%20%22100%25%22%7D%29%3B%0A%0A%20%20%20%20%20%20%20%20%0A%20%20%20%20%20%20%20%20%20%20%20%20var%20html_9057f17a762645cfb43f1b45d24294c3%20%3D%20%24%28%60%3Cdiv%20id%3D%22html_9057f17a762645cfb43f1b45d24294c3%22%20style%3D%22width%3A%20100.0%25%3B%20height%3A%20100.0%25%3B%22%3ESunset%20Cluster%200%3C/div%3E%60%29%5B0%5D%3B%0A%20%20%20%20%20%20%20%20%20%20%20%20popup_06bfb0d5c1d34b8bba55c19e3aace2d8.setContent%28html_9057f17a762645cfb43f1b45d24294c3%29%3B%0A%20%20%20%20%20%20%20%20%0A%0A%20%20%20%20%20%20%20%20circle_marker_b2c72efd8f28409f87d39c95604a28bb.bindPopup%28popup_06bfb0d5c1d34b8bba55c19e3aace2d8%29%0A%20%20%20%20%20%20%20%20%3B%0A%0A%20%20%20%20%20%20%20%20%0A%20%20%20%20%0A%20%20%20%20%0A%20%20%20%20%20%20%20%20%20%20%20%20var%20circle_marker_56717a1598194c8cbe754ecb5e67545d%20%3D%20L.circleMarker%28%0A%20%20%20%20%20%20%20%20%20%20%20%20%20%20%20%20%5B37.8%2C%20-122.43%5D%2C%0A%20%20%20%20%20%20%20%20%20%20%20%20%20%20%20%20%7B%22bubblingMouseEvents%22%3A%20true%2C%20%22color%22%3A%20%22%23ffb360%22%2C%20%22dashArray%22%3A%20null%2C%20%22dashOffset%22%3A%20null%2C%20%22fill%22%3A%20true%2C%20%22fillColor%22%3A%20%22%23ffb360%22%2C%20%22fillOpacity%22%3A%200.7%2C%20%22fillRule%22%3A%20%22evenodd%22%2C%20%22lineCap%22%3A%20%22round%22%2C%20%22lineJoin%22%3A%20%22round%22%2C%20%22opacity%22%3A%201.0%2C%20%22radius%22%3A%205%2C%20%22stroke%22%3A%20true%2C%20%22weight%22%3A%203%7D%0A%20%20%20%20%20%20%20%20%20%20%20%20%29.addTo%28map_5894cd4b293545aa913d8a7c92e06648%29%3B%0A%20%20%20%20%20%20%20%20%0A%20%20%20%20%0A%20%20%20%20%20%20%20%20var%20popup_704e322a4fac431ea72b673156640180%20%3D%20L.popup%28%7B%22maxWidth%22%3A%20%22100%25%22%7D%29%3B%0A%0A%20%20%20%20%20%20%20%20%0A%20%20%20%20%20%20%20%20%20%20%20%20var%20html_bd7bc1ca3f544f9d979a2dce97295255%20%3D%20%24%28%60%3Cdiv%20id%3D%22html_bd7bc1ca3f544f9d979a2dce97295255%22%20style%3D%22width%3A%20100.0%25%3B%20height%3A%20100.0%25%3B%22%3EMarina%20Cluster%204%3C/div%3E%60%29%5B0%5D%3B%0A%20%20%20%20%20%20%20%20%20%20%20%20popup_704e322a4fac431ea72b673156640180.setContent%28html_bd7bc1ca3f544f9d979a2dce97295255%29%3B%0A%20%20%20%20%20%20%20%20%0A%0A%20%20%20%20%20%20%20%20circle_marker_56717a1598194c8cbe754ecb5e67545d.bindPopup%28popup_704e322a4fac431ea72b673156640180%29%0A%20%20%20%20%20%20%20%20%3B%0A%0A%20%20%20%20%20%20%20%20%0A%20%20%20%20%0A%20%20%20%20%0A%20%20%20%20%20%20%20%20%20%20%20%20var%20circle_marker_feef01aeb83649c7a67324cd1895c2c9%20%3D%20L.circleMarker%28%0A%20%20%20%20%20%20%20%20%20%20%20%20%20%20%20%20%5B37.73%2C%20-122.38%5D%2C%0A%20%20%20%20%20%20%20%20%20%20%20%20%20%20%20%20%7B%22bubblingMouseEvents%22%3A%20true%2C%20%22color%22%3A%20%22%2380ffb4%22%2C%20%22dashArray%22%3A%20null%2C%20%22dashOffset%22%3A%20null%2C%20%22fill%22%3A%20true%2C%20%22fillColor%22%3A%20%22%2380ffb4%22%2C%20%22fillOpacity%22%3A%200.7%2C%20%22fillRule%22%3A%20%22evenodd%22%2C%20%22lineCap%22%3A%20%22round%22%2C%20%22lineJoin%22%3A%20%22round%22%2C%20%22opacity%22%3A%201.0%2C%20%22radius%22%3A%205%2C%20%22stroke%22%3A%20true%2C%20%22weight%22%3A%203%7D%0A%20%20%20%20%20%20%20%20%20%20%20%20%29.addTo%28map_5894cd4b293545aa913d8a7c92e06648%29%3B%0A%20%20%20%20%20%20%20%20%0A%20%20%20%20%0A%20%20%20%20%20%20%20%20var%20popup_1300d71857e54a0fb6f9823c176c9c05%20%3D%20L.popup%28%7B%22maxWidth%22%3A%20%22100%25%22%7D%29%3B%0A%0A%20%20%20%20%20%20%20%20%0A%20%20%20%20%20%20%20%20%20%20%20%20var%20html_e21987ca467544bea8b9c9d2ea328b2a%20%3D%20%24%28%60%3Cdiv%20id%3D%22html_e21987ca467544bea8b9c9d2ea328b2a%22%20style%3D%22width%3A%20100.0%25%3B%20height%3A%20100.0%25%3B%22%3EBayview-Hunters%20Point%20Cluster%203%3C/div%3E%60%29%5B0%5D%3B%0A%20%20%20%20%20%20%20%20%20%20%20%20popup_1300d71857e54a0fb6f9823c176c9c05.setContent%28html_e21987ca467544bea8b9c9d2ea328b2a%29%3B%0A%20%20%20%20%20%20%20%20%0A%0A%20%20%20%20%20%20%20%20circle_marker_feef01aeb83649c7a67324cd1895c2c9.bindPopup%28popup_1300d71857e54a0fb6f9823c176c9c05%29%0A%20%20%20%20%20%20%20%20%3B%0A%0A%20%20%20%20%20%20%20%20%0A%20%20%20%20%0A%20%20%20%20%0A%20%20%20%20%20%20%20%20%20%20%20%20var%20circle_marker_968dff8109b24292881029dd1a8e39e1%20%3D%20L.circleMarker%28%0A%20%20%20%20%20%20%20%20%20%20%20%20%20%20%20%20%5B37.74%2C%20-122.46%5D%2C%0A%20%20%20%20%20%20%20%20%20%20%20%20%20%20%20%20%7B%22bubblingMouseEvents%22%3A%20true%2C%20%22color%22%3A%20%22%23ffb360%22%2C%20%22dashArray%22%3A%20null%2C%20%22dashOffset%22%3A%20null%2C%20%22fill%22%3A%20true%2C%20%22fillColor%22%3A%20%22%23ffb360%22%2C%20%22fillOpacity%22%3A%200.7%2C%20%22fillRule%22%3A%20%22evenodd%22%2C%20%22lineCap%22%3A%20%22round%22%2C%20%22lineJoin%22%3A%20%22round%22%2C%20%22opacity%22%3A%201.0%2C%20%22radius%22%3A%205%2C%20%22stroke%22%3A%20true%2C%20%22weight%22%3A%203%7D%0A%20%20%20%20%20%20%20%20%20%20%20%20%29.addTo%28map_5894cd4b293545aa913d8a7c92e06648%29%3B%0A%20%20%20%20%20%20%20%20%0A%20%20%20%20%0A%20%20%20%20%20%20%20%20var%20popup_5c8ae2ae271c4e4fbaffbff619644ee5%20%3D%20L.popup%28%7B%22maxWidth%22%3A%20%22100%25%22%7D%29%3B%0A%0A%20%20%20%20%20%20%20%20%0A%20%20%20%20%20%20%20%20%20%20%20%20var%20html_3004f9a03b9c43f291dacfed4527a17b%20%3D%20%24%28%60%3Cdiv%20id%3D%22html_3004f9a03b9c43f291dacfed4527a17b%22%20style%3D%22width%3A%20100.0%25%3B%20height%3A%20100.0%25%3B%22%3ESt.%20Francis%20Wood/Miraloma/West%20Portal%20Cluster%204%3C/div%3E%60%29%5B0%5D%3B%0A%20%20%20%20%20%20%20%20%20%20%20%20popup_5c8ae2ae271c4e4fbaffbff619644ee5.setContent%28html_3004f9a03b9c43f291dacfed4527a17b%29%3B%0A%20%20%20%20%20%20%20%20%0A%0A%20%20%20%20%20%20%20%20circle_marker_968dff8109b24292881029dd1a8e39e1.bindPopup%28popup_5c8ae2ae271c4e4fbaffbff619644ee5%29%0A%20%20%20%20%20%20%20%20%3B%0A%0A%20%20%20%20%20%20%20%20%0A%20%20%20%20%0A%20%20%20%20%0A%20%20%20%20%20%20%20%20%20%20%20%20var%20circle_marker_bfd083f065da417fbdc661a942b32edd%20%3D%20L.circleMarker%28%0A%20%20%20%20%20%20%20%20%20%20%20%20%20%20%20%20%5B37.74%2C%20-122.44%5D%2C%0A%20%20%20%20%20%20%20%20%20%20%20%20%20%20%20%20%7B%22bubblingMouseEvents%22%3A%20true%2C%20%22color%22%3A%20%22%23ff0000%22%2C%20%22dashArray%22%3A%20null%2C%20%22dashOffset%22%3A%20null%2C%20%22fill%22%3A%20true%2C%20%22fillColor%22%3A%20%22%23ff0000%22%2C%20%22fillOpacity%22%3A%200.7%2C%20%22fillRule%22%3A%20%22evenodd%22%2C%20%22lineCap%22%3A%20%22round%22%2C%20%22lineJoin%22%3A%20%22round%22%2C%20%22opacity%22%3A%201.0%2C%20%22radius%22%3A%205%2C%20%22stroke%22%3A%20true%2C%20%22weight%22%3A%203%7D%0A%20%20%20%20%20%20%20%20%20%20%20%20%29.addTo%28map_5894cd4b293545aa913d8a7c92e06648%29%3B%0A%20%20%20%20%20%20%20%20%0A%20%20%20%20%0A%20%20%20%20%20%20%20%20var%20popup_22e9f115e8444b16ab6ec5b7db7c89ba%20%3D%20L.popup%28%7B%22maxWidth%22%3A%20%22100%25%22%7D%29%3B%0A%0A%20%20%20%20%20%20%20%20%0A%20%20%20%20%20%20%20%20%20%20%20%20var%20html_60f89adca92d4b5c98b36100b86a85f6%20%3D%20%24%28%60%3Cdiv%20id%3D%22html_60f89adca92d4b5c98b36100b86a85f6%22%20style%3D%22width%3A%20100.0%25%3B%20height%3A%20100.0%25%3B%22%3ETwin%20Peaks-Glen%20Park%20Cluster%200%3C/div%3E%60%29%5B0%5D%3B%0A%20%20%20%20%20%20%20%20%20%20%20%20popup_22e9f115e8444b16ab6ec5b7db7c89ba.setContent%28html_60f89adca92d4b5c98b36100b86a85f6%29%3B%0A%20%20%20%20%20%20%20%20%0A%0A%20%20%20%20%20%20%20%20circle_marker_bfd083f065da417fbdc661a942b32edd.bindPopup%28popup_22e9f115e8444b16ab6ec5b7db7c89ba%29%0A%20%20%20%20%20%20%20%20%3B%0A%0A%20%20%20%20%20%20%20%20%0A%20%20%20%20%0A%20%20%20%20%0A%20%20%20%20%20%20%20%20%20%20%20%20var%20circle_marker_fd64ddfe9ce1428aace4ab35fa59d822%20%3D%20L.circleMarker%28%0A%20%20%20%20%20%20%20%20%20%20%20%20%20%20%20%20%5B37.72%2C%20-122.48%5D%2C%0A%20%20%20%20%20%20%20%20%20%20%20%20%20%20%20%20%7B%22bubblingMouseEvents%22%3A%20true%2C%20%22color%22%3A%20%22%23ffb360%22%2C%20%22dashArray%22%3A%20null%2C%20%22dashOffset%22%3A%20null%2C%20%22fill%22%3A%20true%2C%20%22fillColor%22%3A%20%22%23ffb360%22%2C%20%22fillOpacity%22%3A%200.7%2C%20%22fillRule%22%3A%20%22evenodd%22%2C%20%22lineCap%22%3A%20%22round%22%2C%20%22lineJoin%22%3A%20%22round%22%2C%20%22opacity%22%3A%201.0%2C%20%22radius%22%3A%205%2C%20%22stroke%22%3A%20true%2C%20%22weight%22%3A%203%7D%0A%20%20%20%20%20%20%20%20%20%20%20%20%29.addTo%28map_5894cd4b293545aa913d8a7c92e06648%29%3B%0A%20%20%20%20%20%20%20%20%0A%20%20%20%20%0A%20%20%20%20%20%20%20%20var%20popup_f3e0133f2df145a8b989565c830e4c5b%20%3D%20L.popup%28%7B%22maxWidth%22%3A%20%22100%25%22%7D%29%3B%0A%0A%20%20%20%20%20%20%20%20%0A%20%20%20%20%20%20%20%20%20%20%20%20var%20html_cc7eaab73c6347aab063e9222bdca3b0%20%3D%20%24%28%60%3Cdiv%20id%3D%22html_cc7eaab73c6347aab063e9222bdca3b0%22%20style%3D%22width%3A%20100.0%25%3B%20height%3A%20100.0%25%3B%22%3ELake%20Merced%20Cluster%204%3C/div%3E%60%29%5B0%5D%3B%0A%20%20%20%20%20%20%20%20%20%20%20%20popup_f3e0133f2df145a8b989565c830e4c5b.setContent%28html_cc7eaab73c6347aab063e9222bdca3b0%29%3B%0A%20%20%20%20%20%20%20%20%0A%0A%20%20%20%20%20%20%20%20circle_marker_fd64ddfe9ce1428aace4ab35fa59d822.bindPopup%28popup_f3e0133f2df145a8b989565c830e4c5b%29%0A%20%20%20%20%20%20%20%20%3B%0A%0A%20%20%20%20%20%20%20%20%0A%20%20%20%20%0A%20%20%20%20%0A%20%20%20%20%20%20%20%20%20%20%20%20var%20circle_marker_095d2fc6c75c4dd19b187ecd17eae5c6%20%3D%20L.circleMarker%28%0A%20%20%20%20%20%20%20%20%20%20%20%20%20%20%20%20%5B37.8%2C%20-122.41%5D%2C%0A%20%20%20%20%20%20%20%20%20%20%20%20%20%20%20%20%7B%22bubblingMouseEvents%22%3A%20true%2C%20%22color%22%3A%20%22%23ffb360%22%2C%20%22dashArray%22%3A%20null%2C%20%22dashOffset%22%3A%20null%2C%20%22fill%22%3A%20true%2C%20%22fillColor%22%3A%20%22%23ffb360%22%2C%20%22fillOpacity%22%3A%200.7%2C%20%22fillRule%22%3A%20%22evenodd%22%2C%20%22lineCap%22%3A%20%22round%22%2C%20%22lineJoin%22%3A%20%22round%22%2C%20%22opacity%22%3A%201.0%2C%20%22radius%22%3A%205%2C%20%22stroke%22%3A%20true%2C%20%22weight%22%3A%203%7D%0A%20%20%20%20%20%20%20%20%20%20%20%20%29.addTo%28map_5894cd4b293545aa913d8a7c92e06648%29%3B%0A%20%20%20%20%20%20%20%20%0A%20%20%20%20%0A%20%20%20%20%20%20%20%20var%20popup_9a11f8ef83a4429190a9e5af4eed2045%20%3D%20L.popup%28%7B%22maxWidth%22%3A%20%22100%25%22%7D%29%3B%0A%0A%20%20%20%20%20%20%20%20%0A%20%20%20%20%20%20%20%20%20%20%20%20var%20html_f1ae1e87362c43df93086dc0edaa1ef2%20%3D%20%24%28%60%3Cdiv%20id%3D%22html_f1ae1e87362c43df93086dc0edaa1ef2%22%20style%3D%22width%3A%20100.0%25%3B%20height%3A%20100.0%25%3B%22%3ENorth%20Beach/Chinatown%20Cluster%204%3C/div%3E%60%29%5B0%5D%3B%0A%20%20%20%20%20%20%20%20%20%20%20%20popup_9a11f8ef83a4429190a9e5af4eed2045.setContent%28html_f1ae1e87362c43df93086dc0edaa1ef2%29%3B%0A%20%20%20%20%20%20%20%20%0A%0A%20%20%20%20%20%20%20%20circle_marker_095d2fc6c75c4dd19b187ecd17eae5c6.bindPopup%28popup_9a11f8ef83a4429190a9e5af4eed2045%29%0A%20%20%20%20%20%20%20%20%3B%0A%0A%20%20%20%20%20%20%20%20%0A%20%20%20%20%0A%20%20%20%20%0A%20%20%20%20%20%20%20%20%20%20%20%20var%20circle_marker_3f0ce17bf9cb457e8030ebc41957a321%20%3D%20L.circleMarker%28%0A%20%20%20%20%20%20%20%20%20%20%20%20%20%20%20%20%5B37.72%2C%20-122.41%5D%2C%0A%20%20%20%20%20%20%20%20%20%20%20%20%20%20%20%20%7B%22bubblingMouseEvents%22%3A%20true%2C%20%22color%22%3A%20%22%238000ff%22%2C%20%22dashArray%22%3A%20null%2C%20%22dashOffset%22%3A%20null%2C%20%22fill%22%3A%20true%2C%20%22fillColor%22%3A%20%22%238000ff%22%2C%20%22fillOpacity%22%3A%200.7%2C%20%22fillRule%22%3A%20%22evenodd%22%2C%20%22lineCap%22%3A%20%22round%22%2C%20%22lineJoin%22%3A%20%22round%22%2C%20%22opacity%22%3A%201.0%2C%20%22radius%22%3A%205%2C%20%22stroke%22%3A%20true%2C%20%22weight%22%3A%203%7D%0A%20%20%20%20%20%20%20%20%20%20%20%20%29.addTo%28map_5894cd4b293545aa913d8a7c92e06648%29%3B%0A%20%20%20%20%20%20%20%20%0A%20%20%20%20%0A%20%20%20%20%20%20%20%20var%20popup_ea67de9e7e30434ea95a8c6b550e30ef%20%3D%20L.popup%28%7B%22maxWidth%22%3A%20%22100%25%22%7D%29%3B%0A%0A%20%20%20%20%20%20%20%20%0A%20%20%20%20%20%20%20%20%20%20%20%20var%20html_fcc1506d02b147fc8f76868da9a9c805%20%3D%20%24%28%60%3Cdiv%20id%3D%22html_fcc1506d02b147fc8f76868da9a9c805%22%20style%3D%22width%3A%20100.0%25%3B%20height%3A%20100.0%25%3B%22%3EVisitacion%20Valley/Sunnydale%20Cluster%201%3C/div%3E%60%29%5B0%5D%3B%0A%20%20%20%20%20%20%20%20%20%20%20%20popup_ea67de9e7e30434ea95a8c6b550e30ef.setContent%28html_fcc1506d02b147fc8f76868da9a9c805%29%3B%0A%20%20%20%20%20%20%20%20%0A%0A%20%20%20%20%20%20%20%20circle_marker_3f0ce17bf9cb457e8030ebc41957a321.bindPopup%28popup_ea67de9e7e30434ea95a8c6b550e30ef%29%0A%20%20%20%20%20%20%20%20%3B%0A%0A%20%20%20%20%20%20%20%20%0A%20%20%20%20%0A%3C/script%3E onload=\"this.contentDocument.open();this.contentDocument.write(    decodeURIComponent(this.getAttribute('data-html')));this.contentDocument.close();\" allowfullscreen webkitallowfullscreen mozallowfullscreen></iframe></div></div>"
     },
     "execution_count": 52,
     "metadata": {},
     "output_type": "execute_result"
    }
   ],
   "source": [
    "# Cria o mapa de SF com cluster\n",
    "map_clusters = folium.Map(location = [latitude, longitude], zoom_start = 11)\n",
    "\n",
    "# definir as cores para os clusters\n",
    "x = np.arange(kclusters)\n",
    "ys = [i + x + (i * x) ** 2 for i in range(kclusters)]\n",
    "colors_array = cm.rainbow(np.linspace(0, 1, len(ys)))\n",
    "rainbow = [colors.rgb2hex(i) for i in colors_array]\n",
    "\n",
    "# Add ao clurtes no mapa\n",
    "markers_colors = []\n",
    "for lat, lon, poi, cluster in zip(df_sf_merged['Latitude'], df_sf_merged['Longitude'], df_sf_merged['Neighborhood'], df_sf_merged['Cluster Labels']):\n",
    "    label = folium.Popup(str(poi) + ' Cluster ' + str(cluster), parse_html=True)\n",
    "    folium.CircleMarker(\n",
    "        [lat, lon],\n",
    "        radius = 5,\n",
    "        popup = label,\n",
    "        color = rainbow[cluster - 1],\n",
    "        fill = True,\n",
    "        fill_color = rainbow[cluster - 1],\n",
    "        fill_opacity = 0.7).add_to(map_clusters)\n",
    "\n",
    "map_clusters"
   ],
   "metadata": {
    "collapsed": false,
    "pycharm": {
     "name": "#%%\n"
    }
   }
  },
  {
   "cell_type": "code",
   "execution_count": 53,
   "outputs": [],
   "source": [
    "map_clusters.save('SF_cluster.html')"
   ],
   "metadata": {
    "collapsed": false,
    "pycharm": {
     "name": "#%%\n"
    }
   }
  },
  {
   "cell_type": "code",
   "execution_count": 54,
   "outputs": [],
   "source": [
    "df_sf_new.to_csv('SF.csv')"
   ],
   "metadata": {
    "collapsed": false,
    "pycharm": {
     "name": "#%%\n"
    }
   }
  },
  {
   "cell_type": "code",
   "execution_count": 55,
   "outputs": [],
   "source": [
    "df_total_new_sf=pd.read_csv('SF.csv')"
   ],
   "metadata": {
    "collapsed": false,
    "pycharm": {
     "name": "#%%\n"
    }
   }
  },
  {
   "cell_type": "markdown",
   "source": [
    "#### Examine Clusters"
   ],
   "metadata": {
    "collapsed": false
   }
  },
  {
   "cell_type": "code",
   "execution_count": 56,
   "outputs": [
    {
     "data": {
      "text/plain": "            Neighborhood 1st Most Common Venue 2nd Most Common Venue  \\\n10  Parkside/Forest Hill    Chinese Restaurant      Asian Restaurant   \n14                Sunset      Asian Restaurant                Bakery   \n18  Twin Peaks-Glen Park    Chinese Restaurant                Bakery   \n\n   3rd Most Common Venue 4th Most Common Venue 5th Most Common Venue  \\\n10                  Café                  Deli       Bubble Tea Shop   \n14       Bubble Tea Shop                  Deli            Restaurant   \n18          Burger Joint            Restaurant           Coffee Shop   \n\n   6th Most Common Venue 7th Most Common Venue 8th Most Common Venue  \\\n10   American Restaurant              Pizzeria            Restaurant   \n14           Coffee Shop   Szechuan Restaurant          Cocktail Bar   \n18  Cantonese Restaurant                  Café      Sushi Restaurant   \n\n   9th Most Common Venue 10th Most Common Venue  \n10          Cocktail Bar   Cantonese Restaurant  \n14    Chinese Restaurant              BBQ Joint  \n18    African Restaurant        Poke Restaurant  ",
      "text/html": "<div>\n<style scoped>\n    .dataframe tbody tr th:only-of-type {\n        vertical-align: middle;\n    }\n\n    .dataframe tbody tr th {\n        vertical-align: top;\n    }\n\n    .dataframe thead th {\n        text-align: right;\n    }\n</style>\n<table border=\"1\" class=\"dataframe\">\n  <thead>\n    <tr style=\"text-align: right;\">\n      <th></th>\n      <th>Neighborhood</th>\n      <th>1st Most Common Venue</th>\n      <th>2nd Most Common Venue</th>\n      <th>3rd Most Common Venue</th>\n      <th>4th Most Common Venue</th>\n      <th>5th Most Common Venue</th>\n      <th>6th Most Common Venue</th>\n      <th>7th Most Common Venue</th>\n      <th>8th Most Common Venue</th>\n      <th>9th Most Common Venue</th>\n      <th>10th Most Common Venue</th>\n    </tr>\n  </thead>\n  <tbody>\n    <tr>\n      <th>10</th>\n      <td>Parkside/Forest Hill</td>\n      <td>Chinese Restaurant</td>\n      <td>Asian Restaurant</td>\n      <td>Café</td>\n      <td>Deli</td>\n      <td>Bubble Tea Shop</td>\n      <td>American Restaurant</td>\n      <td>Pizzeria</td>\n      <td>Restaurant</td>\n      <td>Cocktail Bar</td>\n      <td>Cantonese Restaurant</td>\n    </tr>\n    <tr>\n      <th>14</th>\n      <td>Sunset</td>\n      <td>Asian Restaurant</td>\n      <td>Bakery</td>\n      <td>Bubble Tea Shop</td>\n      <td>Deli</td>\n      <td>Restaurant</td>\n      <td>Coffee Shop</td>\n      <td>Szechuan Restaurant</td>\n      <td>Cocktail Bar</td>\n      <td>Chinese Restaurant</td>\n      <td>BBQ Joint</td>\n    </tr>\n    <tr>\n      <th>18</th>\n      <td>Twin Peaks-Glen Park</td>\n      <td>Chinese Restaurant</td>\n      <td>Bakery</td>\n      <td>Burger Joint</td>\n      <td>Restaurant</td>\n      <td>Coffee Shop</td>\n      <td>Cantonese Restaurant</td>\n      <td>Café</td>\n      <td>Sushi Restaurant</td>\n      <td>African Restaurant</td>\n      <td>Poke Restaurant</td>\n    </tr>\n  </tbody>\n</table>\n</div>"
     },
     "execution_count": 56,
     "metadata": {},
     "output_type": "execute_result"
    }
   ],
   "source": [
    "#1\n",
    "df_sf_merged.loc[df_sf_merged['Cluster Labels'] == 0, df_sf_merged.columns[[1] + list(range(5, df_sf_merged.shape[1]))]]\n"
   ],
   "metadata": {
    "collapsed": false,
    "pycharm": {
     "name": "#%%\n"
    }
   }
  },
  {
   "cell_type": "code",
   "execution_count": 59,
   "outputs": [],
   "source": [
    "df_k1=df_sf_merged.loc[df_sf_merged['Cluster Labels'] == 0, df_sf_merged.columns[[1] + list(range(5, df_sf_merged.shape[1]))]]\n",
    "df_k1=df_k1.drop('Neighborhood',axis=1)"
   ],
   "metadata": {
    "collapsed": false,
    "pycharm": {
     "name": "#%%\n"
    }
   }
  },
  {
   "cell_type": "code",
   "execution_count": 60,
   "outputs": [
    {
     "name": "stdout",
     "output_type": "stream",
     "text": [
      "Chinese Restaurant    2\n",
      "Asian Restaurant      1\n",
      "Name: 1st Most Common Venue, dtype: int64\n",
      "---------------------------------\n",
      "Bakery              2\n",
      "Asian Restaurant    1\n",
      "Name: 2nd Most Common Venue, dtype: int64\n",
      "---------------------------------\n",
      "Café               1\n",
      "Bubble Tea Shop    1\n",
      "Burger Joint       1\n",
      "Name: 3rd Most Common Venue, dtype: int64\n",
      "---------------------------------\n",
      "Deli          2\n",
      "Restaurant    1\n",
      "Name: 4th Most Common Venue, dtype: int64\n",
      "---------------------------------\n",
      "Bubble Tea Shop    1\n",
      "Restaurant         1\n",
      "Coffee Shop        1\n",
      "Name: 5th Most Common Venue, dtype: int64\n",
      "---------------------------------\n",
      "American Restaurant     1\n",
      "Coffee Shop             1\n",
      "Cantonese Restaurant    1\n",
      "Name: 6th Most Common Venue, dtype: int64\n",
      "---------------------------------\n",
      "Pizzeria               1\n",
      "Szechuan Restaurant    1\n",
      "Café                   1\n",
      "Name: 7th Most Common Venue, dtype: int64\n",
      "---------------------------------\n",
      "Restaurant          1\n",
      "Cocktail Bar        1\n",
      "Sushi Restaurant    1\n",
      "Name: 8th Most Common Venue, dtype: int64\n",
      "---------------------------------\n",
      "Cocktail Bar          1\n",
      "Chinese Restaurant    1\n",
      "African Restaurant    1\n",
      "Name: 9th Most Common Venue, dtype: int64\n",
      "---------------------------------\n",
      "Cantonese Restaurant    1\n",
      "BBQ Joint               1\n",
      "Poke Restaurant         1\n",
      "Name: 10th Most Common Venue, dtype: int64\n",
      "---------------------------------\n"
     ]
    }
   ],
   "source": [
    "for col in df_k1:\n",
    "    #print(df_k1[col])\n",
    "    print(df_k1[col].value_counts(ascending= False))\n",
    "    print(\"---------------------------------\")"
   ],
   "metadata": {
    "collapsed": false,
    "pycharm": {
     "name": "#%%\n"
    }
   }
  },
  {
   "cell_type": "code",
   "execution_count": 61,
   "outputs": [
    {
     "data": {
      "text/plain": "                   Neighborhood 1st Most Common Venue   2nd Most Common Venue  \\\n21  Visitacion Valley/Sunnydale            Restaurant  Arts and Entertainment   \n\n   3rd Most Common Venue 4th Most Common Venue 5th Most Common Venue  \\\n21    African Restaurant    Mexican Restaurant              Pizzeria   \n\n   6th Most Common Venue 7th Most Common Venue    8th Most Common Venue  \\\n21   Peruvian Restaurant           Pastry Shop  North Indian Restaurant   \n\n   9th Most Common Venue   10th Most Common Venue  \n21            Night Club  New American Restaurant  ",
      "text/html": "<div>\n<style scoped>\n    .dataframe tbody tr th:only-of-type {\n        vertical-align: middle;\n    }\n\n    .dataframe tbody tr th {\n        vertical-align: top;\n    }\n\n    .dataframe thead th {\n        text-align: right;\n    }\n</style>\n<table border=\"1\" class=\"dataframe\">\n  <thead>\n    <tr style=\"text-align: right;\">\n      <th></th>\n      <th>Neighborhood</th>\n      <th>1st Most Common Venue</th>\n      <th>2nd Most Common Venue</th>\n      <th>3rd Most Common Venue</th>\n      <th>4th Most Common Venue</th>\n      <th>5th Most Common Venue</th>\n      <th>6th Most Common Venue</th>\n      <th>7th Most Common Venue</th>\n      <th>8th Most Common Venue</th>\n      <th>9th Most Common Venue</th>\n      <th>10th Most Common Venue</th>\n    </tr>\n  </thead>\n  <tbody>\n    <tr>\n      <th>21</th>\n      <td>Visitacion Valley/Sunnydale</td>\n      <td>Restaurant</td>\n      <td>Arts and Entertainment</td>\n      <td>African Restaurant</td>\n      <td>Mexican Restaurant</td>\n      <td>Pizzeria</td>\n      <td>Peruvian Restaurant</td>\n      <td>Pastry Shop</td>\n      <td>North Indian Restaurant</td>\n      <td>Night Club</td>\n      <td>New American Restaurant</td>\n    </tr>\n  </tbody>\n</table>\n</div>"
     },
     "execution_count": 61,
     "metadata": {},
     "output_type": "execute_result"
    }
   ],
   "source": [
    "#2\n",
    "df_sf_merged.loc[df_sf_merged['Cluster Labels'] == 1, df_sf_merged.columns[[1] + list(range(5, df_sf_merged.shape[1]))]]\n"
   ],
   "metadata": {
    "collapsed": false,
    "pycharm": {
     "name": "#%%\n"
    }
   }
  },
  {
   "cell_type": "code",
   "execution_count": 62,
   "outputs": [
    {
     "data": {
      "text/plain": "      Neighborhood 1st Most Common Venue 2nd Most Common Venue  \\\n13  Outer Richmond            Food Truck              Pizzeria   \n\n   3rd Most Common Venue     4th Most Common Venue 5th Most Common Venue  \\\n13             BBQ Joint  Mediterranean Restaurant   Peruvian Restaurant   \n\n   6th Most Common Venue    7th Most Common Venue 8th Most Common Venue  \\\n13           Pastry Shop  North Indian Restaurant            Night Club   \n\n      9th Most Common Venue 10th Most Common Venue  \n13  New American Restaurant            Music Venue  ",
      "text/html": "<div>\n<style scoped>\n    .dataframe tbody tr th:only-of-type {\n        vertical-align: middle;\n    }\n\n    .dataframe tbody tr th {\n        vertical-align: top;\n    }\n\n    .dataframe thead th {\n        text-align: right;\n    }\n</style>\n<table border=\"1\" class=\"dataframe\">\n  <thead>\n    <tr style=\"text-align: right;\">\n      <th></th>\n      <th>Neighborhood</th>\n      <th>1st Most Common Venue</th>\n      <th>2nd Most Common Venue</th>\n      <th>3rd Most Common Venue</th>\n      <th>4th Most Common Venue</th>\n      <th>5th Most Common Venue</th>\n      <th>6th Most Common Venue</th>\n      <th>7th Most Common Venue</th>\n      <th>8th Most Common Venue</th>\n      <th>9th Most Common Venue</th>\n      <th>10th Most Common Venue</th>\n    </tr>\n  </thead>\n  <tbody>\n    <tr>\n      <th>13</th>\n      <td>Outer Richmond</td>\n      <td>Food Truck</td>\n      <td>Pizzeria</td>\n      <td>BBQ Joint</td>\n      <td>Mediterranean Restaurant</td>\n      <td>Peruvian Restaurant</td>\n      <td>Pastry Shop</td>\n      <td>North Indian Restaurant</td>\n      <td>Night Club</td>\n      <td>New American Restaurant</td>\n      <td>Music Venue</td>\n    </tr>\n  </tbody>\n</table>\n</div>"
     },
     "execution_count": 62,
     "metadata": {},
     "output_type": "execute_result"
    }
   ],
   "source": [
    "#3\n",
    "df_sf_merged.loc[df_sf_merged['Cluster Labels'] == 2, df_sf_merged.columns[[1] + list(range(5, df_sf_merged.shape[1]))]]"
   ],
   "metadata": {
    "collapsed": false,
    "pycharm": {
     "name": "#%%\n"
    }
   }
  },
  {
   "cell_type": "code",
   "execution_count": 63,
   "outputs": [
    {
     "data": {
      "text/plain": "             Neighborhood 1st Most Common Venue 2nd Most Common Venue  \\\n16  Bayview-Hunters Point            Restaurant           Coffee Shop   \n\n   3rd Most Common Venue 4th Most Common Venue 5th Most Common Venue  \\\n16                   Bar               Meadery   Dining and Drinking   \n\n   6th Most Common Venue 7th Most Common Venue 8th Most Common Venue  \\\n16          Dessert Shop    Chinese Restaurant             Juice Bar   \n\n   9th Most Common Venue     10th Most Common Venue  \n16              Tea Room  Middle Eastern Restaurant  ",
      "text/html": "<div>\n<style scoped>\n    .dataframe tbody tr th:only-of-type {\n        vertical-align: middle;\n    }\n\n    .dataframe tbody tr th {\n        vertical-align: top;\n    }\n\n    .dataframe thead th {\n        text-align: right;\n    }\n</style>\n<table border=\"1\" class=\"dataframe\">\n  <thead>\n    <tr style=\"text-align: right;\">\n      <th></th>\n      <th>Neighborhood</th>\n      <th>1st Most Common Venue</th>\n      <th>2nd Most Common Venue</th>\n      <th>3rd Most Common Venue</th>\n      <th>4th Most Common Venue</th>\n      <th>5th Most Common Venue</th>\n      <th>6th Most Common Venue</th>\n      <th>7th Most Common Venue</th>\n      <th>8th Most Common Venue</th>\n      <th>9th Most Common Venue</th>\n      <th>10th Most Common Venue</th>\n    </tr>\n  </thead>\n  <tbody>\n    <tr>\n      <th>16</th>\n      <td>Bayview-Hunters Point</td>\n      <td>Restaurant</td>\n      <td>Coffee Shop</td>\n      <td>Bar</td>\n      <td>Meadery</td>\n      <td>Dining and Drinking</td>\n      <td>Dessert Shop</td>\n      <td>Chinese Restaurant</td>\n      <td>Juice Bar</td>\n      <td>Tea Room</td>\n      <td>Middle Eastern Restaurant</td>\n    </tr>\n  </tbody>\n</table>\n</div>"
     },
     "execution_count": 63,
     "metadata": {},
     "output_type": "execute_result"
    }
   ],
   "source": [
    "#4\n",
    "df_sf_merged.loc[df_sf_merged['Cluster Labels'] == 3, df_sf_merged.columns[[1] + list(range(5, df_sf_merged.shape[1]))]]"
   ],
   "metadata": {
    "collapsed": false,
    "pycharm": {
     "name": "#%%\n"
    }
   }
  },
  {
   "cell_type": "code",
   "execution_count": 64,
   "outputs": [
    {
     "data": {
      "text/plain": "                               Neighborhood      1st Most Common Venue  \\\n1   Hayes Valley/Tenderloin/North of Market               Cocktail Bar   \n2                           South of Market                 Night Club   \n3                              Potrero Hill               Cocktail Bar   \n4                                 Chinatown                 Restaurant   \n5              Polk/Russian Hill (Nob Hill)               Cocktail Bar   \n6              Inner Mission/Bernal Heights                 Restaurant   \n7        Ingelside-Excelsior/Crocker-Amazon  Latin American Restaurant   \n8                         Castro/Noe Valley                 Restaurant   \n9                Western Addition/Japantown       Fast Food Restaurant   \n11                           Haight-Ashbury                       Café   \n12                           Inner Richmond      Vietnamese Restaurant   \n15                                   Marina                 Restaurant   \n17    St. Francis Wood/Miraloma/West Portal            Thai Restaurant   \n19                              Lake Merced                 Restaurant   \n20                    North Beach/Chinatown               Cocktail Bar   \n\n   2nd Most Common Venue 3rd Most Common Venue 4th Most Common Venue  \\\n1       Asian Restaurant           Coffee Shop                  Café   \n2            Coffee Shop   Dining and Drinking               Gay Bar   \n3                 Bakery              Wine Bar      Ice Cream Parlor   \n4           Cocktail Bar                  Café     Korean Restaurant   \n5            Coffee Shop      Asian Restaurant            Night Club   \n6                 Bakery   American Restaurant              Pizzeria   \n7       Asian Restaurant              Pizzeria                Bakery   \n8           Burger Joint                Bakery              Pizzeria   \n9            Coffee Shop            Night Club   American Restaurant   \n11           Coffee Shop          Cocktail Bar       Thai Restaurant   \n12              Pizzeria            Restaurant          Cocktail Bar   \n15          Cocktail Bar          Burger Joint   American Restaurant   \n17    Chinese Restaurant            Restaurant              Tea Room   \n19              Pizzeria   Sandwich Restaurant                  Café   \n20            Restaurant                Bakery              Pizzeria   \n\n            5th Most Common Venue 6th Most Common Venue 7th Most Common Venue  \\\n1   Cafes, Coffee, and Tea Houses            Restaurant   Sandwich Restaurant   \n2                            Café            Restaurant   Japanese Restaurant   \n3                    Dessert Shop                   Bar              Pizzeria   \n4             American Restaurant       Bubble Tea Shop           Coffee Shop   \n5                          Bakery                   Bar                  Deli   \n6            Fast Food Restaurant            Food Truck                Winery   \n7              Chinese Restaurant                  Café  Fast Food Restaurant   \n8              Mexican Restaurant           Coffee Shop            Sports Bar   \n9                            Café      Asian Restaurant              Pizzeria   \n11                            Pub  Fast Food Restaurant            Restaurant   \n12             Chinese Restaurant          Burger Joint                  Deli   \n15                            Bar                  Deli    Mexican Restaurant   \n17                       Dive Bar   Sandwich Restaurant    African Restaurant   \n19                   Burger Joint            Bagel Shop   American Restaurant   \n20                           Café    Italian Restaurant                  Deli   \n\n        8th Most Common Venue      9th Most Common Venue  \\\n1                Burger Joint            Thai Restaurant   \n2          Chinese Restaurant                 Food Truck   \n3         American Restaurant                  BBQ Joint   \n4            Sushi Restaurant                   Pizzeria   \n5                Burger Joint                      Diner   \n6                   Juice Bar  Latin American Restaurant   \n7                   BBQ Joint        American Restaurant   \n8            Sushi Restaurant        American Restaurant   \n9                Burger Joint                Karaoke Bar   \n11                   Dive Bar       Caribbean Restaurant   \n12       Fast Food Restaurant        American Restaurant   \n15           Ramen Restaurant                   Dive Bar   \n17  Middle Eastern Restaurant                Pastry Shop   \n19           Halal Restaurant                Coffee Shop   \n20                   Beer Bar                   Wine Bar   \n\n     10th Most Common Venue  \n1          Greek Restaurant  \n2        Mexican Restaurant  \n3           Bubble Tea Shop  \n4              Burger Joint  \n5                      Café  \n6                Night Club  \n7     Vietnamese Restaurant  \n8          Ice Cream Parlor  \n9        Italian Restaurant  \n11         Ice Cream Parlor  \n12          Thai Restaurant  \n15              Coffee Shop  \n17  North Indian Restaurant  \n19             Cocktail Bar  \n20               Sports Bar  ",
      "text/html": "<div>\n<style scoped>\n    .dataframe tbody tr th:only-of-type {\n        vertical-align: middle;\n    }\n\n    .dataframe tbody tr th {\n        vertical-align: top;\n    }\n\n    .dataframe thead th {\n        text-align: right;\n    }\n</style>\n<table border=\"1\" class=\"dataframe\">\n  <thead>\n    <tr style=\"text-align: right;\">\n      <th></th>\n      <th>Neighborhood</th>\n      <th>1st Most Common Venue</th>\n      <th>2nd Most Common Venue</th>\n      <th>3rd Most Common Venue</th>\n      <th>4th Most Common Venue</th>\n      <th>5th Most Common Venue</th>\n      <th>6th Most Common Venue</th>\n      <th>7th Most Common Venue</th>\n      <th>8th Most Common Venue</th>\n      <th>9th Most Common Venue</th>\n      <th>10th Most Common Venue</th>\n    </tr>\n  </thead>\n  <tbody>\n    <tr>\n      <th>1</th>\n      <td>Hayes Valley/Tenderloin/North of Market</td>\n      <td>Cocktail Bar</td>\n      <td>Asian Restaurant</td>\n      <td>Coffee Shop</td>\n      <td>Café</td>\n      <td>Cafes, Coffee, and Tea Houses</td>\n      <td>Restaurant</td>\n      <td>Sandwich Restaurant</td>\n      <td>Burger Joint</td>\n      <td>Thai Restaurant</td>\n      <td>Greek Restaurant</td>\n    </tr>\n    <tr>\n      <th>2</th>\n      <td>South of Market</td>\n      <td>Night Club</td>\n      <td>Coffee Shop</td>\n      <td>Dining and Drinking</td>\n      <td>Gay Bar</td>\n      <td>Café</td>\n      <td>Restaurant</td>\n      <td>Japanese Restaurant</td>\n      <td>Chinese Restaurant</td>\n      <td>Food Truck</td>\n      <td>Mexican Restaurant</td>\n    </tr>\n    <tr>\n      <th>3</th>\n      <td>Potrero Hill</td>\n      <td>Cocktail Bar</td>\n      <td>Bakery</td>\n      <td>Wine Bar</td>\n      <td>Ice Cream Parlor</td>\n      <td>Dessert Shop</td>\n      <td>Bar</td>\n      <td>Pizzeria</td>\n      <td>American Restaurant</td>\n      <td>BBQ Joint</td>\n      <td>Bubble Tea Shop</td>\n    </tr>\n    <tr>\n      <th>4</th>\n      <td>Chinatown</td>\n      <td>Restaurant</td>\n      <td>Cocktail Bar</td>\n      <td>Café</td>\n      <td>Korean Restaurant</td>\n      <td>American Restaurant</td>\n      <td>Bubble Tea Shop</td>\n      <td>Coffee Shop</td>\n      <td>Sushi Restaurant</td>\n      <td>Pizzeria</td>\n      <td>Burger Joint</td>\n    </tr>\n    <tr>\n      <th>5</th>\n      <td>Polk/Russian Hill (Nob Hill)</td>\n      <td>Cocktail Bar</td>\n      <td>Coffee Shop</td>\n      <td>Asian Restaurant</td>\n      <td>Night Club</td>\n      <td>Bakery</td>\n      <td>Bar</td>\n      <td>Deli</td>\n      <td>Burger Joint</td>\n      <td>Diner</td>\n      <td>Café</td>\n    </tr>\n    <tr>\n      <th>6</th>\n      <td>Inner Mission/Bernal Heights</td>\n      <td>Restaurant</td>\n      <td>Bakery</td>\n      <td>American Restaurant</td>\n      <td>Pizzeria</td>\n      <td>Fast Food Restaurant</td>\n      <td>Food Truck</td>\n      <td>Winery</td>\n      <td>Juice Bar</td>\n      <td>Latin American Restaurant</td>\n      <td>Night Club</td>\n    </tr>\n    <tr>\n      <th>7</th>\n      <td>Ingelside-Excelsior/Crocker-Amazon</td>\n      <td>Latin American Restaurant</td>\n      <td>Asian Restaurant</td>\n      <td>Pizzeria</td>\n      <td>Bakery</td>\n      <td>Chinese Restaurant</td>\n      <td>Café</td>\n      <td>Fast Food Restaurant</td>\n      <td>BBQ Joint</td>\n      <td>American Restaurant</td>\n      <td>Vietnamese Restaurant</td>\n    </tr>\n    <tr>\n      <th>8</th>\n      <td>Castro/Noe Valley</td>\n      <td>Restaurant</td>\n      <td>Burger Joint</td>\n      <td>Bakery</td>\n      <td>Pizzeria</td>\n      <td>Mexican Restaurant</td>\n      <td>Coffee Shop</td>\n      <td>Sports Bar</td>\n      <td>Sushi Restaurant</td>\n      <td>American Restaurant</td>\n      <td>Ice Cream Parlor</td>\n    </tr>\n    <tr>\n      <th>9</th>\n      <td>Western Addition/Japantown</td>\n      <td>Fast Food Restaurant</td>\n      <td>Coffee Shop</td>\n      <td>Night Club</td>\n      <td>American Restaurant</td>\n      <td>Café</td>\n      <td>Asian Restaurant</td>\n      <td>Pizzeria</td>\n      <td>Burger Joint</td>\n      <td>Karaoke Bar</td>\n      <td>Italian Restaurant</td>\n    </tr>\n    <tr>\n      <th>11</th>\n      <td>Haight-Ashbury</td>\n      <td>Café</td>\n      <td>Coffee Shop</td>\n      <td>Cocktail Bar</td>\n      <td>Thai Restaurant</td>\n      <td>Pub</td>\n      <td>Fast Food Restaurant</td>\n      <td>Restaurant</td>\n      <td>Dive Bar</td>\n      <td>Caribbean Restaurant</td>\n      <td>Ice Cream Parlor</td>\n    </tr>\n    <tr>\n      <th>12</th>\n      <td>Inner Richmond</td>\n      <td>Vietnamese Restaurant</td>\n      <td>Pizzeria</td>\n      <td>Restaurant</td>\n      <td>Cocktail Bar</td>\n      <td>Chinese Restaurant</td>\n      <td>Burger Joint</td>\n      <td>Deli</td>\n      <td>Fast Food Restaurant</td>\n      <td>American Restaurant</td>\n      <td>Thai Restaurant</td>\n    </tr>\n    <tr>\n      <th>15</th>\n      <td>Marina</td>\n      <td>Restaurant</td>\n      <td>Cocktail Bar</td>\n      <td>Burger Joint</td>\n      <td>American Restaurant</td>\n      <td>Bar</td>\n      <td>Deli</td>\n      <td>Mexican Restaurant</td>\n      <td>Ramen Restaurant</td>\n      <td>Dive Bar</td>\n      <td>Coffee Shop</td>\n    </tr>\n    <tr>\n      <th>17</th>\n      <td>St. Francis Wood/Miraloma/West Portal</td>\n      <td>Thai Restaurant</td>\n      <td>Chinese Restaurant</td>\n      <td>Restaurant</td>\n      <td>Tea Room</td>\n      <td>Dive Bar</td>\n      <td>Sandwich Restaurant</td>\n      <td>African Restaurant</td>\n      <td>Middle Eastern Restaurant</td>\n      <td>Pastry Shop</td>\n      <td>North Indian Restaurant</td>\n    </tr>\n    <tr>\n      <th>19</th>\n      <td>Lake Merced</td>\n      <td>Restaurant</td>\n      <td>Pizzeria</td>\n      <td>Sandwich Restaurant</td>\n      <td>Café</td>\n      <td>Burger Joint</td>\n      <td>Bagel Shop</td>\n      <td>American Restaurant</td>\n      <td>Halal Restaurant</td>\n      <td>Coffee Shop</td>\n      <td>Cocktail Bar</td>\n    </tr>\n    <tr>\n      <th>20</th>\n      <td>North Beach/Chinatown</td>\n      <td>Cocktail Bar</td>\n      <td>Restaurant</td>\n      <td>Bakery</td>\n      <td>Pizzeria</td>\n      <td>Café</td>\n      <td>Italian Restaurant</td>\n      <td>Deli</td>\n      <td>Beer Bar</td>\n      <td>Wine Bar</td>\n      <td>Sports Bar</td>\n    </tr>\n  </tbody>\n</table>\n</div>"
     },
     "execution_count": 64,
     "metadata": {},
     "output_type": "execute_result"
    }
   ],
   "source": [
    "#5\n",
    "df_sf_merged.loc[df_sf_merged['Cluster Labels'] == 4, df_sf_merged.columns[[1] + list(range(5, df_sf_merged.shape[1]))]]"
   ],
   "metadata": {
    "collapsed": false,
    "pycharm": {
     "name": "#%%\n"
    }
   }
  },
  {
   "cell_type": "code",
   "execution_count": 70,
   "outputs": [],
   "source": [
    "df_k5 = df_sf_merged.loc[\n",
    "    df_sf_merged['Cluster Labels'] == 4, df_sf_merged.columns[[1] + list(range(5, df_sf_merged.shape[1]))]]\n",
    "df_k5 = df_k5.drop('Neighborhood', axis=1)"
   ],
   "metadata": {
    "collapsed": false,
    "pycharm": {
     "name": "#%%\n"
    }
   }
  },
  {
   "cell_type": "code",
   "execution_count": 71,
   "outputs": [
    {
     "name": "stdout",
     "output_type": "stream",
     "text": [
      "Restaurant                   5\n",
      "Cocktail Bar                 4\n",
      "Night Club                   1\n",
      "Latin American Restaurant    1\n",
      "Fast Food Restaurant         1\n",
      "Café                         1\n",
      "Vietnamese Restaurant        1\n",
      "Thai Restaurant              1\n",
      "Name: 1st Most Common Venue, dtype: int64\n",
      "---------\n",
      "Coffee Shop           4\n",
      "Asian Restaurant      2\n",
      "Bakery                2\n",
      "Cocktail Bar          2\n",
      "Pizzeria              2\n",
      "Burger Joint          1\n",
      "Chinese Restaurant    1\n",
      "Restaurant            1\n",
      "Name: 2nd Most Common Venue, dtype: int64\n",
      "---------\n",
      "Bakery                 2\n",
      "Restaurant             2\n",
      "Coffee Shop            1\n",
      "Dining and Drinking    1\n",
      "Wine Bar               1\n",
      "Café                   1\n",
      "Asian Restaurant       1\n",
      "American Restaurant    1\n",
      "Pizzeria               1\n",
      "Night Club             1\n",
      "Cocktail Bar           1\n",
      "Burger Joint           1\n",
      "Sandwich Restaurant    1\n",
      "Name: 3rd Most Common Venue, dtype: int64\n",
      "---------\n",
      "Pizzeria               3\n",
      "Café                   2\n",
      "American Restaurant    2\n",
      "Gay Bar                1\n",
      "Ice Cream Parlor       1\n",
      "Korean Restaurant      1\n",
      "Night Club             1\n",
      "Bakery                 1\n",
      "Thai Restaurant        1\n",
      "Cocktail Bar           1\n",
      "Tea Room               1\n",
      "Name: 4th Most Common Venue, dtype: int64\n",
      "---------\n",
      "Café                             3\n",
      "Chinese Restaurant               2\n",
      "Cafes, Coffee, and Tea Houses    1\n",
      "Dessert Shop                     1\n",
      "American Restaurant              1\n",
      "Bakery                           1\n",
      "Fast Food Restaurant             1\n",
      "Mexican Restaurant               1\n",
      "Pub                              1\n",
      "Bar                              1\n",
      "Dive Bar                         1\n",
      "Burger Joint                     1\n",
      "Name: 5th Most Common Venue, dtype: int64\n",
      "---------\n",
      "Restaurant              2\n",
      "Bar                     2\n",
      "Bubble Tea Shop         1\n",
      "Food Truck              1\n",
      "Café                    1\n",
      "Coffee Shop             1\n",
      "Asian Restaurant        1\n",
      "Fast Food Restaurant    1\n",
      "Burger Joint            1\n",
      "Deli                    1\n",
      "Sandwich Restaurant     1\n",
      "Bagel Shop              1\n",
      "Italian Restaurant      1\n",
      "Name: 6th Most Common Venue, dtype: int64\n",
      "---------\n",
      "Deli                    3\n",
      "Pizzeria                2\n",
      "Sandwich Restaurant     1\n",
      "Japanese Restaurant     1\n",
      "Coffee Shop             1\n",
      "Winery                  1\n",
      "Fast Food Restaurant    1\n",
      "Sports Bar              1\n",
      "Restaurant              1\n",
      "Mexican Restaurant      1\n",
      "African Restaurant      1\n",
      "American Restaurant     1\n",
      "Name: 7th Most Common Venue, dtype: int64\n",
      "---------\n",
      "Burger Joint                 3\n",
      "Sushi Restaurant             2\n",
      "Chinese Restaurant           1\n",
      "American Restaurant          1\n",
      "Juice Bar                    1\n",
      "BBQ Joint                    1\n",
      "Dive Bar                     1\n",
      "Fast Food Restaurant         1\n",
      "Ramen Restaurant             1\n",
      "Middle Eastern Restaurant    1\n",
      "Halal Restaurant             1\n",
      "Beer Bar                     1\n",
      "Name: 8th Most Common Venue, dtype: int64\n",
      "---------\n",
      "American Restaurant          3\n",
      "Thai Restaurant              1\n",
      "Food Truck                   1\n",
      "BBQ Joint                    1\n",
      "Pizzeria                     1\n",
      "Diner                        1\n",
      "Latin American Restaurant    1\n",
      "Karaoke Bar                  1\n",
      "Caribbean Restaurant         1\n",
      "Dive Bar                     1\n",
      "Pastry Shop                  1\n",
      "Coffee Shop                  1\n",
      "Wine Bar                     1\n",
      "Name: 9th Most Common Venue, dtype: int64\n",
      "---------\n",
      "Ice Cream Parlor           2\n",
      "Greek Restaurant           1\n",
      "Mexican Restaurant         1\n",
      "Bubble Tea Shop            1\n",
      "Burger Joint               1\n",
      "Café                       1\n",
      "Night Club                 1\n",
      "Vietnamese Restaurant      1\n",
      "Italian Restaurant         1\n",
      "Thai Restaurant            1\n",
      "Coffee Shop                1\n",
      "North Indian Restaurant    1\n",
      "Cocktail Bar               1\n",
      "Sports Bar                 1\n",
      "Name: 10th Most Common Venue, dtype: int64\n",
      "---------\n"
     ]
    }
   ],
   "source": [
    "for col in df_k5:\n",
    "    #print(df_k1[col])\n",
    "    print(df_k5[col].value_counts(ascending=False))\n",
    "    print(\"---------\")"
   ],
   "metadata": {
    "collapsed": false,
    "pycharm": {
     "name": "#%%\n"
    }
   }
  },
  {
   "cell_type": "code",
   "execution_count": null,
   "outputs": [],
   "source": [],
   "metadata": {
    "collapsed": false,
    "pycharm": {
     "name": "#%%\n"
    }
   }
  }
 ]
}